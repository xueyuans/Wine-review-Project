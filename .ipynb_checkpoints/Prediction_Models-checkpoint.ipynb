{
 "cells": [
  {
   "cell_type": "code",
   "execution_count": 35,
   "metadata": {},
   "outputs": [
    {
     "data": {
      "text/html": [
       "<div>\n",
       "<style scoped>\n",
       "    .dataframe tbody tr th:only-of-type {\n",
       "        vertical-align: middle;\n",
       "    }\n",
       "\n",
       "    .dataframe tbody tr th {\n",
       "        vertical-align: top;\n",
       "    }\n",
       "\n",
       "    .dataframe thead th {\n",
       "        text-align: right;\n",
       "    }\n",
       "</style>\n",
       "<table border=\"1\" class=\"dataframe\">\n",
       "  <thead>\n",
       "    <tr style=\"text-align: right;\">\n",
       "      <th></th>\n",
       "      <th>Unnamed: 0</th>\n",
       "      <th>country</th>\n",
       "      <th>description</th>\n",
       "      <th>designation</th>\n",
       "      <th>points</th>\n",
       "      <th>price</th>\n",
       "      <th>province</th>\n",
       "      <th>region_1</th>\n",
       "      <th>region_2</th>\n",
       "      <th>taster_name</th>\n",
       "      <th>taster_twitter_handle</th>\n",
       "      <th>title</th>\n",
       "      <th>variety</th>\n",
       "      <th>winery</th>\n",
       "    </tr>\n",
       "  </thead>\n",
       "  <tbody>\n",
       "    <tr>\n",
       "      <th>0</th>\n",
       "      <td>0</td>\n",
       "      <td>Italy</td>\n",
       "      <td>Aromas include tropical fruit, broom, brimston...</td>\n",
       "      <td>Vulkà Bianco</td>\n",
       "      <td>87</td>\n",
       "      <td>NaN</td>\n",
       "      <td>Sicily &amp; Sardinia</td>\n",
       "      <td>Etna</td>\n",
       "      <td>NaN</td>\n",
       "      <td>Kerin O’Keefe</td>\n",
       "      <td>@kerinokeefe</td>\n",
       "      <td>Nicosia 2013 Vulkà Bianco  (Etna)</td>\n",
       "      <td>White Blend</td>\n",
       "      <td>Nicosia</td>\n",
       "    </tr>\n",
       "    <tr>\n",
       "      <th>1</th>\n",
       "      <td>1</td>\n",
       "      <td>Portugal</td>\n",
       "      <td>This is ripe and fruity, a wine that is smooth...</td>\n",
       "      <td>Avidagos</td>\n",
       "      <td>87</td>\n",
       "      <td>15.0</td>\n",
       "      <td>Douro</td>\n",
       "      <td>NaN</td>\n",
       "      <td>NaN</td>\n",
       "      <td>Roger Voss</td>\n",
       "      <td>@vossroger</td>\n",
       "      <td>Quinta dos Avidagos 2011 Avidagos Red (Douro)</td>\n",
       "      <td>Portuguese Red</td>\n",
       "      <td>Quinta dos Avidagos</td>\n",
       "    </tr>\n",
       "    <tr>\n",
       "      <th>2</th>\n",
       "      <td>2</td>\n",
       "      <td>US</td>\n",
       "      <td>Tart and snappy, the flavors of lime flesh and...</td>\n",
       "      <td>NaN</td>\n",
       "      <td>87</td>\n",
       "      <td>14.0</td>\n",
       "      <td>Oregon</td>\n",
       "      <td>Willamette Valley</td>\n",
       "      <td>Willamette Valley</td>\n",
       "      <td>Paul Gregutt</td>\n",
       "      <td>@paulgwine</td>\n",
       "      <td>Rainstorm 2013 Pinot Gris (Willamette Valley)</td>\n",
       "      <td>Pinot Gris</td>\n",
       "      <td>Rainstorm</td>\n",
       "    </tr>\n",
       "    <tr>\n",
       "      <th>3</th>\n",
       "      <td>3</td>\n",
       "      <td>US</td>\n",
       "      <td>Pineapple rind, lemon pith and orange blossom ...</td>\n",
       "      <td>Reserve Late Harvest</td>\n",
       "      <td>87</td>\n",
       "      <td>13.0</td>\n",
       "      <td>Michigan</td>\n",
       "      <td>Lake Michigan Shore</td>\n",
       "      <td>NaN</td>\n",
       "      <td>Alexander Peartree</td>\n",
       "      <td>NaN</td>\n",
       "      <td>St. Julian 2013 Reserve Late Harvest Riesling ...</td>\n",
       "      <td>Riesling</td>\n",
       "      <td>St. Julian</td>\n",
       "    </tr>\n",
       "    <tr>\n",
       "      <th>4</th>\n",
       "      <td>4</td>\n",
       "      <td>US</td>\n",
       "      <td>Much like the regular bottling from 2012, this...</td>\n",
       "      <td>Vintner's Reserve Wild Child Block</td>\n",
       "      <td>87</td>\n",
       "      <td>65.0</td>\n",
       "      <td>Oregon</td>\n",
       "      <td>Willamette Valley</td>\n",
       "      <td>Willamette Valley</td>\n",
       "      <td>Paul Gregutt</td>\n",
       "      <td>@paulgwine</td>\n",
       "      <td>Sweet Cheeks 2012 Vintner's Reserve Wild Child...</td>\n",
       "      <td>Pinot Noir</td>\n",
       "      <td>Sweet Cheeks</td>\n",
       "    </tr>\n",
       "  </tbody>\n",
       "</table>\n",
       "</div>"
      ],
      "text/plain": [
       "   Unnamed: 0   country                                        description  \\\n",
       "0           0     Italy  Aromas include tropical fruit, broom, brimston...   \n",
       "1           1  Portugal  This is ripe and fruity, a wine that is smooth...   \n",
       "2           2        US  Tart and snappy, the flavors of lime flesh and...   \n",
       "3           3        US  Pineapple rind, lemon pith and orange blossom ...   \n",
       "4           4        US  Much like the regular bottling from 2012, this...   \n",
       "\n",
       "                          designation  points  price           province  \\\n",
       "0                        Vulkà Bianco      87    NaN  Sicily & Sardinia   \n",
       "1                            Avidagos      87   15.0              Douro   \n",
       "2                                 NaN      87   14.0             Oregon   \n",
       "3                Reserve Late Harvest      87   13.0           Michigan   \n",
       "4  Vintner's Reserve Wild Child Block      87   65.0             Oregon   \n",
       "\n",
       "              region_1           region_2         taster_name  \\\n",
       "0                 Etna                NaN       Kerin O’Keefe   \n",
       "1                  NaN                NaN          Roger Voss   \n",
       "2    Willamette Valley  Willamette Valley        Paul Gregutt   \n",
       "3  Lake Michigan Shore                NaN  Alexander Peartree   \n",
       "4    Willamette Valley  Willamette Valley        Paul Gregutt   \n",
       "\n",
       "  taster_twitter_handle                                              title  \\\n",
       "0          @kerinokeefe                  Nicosia 2013 Vulkà Bianco  (Etna)   \n",
       "1            @vossroger      Quinta dos Avidagos 2011 Avidagos Red (Douro)   \n",
       "2           @paulgwine       Rainstorm 2013 Pinot Gris (Willamette Valley)   \n",
       "3                   NaN  St. Julian 2013 Reserve Late Harvest Riesling ...   \n",
       "4           @paulgwine   Sweet Cheeks 2012 Vintner's Reserve Wild Child...   \n",
       "\n",
       "          variety               winery  \n",
       "0     White Blend              Nicosia  \n",
       "1  Portuguese Red  Quinta dos Avidagos  \n",
       "2      Pinot Gris            Rainstorm  \n",
       "3        Riesling           St. Julian  \n",
       "4      Pinot Noir         Sweet Cheeks  "
      ]
     },
     "execution_count": 35,
     "metadata": {},
     "output_type": "execute_result"
    }
   ],
   "source": [
    "from sklearn.externals import joblib\n",
    "import pandas as pd\n",
    "from sklearn.metrics import r2_score\n",
    "from sklearn import linear_model\n",
    "from sklearn.preprocessing import LabelEncoder\n",
    "from sklearn.model_selection import train_test_split\n",
    "from sklearn.metrics import r2_score\n",
    "from sklearn import linear_model\n",
    "from sklearn.linear_model import LogisticRegression\n",
    "import matplotlib.pyplot as plt\n",
    "from sklearn.preprocessing import PolynomialFeatures\n",
    "import numpy as np\n",
    "from sklearn.metrics import accuracy_score\n",
    "from sklearn.metrics import precision_score, recall_score\n",
    "from sklearn.metrics import f1_score\n",
    "from sklearn.feature_extraction.text import CountVectorizer, TfidfVectorizer\n",
    "from sklearn.model_selection import train_test_split\n",
    "from sklearn.metrics import confusion_matrix, classification_report\n",
    "import re\n",
    "import seaborn as sns\n",
    "from sklearn.tree import DecisionTreeClassifier\n",
    "from sklearn.neighbors import KNeighborsClassifier\n",
    "from sklearn.naive_bayes import GaussianNB\n",
    "from sklearn.ensemble import RandomForestClassifier\n",
    "\n",
    "\n",
    "init_df = pd.read_csv('/Users/yiyangzhang/CS@Northeastern University/CS7180_AI/Wine-review-Project-master/wine-reviews_data/winemag-data-130k-v2.csv', na_values=\"?\")\n",
    "init_df.head()"
   ]
  },
  {
   "cell_type": "code",
   "execution_count": 36,
   "metadata": {},
   "outputs": [],
   "source": [
    "## remove outliear\n",
    "df = init_df.where(init_df['price'] < 1500)"
   ]
  },
  {
   "cell_type": "code",
   "execution_count": 37,
   "metadata": {},
   "outputs": [],
   "source": [
    "def GoodRating(row):\n",
    "    if row['points'] >= 92:\n",
    "        val = 3\n",
    "    elif row['points'] >= 86 and row['points'] < 92:\n",
    "        val = 2\n",
    "    else:\n",
    "        val = 1\n",
    "    return(val)"
   ]
  },
  {
   "cell_type": "code",
   "execution_count": 43,
   "metadata": {},
   "outputs": [],
   "source": [
    "def print_score(y_true,y_pred):\n",
    "    accuracy_dt =  accuracy_score(y_true,y_pred)*100\n",
    "    print('Accuracy: ', accuracy_dt)\n",
    "    precision_dt = precision_score(y_true,y_pred,average='weighted')*100\n",
    "    print('Precision: ', precision_dt)\n",
    "    recall_dt = recall_score(y_true,y_pred,average='weighted')*100\n",
    "    print('Recall: ', recall_dt)\n",
    "    f1_dt = f1_score(y_true,y_pred,average='weighted')*100\n",
    "    print('f1 Score: ', f1_dt)"
   ]
  },
  {
   "cell_type": "code",
   "execution_count": 38,
   "metadata": {},
   "outputs": [],
   "source": [
    "# df_1['quality_level'] = df.apply(GoodRating, axis=1)\n",
    "# df_1 = df_1.drop(['points'],1)\n",
    "# df_1.head()"
   ]
  },
  {
   "cell_type": "code",
   "execution_count": 39,
   "metadata": {},
   "outputs": [
    {
     "data": {
      "text/html": [
       "<div>\n",
       "<style scoped>\n",
       "    .dataframe tbody tr th:only-of-type {\n",
       "        vertical-align: middle;\n",
       "    }\n",
       "\n",
       "    .dataframe tbody tr th {\n",
       "        vertical-align: top;\n",
       "    }\n",
       "\n",
       "    .dataframe thead th {\n",
       "        text-align: right;\n",
       "    }\n",
       "</style>\n",
       "<table border=\"1\" class=\"dataframe\">\n",
       "  <thead>\n",
       "    <tr style=\"text-align: right;\">\n",
       "      <th></th>\n",
       "      <th>price</th>\n",
       "      <th>points</th>\n",
       "    </tr>\n",
       "  </thead>\n",
       "  <tbody>\n",
       "    <tr>\n",
       "      <th>1</th>\n",
       "      <td>15.0</td>\n",
       "      <td>87.0</td>\n",
       "    </tr>\n",
       "    <tr>\n",
       "      <th>2</th>\n",
       "      <td>14.0</td>\n",
       "      <td>87.0</td>\n",
       "    </tr>\n",
       "    <tr>\n",
       "      <th>3</th>\n",
       "      <td>13.0</td>\n",
       "      <td>87.0</td>\n",
       "    </tr>\n",
       "    <tr>\n",
       "      <th>4</th>\n",
       "      <td>65.0</td>\n",
       "      <td>87.0</td>\n",
       "    </tr>\n",
       "    <tr>\n",
       "      <th>5</th>\n",
       "      <td>15.0</td>\n",
       "      <td>87.0</td>\n",
       "    </tr>\n",
       "  </tbody>\n",
       "</table>\n",
       "</div>"
      ],
      "text/plain": [
       "   price  points\n",
       "1   15.0    87.0\n",
       "2   14.0    87.0\n",
       "3   13.0    87.0\n",
       "4   65.0    87.0\n",
       "5   15.0    87.0"
      ]
     },
     "execution_count": 39,
     "metadata": {},
     "output_type": "execute_result"
    }
   ],
   "source": [
    "df_1 = df[['price', 'points']]\n",
    "df_1 = df_1.dropna()\n",
    "df_1.head()"
   ]
  },
  {
   "cell_type": "code",
   "execution_count": 40,
   "metadata": {},
   "outputs": [
    {
     "data": {
      "text/html": [
       "<div>\n",
       "<style scoped>\n",
       "    .dataframe tbody tr th:only-of-type {\n",
       "        vertical-align: middle;\n",
       "    }\n",
       "\n",
       "    .dataframe tbody tr th {\n",
       "        vertical-align: top;\n",
       "    }\n",
       "\n",
       "    .dataframe thead th {\n",
       "        text-align: right;\n",
       "    }\n",
       "</style>\n",
       "<table border=\"1\" class=\"dataframe\">\n",
       "  <thead>\n",
       "    <tr style=\"text-align: right;\">\n",
       "      <th></th>\n",
       "      <th>price</th>\n",
       "      <th>quality_level</th>\n",
       "    </tr>\n",
       "  </thead>\n",
       "  <tbody>\n",
       "    <tr>\n",
       "      <th>1</th>\n",
       "      <td>15.0</td>\n",
       "      <td>2</td>\n",
       "    </tr>\n",
       "    <tr>\n",
       "      <th>2</th>\n",
       "      <td>14.0</td>\n",
       "      <td>2</td>\n",
       "    </tr>\n",
       "    <tr>\n",
       "      <th>3</th>\n",
       "      <td>13.0</td>\n",
       "      <td>2</td>\n",
       "    </tr>\n",
       "    <tr>\n",
       "      <th>4</th>\n",
       "      <td>65.0</td>\n",
       "      <td>2</td>\n",
       "    </tr>\n",
       "    <tr>\n",
       "      <th>5</th>\n",
       "      <td>15.0</td>\n",
       "      <td>2</td>\n",
       "    </tr>\n",
       "  </tbody>\n",
       "</table>\n",
       "</div>"
      ],
      "text/plain": [
       "   price  quality_level\n",
       "1   15.0              2\n",
       "2   14.0              2\n",
       "3   13.0              2\n",
       "4   65.0              2\n",
       "5   15.0              2"
      ]
     },
     "execution_count": 40,
     "metadata": {},
     "output_type": "execute_result"
    }
   ],
   "source": [
    "df_1['quality_level'] = df_1.apply(GoodRating, axis=1)\n",
    "df_1 = df_1.drop(['points'],1)\n",
    "df_1.head()"
   ]
  },
  {
   "cell_type": "code",
   "execution_count": 47,
   "metadata": {},
   "outputs": [],
   "source": [
    "X1 = df_1.drop([\"quality_level\"], axis=1)\n",
    "# Extract the target feature\n",
    "y1 = df_1['quality_level']\n",
    "X_train1, X_test1, y_train1, y_test1 = train_test_split(X1, y1, test_size=0.3, random_state=42)"
   ]
  },
  {
   "cell_type": "code",
   "execution_count": 48,
   "metadata": {},
   "outputs": [
    {
     "name": "stdout",
     "output_type": "stream",
     "text": [
      "Accuracy:  69.09065858363186\n",
      "Precision:  66.82264653561144\n",
      "Recall:  69.09065858363186\n",
      "f1 Score:  65.13702306991463\n"
     ]
    }
   ],
   "source": [
    "clf_dtc = DecisionTreeClassifier()\n",
    "clf_dtc.fit(X_train1, y_train1)\n",
    "y_pred_DecisionTreeClassifier= clf_dtc.predict(X_test1)\n",
    "print_score(y_test1,y_pred_DecisionTreeClassifier)"
   ]
  },
  {
   "cell_type": "code",
   "execution_count": 49,
   "metadata": {},
   "outputs": [
    {
     "name": "stdout",
     "output_type": "stream",
     "text": [
      "Accuracy:  68.0931386056765\n",
      "Precision:  56.20795075235401\n",
      "Recall:  68.0931386056765\n",
      "f1 Score:  58.73356743687289\n"
     ]
    },
    {
     "name": "stderr",
     "output_type": "stream",
     "text": [
      "/anaconda3/lib/python3.6/site-packages/sklearn/metrics/classification.py:1143: UndefinedMetricWarning: Precision is ill-defined and being set to 0.0 in labels with no predicted samples.\n",
      "  'precision', 'predicted', average, warn_for)\n",
      "/anaconda3/lib/python3.6/site-packages/sklearn/metrics/classification.py:1143: UndefinedMetricWarning: F-score is ill-defined and being set to 0.0 in labels with no predicted samples.\n",
      "  'precision', 'predicted', average, warn_for)\n"
     ]
    }
   ],
   "source": [
    "clf4 = GaussianNB()\n",
    "clf4.fit(X_train1, y_train1)\n",
    "y_pred_GaussianNB = clf4.predict(X_test1)\n",
    "print_score(y_test1,y_pred_GaussianNB)"
   ]
  },
  {
   "cell_type": "code",
   "execution_count": 50,
   "metadata": {},
   "outputs": [
    {
     "name": "stderr",
     "output_type": "stream",
     "text": [
      "/anaconda3/lib/python3.6/site-packages/sklearn/ensemble/forest.py:248: FutureWarning: The default value of n_estimators will change from 10 in version 0.20 to 100 in 0.22.\n",
      "  \"10 in version 0.20 to 100 in 0.22.\", FutureWarning)\n"
     ]
    },
    {
     "name": "stdout",
     "output_type": "stream",
     "text": [
      "Accuracy:  69.22292642601268\n",
      "Precision:  67.1930483943699\n",
      "Recall:  69.22292642601268\n",
      "f1 Score:  64.60156030838661\n"
     ]
    }
   ],
   "source": [
    "clf5 = RandomForestClassifier()\n",
    "clf5.fit(X_train1, y_train1)\n",
    "y_pred_rabdom_for_test = clf5.predict(X_test1)\n",
    "print_score(y_test1,y_pred_rabdom_for_test)"
   ]
  },
  {
   "cell_type": "code",
   "execution_count": 51,
   "metadata": {},
   "outputs": [
    {
     "name": "stdout",
     "output_type": "stream",
     "text": [
      "Accuracy:  60.82391843483054\n",
      "Precision:  56.063488750167444\n",
      "Recall:  60.82391843483054\n",
      "f1 Score:  56.6253948259204\n"
     ]
    }
   ],
   "source": [
    "knn_3 = KNeighborsClassifier(3, weights='uniform', p=2, metric='euclidean')\n",
    "knn_3.fit(X_train1, y_train1)\n",
    "y_pred_KNeighborsClassifier_3 = knn_3.predict(X_test1)\n",
    "print_score(y_test1,y_pred_KNeighborsClassifier_3)"
   ]
  },
  {
   "cell_type": "code",
   "execution_count": 52,
   "metadata": {},
   "outputs": [
    {
     "name": "stdout",
     "output_type": "stream",
     "text": [
      "Accuracy:  61.03609809864976\n",
      "Precision:  57.97023355999018\n",
      "Recall:  61.03609809864976\n",
      "f1 Score:  57.25443134724701\n"
     ]
    }
   ],
   "source": [
    "knn_4 = KNeighborsClassifier(4, weights='uniform', p=2, metric='euclidean')\n",
    "knn_4.fit(X_train1, y_train1)\n",
    "y_pred_KNeighborsClassifier_4 = knn_4.predict(X_test1)\n",
    "print_score(y_test1,y_pred_KNeighborsClassifier_4)"
   ]
  },
  {
   "cell_type": "code",
   "execution_count": 53,
   "metadata": {},
   "outputs": [
    {
     "name": "stdout",
     "output_type": "stream",
     "text": [
      "Accuracy:  56.03472030862496\n",
      "Precision:  58.337131001589114\n",
      "Recall:  56.03472030862496\n",
      "f1 Score:  55.13751339652288\n"
     ]
    }
   ],
   "source": [
    "knn_2 = KNeighborsClassifier(2, weights='uniform', p=2, metric='euclidean')\n",
    "knn_2.fit(X_train1, y_train1)\n",
    "y_pred_KNeighborsClassifier_2 = knn_2.predict(X_test1)\n",
    "print_score(y_test1,y_pred_KNeighborsClassifier_2)"
   ]
  },
  {
   "cell_type": "code",
   "execution_count": 54,
   "metadata": {},
   "outputs": [
    {
     "data": {
      "text/html": [
       "<div>\n",
       "<style scoped>\n",
       "    .dataframe tbody tr th:only-of-type {\n",
       "        vertical-align: middle;\n",
       "    }\n",
       "\n",
       "    .dataframe tbody tr th {\n",
       "        vertical-align: top;\n",
       "    }\n",
       "\n",
       "    .dataframe thead th {\n",
       "        text-align: right;\n",
       "    }\n",
       "</style>\n",
       "<table border=\"1\" class=\"dataframe\">\n",
       "  <thead>\n",
       "    <tr style=\"text-align: right;\">\n",
       "      <th></th>\n",
       "      <th>country</th>\n",
       "      <th>price</th>\n",
       "      <th>points</th>\n",
       "    </tr>\n",
       "  </thead>\n",
       "  <tbody>\n",
       "    <tr>\n",
       "      <th>1</th>\n",
       "      <td>Portugal</td>\n",
       "      <td>15.0</td>\n",
       "      <td>87</td>\n",
       "    </tr>\n",
       "    <tr>\n",
       "      <th>2</th>\n",
       "      <td>US</td>\n",
       "      <td>14.0</td>\n",
       "      <td>87</td>\n",
       "    </tr>\n",
       "    <tr>\n",
       "      <th>3</th>\n",
       "      <td>US</td>\n",
       "      <td>13.0</td>\n",
       "      <td>87</td>\n",
       "    </tr>\n",
       "    <tr>\n",
       "      <th>4</th>\n",
       "      <td>US</td>\n",
       "      <td>65.0</td>\n",
       "      <td>87</td>\n",
       "    </tr>\n",
       "    <tr>\n",
       "      <th>5</th>\n",
       "      <td>Spain</td>\n",
       "      <td>15.0</td>\n",
       "      <td>87</td>\n",
       "    </tr>\n",
       "  </tbody>\n",
       "</table>\n",
       "</div>"
      ],
      "text/plain": [
       "    country  price  points\n",
       "1  Portugal   15.0      87\n",
       "2        US   14.0      87\n",
       "3        US   13.0      87\n",
       "4        US   65.0      87\n",
       "5     Spain   15.0      87"
      ]
     },
     "execution_count": 54,
     "metadata": {},
     "output_type": "execute_result"
    }
   ],
   "source": [
    "df_country = init_df[['country','price', 'points']]\n",
    "df_country = df_country.dropna()\n",
    "df_country.head()"
   ]
  },
  {
   "cell_type": "code",
   "execution_count": 58,
   "metadata": {},
   "outputs": [
    {
     "data": {
      "text/html": [
       "<div>\n",
       "<style scoped>\n",
       "    .dataframe tbody tr th:only-of-type {\n",
       "        vertical-align: middle;\n",
       "    }\n",
       "\n",
       "    .dataframe tbody tr th {\n",
       "        vertical-align: top;\n",
       "    }\n",
       "\n",
       "    .dataframe thead th {\n",
       "        text-align: right;\n",
       "    }\n",
       "</style>\n",
       "<table border=\"1\" class=\"dataframe\">\n",
       "  <thead>\n",
       "    <tr style=\"text-align: right;\">\n",
       "      <th></th>\n",
       "      <th>country</th>\n",
       "      <th>price</th>\n",
       "      <th>quality_level</th>\n",
       "    </tr>\n",
       "  </thead>\n",
       "  <tbody>\n",
       "    <tr>\n",
       "      <th>1</th>\n",
       "      <td>30</td>\n",
       "      <td>15.0</td>\n",
       "      <td>2</td>\n",
       "    </tr>\n",
       "    <tr>\n",
       "      <th>2</th>\n",
       "      <td>39</td>\n",
       "      <td>14.0</td>\n",
       "      <td>2</td>\n",
       "    </tr>\n",
       "    <tr>\n",
       "      <th>3</th>\n",
       "      <td>39</td>\n",
       "      <td>13.0</td>\n",
       "      <td>2</td>\n",
       "    </tr>\n",
       "    <tr>\n",
       "      <th>4</th>\n",
       "      <td>39</td>\n",
       "      <td>65.0</td>\n",
       "      <td>2</td>\n",
       "    </tr>\n",
       "    <tr>\n",
       "      <th>5</th>\n",
       "      <td>36</td>\n",
       "      <td>15.0</td>\n",
       "      <td>2</td>\n",
       "    </tr>\n",
       "  </tbody>\n",
       "</table>\n",
       "</div>"
      ],
      "text/plain": [
       "   country  price  quality_level\n",
       "1       30   15.0              2\n",
       "2       39   14.0              2\n",
       "3       39   13.0              2\n",
       "4       39   65.0              2\n",
       "5       36   15.0              2"
      ]
     },
     "execution_count": 58,
     "metadata": {},
     "output_type": "execute_result"
    }
   ],
   "source": [
    "# use the LabelEncoder function to convert the country to corresponding integers.\n",
    "le_country = LabelEncoder()\n",
    "le_country.fit(df_country['country'])\n",
    "df_country['country']= le_country.transform(df_country['country'])\n",
    "df_country['quality_level'] = df_country.apply(GoodRating, axis=1)\n",
    "df_country = df_country.drop(['points'],1)\n",
    "df_country.head()"
   ]
  },
  {
   "cell_type": "code",
   "execution_count": 59,
   "metadata": {},
   "outputs": [],
   "source": [
    "X1 = df_country.drop([\"quality_level\"], axis=1)\n",
    "# Extract the target feature\n",
    "y1 = df_country['quality_level']\n",
    "X_train1, X_test1, y_train1, y_test1 = train_test_split(X1, y1, test_size=0.3, random_state=42)"
   ]
  },
  {
   "cell_type": "code",
   "execution_count": 60,
   "metadata": {},
   "outputs": [
    {
     "name": "stdout",
     "output_type": "stream",
     "text": [
      "Accuracy:  69.24052377670571\n",
      "Precision:  67.22770510367478\n",
      "Recall:  69.24052377670571\n",
      "f1 Score:  65.33731738156928\n"
     ]
    }
   ],
   "source": [
    "clf_dtc = DecisionTreeClassifier()\n",
    "clf_dtc.fit(X_train1, y_train1)\n",
    "y_pred_DecisionTreeClassifier= clf_dtc.predict(X_test1)\n",
    "print_score(y_test1,y_pred_DecisionTreeClassifier)"
   ]
  },
  {
   "cell_type": "code",
   "execution_count": 61,
   "metadata": {},
   "outputs": [
    {
     "name": "stdout",
     "output_type": "stream",
     "text": [
      "Accuracy:  67.60027567195039\n",
      "Precision:  55.902890187622\n",
      "Recall:  67.60027567195039\n",
      "f1 Score:  57.76488891806808\n"
     ]
    },
    {
     "name": "stderr",
     "output_type": "stream",
     "text": [
      "/anaconda3/lib/python3.6/site-packages/sklearn/metrics/classification.py:1143: UndefinedMetricWarning: Precision is ill-defined and being set to 0.0 in labels with no predicted samples.\n",
      "  'precision', 'predicted', average, warn_for)\n",
      "/anaconda3/lib/python3.6/site-packages/sklearn/metrics/classification.py:1143: UndefinedMetricWarning: F-score is ill-defined and being set to 0.0 in labels with no predicted samples.\n",
      "  'precision', 'predicted', average, warn_for)\n"
     ]
    }
   ],
   "source": [
    "clf4 = GaussianNB()\n",
    "clf4.fit(X_train1, y_train1)\n",
    "y_pred_GaussianNB = clf4.predict(X_test1)\n",
    "print_score(y_test1,y_pred_GaussianNB)"
   ]
  },
  {
   "cell_type": "code",
   "execution_count": 62,
   "metadata": {},
   "outputs": [
    {
     "name": "stderr",
     "output_type": "stream",
     "text": [
      "/anaconda3/lib/python3.6/site-packages/sklearn/ensemble/forest.py:248: FutureWarning: The default value of n_estimators will change from 10 in version 0.20 to 100 in 0.22.\n",
      "  \"10 in version 0.20 to 100 in 0.22.\", FutureWarning)\n"
     ]
    },
    {
     "name": "stdout",
     "output_type": "stream",
     "text": [
      "Accuracy:  69.25706409372846\n",
      "Precision:  67.24954213687333\n",
      "Recall:  69.25706409372846\n",
      "f1 Score:  65.4001319910613\n"
     ]
    }
   ],
   "source": [
    "clf5 = RandomForestClassifier()\n",
    "clf5.fit(X_train1, y_train1)\n",
    "y_pred_rabdom_for_test = clf5.predict(X_test1)\n",
    "print_score(y_test1,y_pred_rabdom_for_test)"
   ]
  },
  {
   "cell_type": "code",
   "execution_count": 63,
   "metadata": {},
   "outputs": [
    {
     "name": "stdout",
     "output_type": "stream",
     "text": [
      "Accuracy:  64.28669882839421\n",
      "Precision:  62.16247551041414\n",
      "Recall:  64.28669882839421\n",
      "f1 Score:  62.350057213703316\n"
     ]
    }
   ],
   "source": [
    "knn_4 = KNeighborsClassifier(4, weights='uniform', p=2, metric='euclidean')\n",
    "knn_4.fit(X_train1, y_train1)\n",
    "y_pred_KNeighborsClassifier_4 = knn_4.predict(X_test1)\n",
    "print_score(y_test1,y_pred_KNeighborsClassifier_4)"
   ]
  },
  {
   "cell_type": "code",
   "execution_count": 64,
   "metadata": {},
   "outputs": [
    {
     "name": "stdout",
     "output_type": "stream",
     "text": [
      "Accuracy:  61.557546519641626\n",
      "Precision:  60.86529134759557\n",
      "Recall:  61.557546519641626\n",
      "f1 Score:  61.12548299855428\n"
     ]
    }
   ],
   "source": [
    "knn_3 = KNeighborsClassifier(3, weights='uniform', p=2, metric='euclidean')\n",
    "knn_3.fit(X_train1, y_train1)\n",
    "y_pred_KNeighborsClassifier_3 = knn_3.predict(X_test1)\n",
    "print_score(y_test1,y_pred_KNeighborsClassifier_3)"
   ]
  },
  {
   "cell_type": "code",
   "execution_count": 91,
   "metadata": {},
   "outputs": [
    {
     "data": {
      "text/html": [
       "<div>\n",
       "<style scoped>\n",
       "    .dataframe tbody tr th:only-of-type {\n",
       "        vertical-align: middle;\n",
       "    }\n",
       "\n",
       "    .dataframe tbody tr th {\n",
       "        vertical-align: top;\n",
       "    }\n",
       "\n",
       "    .dataframe thead th {\n",
       "        text-align: right;\n",
       "    }\n",
       "</style>\n",
       "<table border=\"1\" class=\"dataframe\">\n",
       "  <thead>\n",
       "    <tr style=\"text-align: right;\">\n",
       "      <th></th>\n",
       "      <th>country</th>\n",
       "      <th>price</th>\n",
       "      <th>description_length</th>\n",
       "      <th>quality_level</th>\n",
       "    </tr>\n",
       "  </thead>\n",
       "  <tbody>\n",
       "    <tr>\n",
       "      <th>1</th>\n",
       "      <td>30</td>\n",
       "      <td>15.0</td>\n",
       "      <td>227</td>\n",
       "      <td>2</td>\n",
       "    </tr>\n",
       "    <tr>\n",
       "      <th>2</th>\n",
       "      <td>39</td>\n",
       "      <td>14.0</td>\n",
       "      <td>186</td>\n",
       "      <td>2</td>\n",
       "    </tr>\n",
       "    <tr>\n",
       "      <th>3</th>\n",
       "      <td>39</td>\n",
       "      <td>13.0</td>\n",
       "      <td>199</td>\n",
       "      <td>2</td>\n",
       "    </tr>\n",
       "    <tr>\n",
       "      <th>4</th>\n",
       "      <td>39</td>\n",
       "      <td>65.0</td>\n",
       "      <td>249</td>\n",
       "      <td>2</td>\n",
       "    </tr>\n",
       "    <tr>\n",
       "      <th>5</th>\n",
       "      <td>36</td>\n",
       "      <td>15.0</td>\n",
       "      <td>261</td>\n",
       "      <td>2</td>\n",
       "    </tr>\n",
       "  </tbody>\n",
       "</table>\n",
       "</div>"
      ],
      "text/plain": [
       "   country  price  description_length  quality_level\n",
       "1       30   15.0                 227              2\n",
       "2       39   14.0                 186              2\n",
       "3       39   13.0                 199              2\n",
       "4       39   65.0                 249              2\n",
       "5       36   15.0                 261              2"
      ]
     },
     "execution_count": 91,
     "metadata": {},
     "output_type": "execute_result"
    }
   ],
   "source": [
    "df = init_df[['country', 'price', 'points','description']]\n",
    "df = df.assign(description_length = init_df['description'].apply(len))\n",
    "df = df.drop(['description'], axis=1)\n",
    "df = df.dropna()\n",
    "le_country = LabelEncoder()\n",
    "le_country.fit(df['country'])\n",
    "df['country']= le_country.transform(df['country'])\n",
    "# le_province = LabelEncoder()\n",
    "# le_province.fit(df['province'])\n",
    "# df['province']= le_province.transform(df['province'])\n",
    "# le_taster_name = LabelEncoder()\n",
    "# le_taster_name.fit(df['taster_name'])\n",
    "# df['taster_name']= le_taster_name.transform(df['taster_name'])\n",
    "df['quality_level'] = df.apply(GoodRating, axis=1)\n",
    "df = df.drop(['points'],1)\n",
    "df.head()"
   ]
  },
  {
   "cell_type": "code",
   "execution_count": 92,
   "metadata": {},
   "outputs": [],
   "source": [
    "X1 = df.drop([\"quality_level\"], axis=1)\n",
    "# Extract the target feature\n",
    "y1 = df['quality_level']\n",
    "X_train1, X_test1, y_train1, y_test1 = train_test_split(X1, y1, test_size=0.3, random_state=42)"
   ]
  },
  {
   "cell_type": "code",
   "execution_count": 93,
   "metadata": {},
   "outputs": [
    {
     "name": "stdout",
     "output_type": "stream",
     "text": [
      "Accuracy:  67.89248793935218\n",
      "Precision:  67.17764187134104\n",
      "Recall:  67.89248793935218\n",
      "f1 Score:  67.35649170381886\n"
     ]
    }
   ],
   "source": [
    "clf_dtc = DecisionTreeClassifier()\n",
    "clf_dtc.fit(X_train1, y_train1)\n",
    "y_pred_DecisionTreeClassifier= clf_dtc.predict(X_test1)\n",
    "print_score(y_test1,y_pred_DecisionTreeClassifier)"
   ]
  },
  {
   "cell_type": "code",
   "execution_count": 94,
   "metadata": {},
   "outputs": [
    {
     "name": "stderr",
     "output_type": "stream",
     "text": [
      "/anaconda3/lib/python3.6/site-packages/sklearn/ensemble/forest.py:248: FutureWarning: The default value of n_estimators will change from 10 in version 0.20 to 100 in 0.22.\n",
      "  \"10 in version 0.20 to 100 in 0.22.\", FutureWarning)\n"
     ]
    },
    {
     "name": "stdout",
     "output_type": "stream",
     "text": [
      "Accuracy:  69.62922122674019\n",
      "Precision:  68.48042079781732\n",
      "Recall:  69.62922122674019\n",
      "f1 Score:  68.79220644570707\n"
     ]
    }
   ],
   "source": [
    "clf5 = RandomForestClassifier()\n",
    "clf5.fit(X_train1, y_train1)\n",
    "y_pred_rabdom_for_test = clf5.predict(X_test1)\n",
    "print_score(y_test1,y_pred_rabdom_for_test)"
   ]
  },
  {
   "cell_type": "code",
   "execution_count": 95,
   "metadata": {},
   "outputs": [
    {
     "name": "stdout",
     "output_type": "stream",
     "text": [
      "Accuracy:  69.99586492074431\n",
      "Precision:  68.84703380892951\n",
      "Recall:  69.99586492074431\n",
      "f1 Score:  67.469820895616\n"
     ]
    }
   ],
   "source": [
    "clf4 = GaussianNB()\n",
    "clf4.fit(X_train1, y_train1)\n",
    "y_pred_GaussianNB = clf4.predict(X_test1)\n",
    "print_score(y_test1,y_pred_GaussianNB)"
   ]
  },
  {
   "cell_type": "code",
   "execution_count": 96,
   "metadata": {},
   "outputs": [
    {
     "name": "stdout",
     "output_type": "stream",
     "text": [
      "Accuracy:  68.0854583046175\n",
      "Precision:  67.03518436644241\n",
      "Recall:  68.0854583046175\n",
      "f1 Score:  67.3919154985524\n"
     ]
    }
   ],
   "source": [
    "knn_3 = KNeighborsClassifier(3, weights='uniform', p=2, metric='euclidean')\n",
    "knn_3.fit(X_train1, y_train1)\n",
    "y_pred_KNeighborsClassifier_3 = knn_3.predict(X_test1)\n",
    "print_score(y_test1,y_pred_KNeighborsClassifier_3)"
   ]
  },
  {
   "cell_type": "code",
   "execution_count": 97,
   "metadata": {},
   "outputs": [
    {
     "name": "stdout",
     "output_type": "stream",
     "text": [
      "Accuracy:  68.30048242591317\n",
      "Precision:  67.80869994334188\n",
      "Recall:  68.30048242591317\n",
      "f1 Score:  67.48891644137501\n"
     ]
    }
   ],
   "source": [
    "knn_4 = KNeighborsClassifier(4, weights='uniform', p=2, metric='euclidean')\n",
    "knn_4.fit(X_train1, y_train1)\n",
    "y_pred_KNeighborsClassifier_4 = knn_4.predict(X_test1)\n",
    "print_score(y_test1,y_pred_KNeighborsClassifier_4)"
   ]
  },
  {
   "cell_type": "code",
   "execution_count": 99,
   "metadata": {},
   "outputs": [
    {
     "data": {
      "text/html": [
       "<div>\n",
       "<style scoped>\n",
       "    .dataframe tbody tr th:only-of-type {\n",
       "        vertical-align: middle;\n",
       "    }\n",
       "\n",
       "    .dataframe tbody tr th {\n",
       "        vertical-align: top;\n",
       "    }\n",
       "\n",
       "    .dataframe thead th {\n",
       "        text-align: right;\n",
       "    }\n",
       "</style>\n",
       "<table border=\"1\" class=\"dataframe\">\n",
       "  <thead>\n",
       "    <tr style=\"text-align: right;\">\n",
       "      <th></th>\n",
       "      <th>country</th>\n",
       "      <th>price</th>\n",
       "      <th>taster_name</th>\n",
       "      <th>description_length</th>\n",
       "      <th>quality_level</th>\n",
       "    </tr>\n",
       "  </thead>\n",
       "  <tbody>\n",
       "    <tr>\n",
       "      <th>1</th>\n",
       "      <td>30</td>\n",
       "      <td>15.0</td>\n",
       "      <td>15</td>\n",
       "      <td>227</td>\n",
       "      <td>2</td>\n",
       "    </tr>\n",
       "    <tr>\n",
       "      <th>2</th>\n",
       "      <td>39</td>\n",
       "      <td>14.0</td>\n",
       "      <td>14</td>\n",
       "      <td>186</td>\n",
       "      <td>2</td>\n",
       "    </tr>\n",
       "    <tr>\n",
       "      <th>3</th>\n",
       "      <td>39</td>\n",
       "      <td>13.0</td>\n",
       "      <td>0</td>\n",
       "      <td>199</td>\n",
       "      <td>2</td>\n",
       "    </tr>\n",
       "    <tr>\n",
       "      <th>4</th>\n",
       "      <td>39</td>\n",
       "      <td>65.0</td>\n",
       "      <td>14</td>\n",
       "      <td>249</td>\n",
       "      <td>2</td>\n",
       "    </tr>\n",
       "    <tr>\n",
       "      <th>5</th>\n",
       "      <td>36</td>\n",
       "      <td>15.0</td>\n",
       "      <td>12</td>\n",
       "      <td>261</td>\n",
       "      <td>2</td>\n",
       "    </tr>\n",
       "  </tbody>\n",
       "</table>\n",
       "</div>"
      ],
      "text/plain": [
       "   country  price  taster_name  description_length  quality_level\n",
       "1       30   15.0           15                 227              2\n",
       "2       39   14.0           14                 186              2\n",
       "3       39   13.0            0                 199              2\n",
       "4       39   65.0           14                 249              2\n",
       "5       36   15.0           12                 261              2"
      ]
     },
     "execution_count": 99,
     "metadata": {},
     "output_type": "execute_result"
    }
   ],
   "source": [
    "df = init_df[['country', 'price', 'taster_name', 'points','description']]\n",
    "df = df.assign(description_length = init_df['description'].apply(len))\n",
    "df = df.drop(['description'], axis=1)\n",
    "df = df.dropna()\n",
    "le_country = LabelEncoder()\n",
    "le_country.fit(df['country'])\n",
    "df['country']= le_country.transform(df['country'])\n",
    "le_taster_name = LabelEncoder()\n",
    "le_taster_name.fit(df['taster_name'])\n",
    "df['taster_name']= le_taster_name.transform(df['taster_name'])\n",
    "df['quality_level'] = df.apply(GoodRating, axis=1)\n",
    "df = df.drop(['points'],1)\n",
    "df.head()"
   ]
  },
  {
   "cell_type": "code",
   "execution_count": 100,
   "metadata": {},
   "outputs": [],
   "source": [
    "X1 = df.drop([\"quality_level\"], axis=1)\n",
    "# Extract the target feature\n",
    "y1 = df['quality_level']\n",
    "X_train1, X_test1, y_train1, y_test1 = train_test_split(X1, y1, test_size=0.3, random_state=42)"
   ]
  },
  {
   "cell_type": "code",
   "execution_count": 101,
   "metadata": {},
   "outputs": [
    {
     "name": "stdout",
     "output_type": "stream",
     "text": [
      "Accuracy:  68.23618889580308\n",
      "Precision:  68.32232950858933\n",
      "Recall:  68.23618889580308\n",
      "f1 Score:  68.24686402807812\n"
     ]
    }
   ],
   "source": [
    "clf_dtc = DecisionTreeClassifier()\n",
    "clf_dtc.fit(X_train1, y_train1)\n",
    "y_pred_DecisionTreeClassifier= clf_dtc.predict(X_test1)\n",
    "print_score(y_test1,y_pred_DecisionTreeClassifier)"
   ]
  },
  {
   "cell_type": "code",
   "execution_count": 102,
   "metadata": {},
   "outputs": [
    {
     "name": "stderr",
     "output_type": "stream",
     "text": [
      "/anaconda3/lib/python3.6/site-packages/sklearn/ensemble/forest.py:248: FutureWarning: The default value of n_estimators will change from 10 in version 0.20 to 100 in 0.22.\n",
      "  \"10 in version 0.20 to 100 in 0.22.\", FutureWarning)\n"
     ]
    },
    {
     "name": "stdout",
     "output_type": "stream",
     "text": [
      "Accuracy:  71.39597593860195\n",
      "Precision:  70.46025640190327\n",
      "Recall:  71.39597593860195\n",
      "f1 Score:  70.78017470008228\n"
     ]
    }
   ],
   "source": [
    "clf5 = RandomForestClassifier()\n",
    "clf5.fit(X_train1, y_train1)\n",
    "y_pred_rabdom_for_test = clf5.predict(X_test1)\n",
    "print_score(y_test1,y_pred_rabdom_for_test)"
   ]
  },
  {
   "cell_type": "code",
   "execution_count": 103,
   "metadata": {},
   "outputs": [
    {
     "name": "stdout",
     "output_type": "stream",
     "text": [
      "Accuracy:  70.31044734840629\n",
      "Precision:  69.15752908226064\n",
      "Recall:  70.31044734840629\n",
      "f1 Score:  67.67829753609911\n"
     ]
    }
   ],
   "source": [
    "clf4 = GaussianNB()\n",
    "clf4.fit(X_train1, y_train1)\n",
    "y_pred_GaussianNB = clf4.predict(X_test1)\n",
    "print_score(y_test1,y_pred_GaussianNB)"
   ]
  },
  {
   "cell_type": "code",
   "execution_count": 104,
   "metadata": {},
   "outputs": [
    {
     "name": "stdout",
     "output_type": "stream",
     "text": [
      "Accuracy:  70.68727096729586\n",
      "Precision:  69.5532844896487\n",
      "Recall:  70.68727096729586\n",
      "f1 Score:  69.95299553810112\n"
     ]
    }
   ],
   "source": [
    "knn_3 = KNeighborsClassifier(3, weights='uniform', p=2, metric='euclidean')\n",
    "knn_3.fit(X_train1, y_train1)\n",
    "y_pred_KNeighborsClassifier_3 = knn_3.predict(X_test1)\n",
    "print_score(y_test1,y_pred_KNeighborsClassifier_3)"
   ]
  },
  {
   "cell_type": "code",
   "execution_count": 105,
   "metadata": {},
   "outputs": [
    {
     "name": "stdout",
     "output_type": "stream",
     "text": [
      "Accuracy:  70.69764225955888\n",
      "Precision:  70.01822980618715\n",
      "Recall:  70.69764225955888\n",
      "f1 Score:  69.7852362363749\n"
     ]
    }
   ],
   "source": [
    "knn_4 = KNeighborsClassifier(4, weights='uniform', p=2, metric='euclidean')\n",
    "knn_4.fit(X_train1, y_train1)\n",
    "y_pred_KNeighborsClassifier_4 = knn_4.predict(X_test1)\n",
    "print_score(y_test1,y_pred_KNeighborsClassifier_4)"
   ]
  },
  {
   "cell_type": "code",
   "execution_count": 107,
   "metadata": {},
   "outputs": [
    {
     "data": {
      "text/html": [
       "<div>\n",
       "<style scoped>\n",
       "    .dataframe tbody tr th:only-of-type {\n",
       "        vertical-align: middle;\n",
       "    }\n",
       "\n",
       "    .dataframe tbody tr th {\n",
       "        vertical-align: top;\n",
       "    }\n",
       "\n",
       "    .dataframe thead th {\n",
       "        text-align: right;\n",
       "    }\n",
       "</style>\n",
       "<table border=\"1\" class=\"dataframe\">\n",
       "  <thead>\n",
       "    <tr style=\"text-align: right;\">\n",
       "      <th></th>\n",
       "      <th>country</th>\n",
       "      <th>province</th>\n",
       "      <th>winery</th>\n",
       "      <th>variety</th>\n",
       "      <th>taster_name</th>\n",
       "      <th>price</th>\n",
       "      <th>description_length</th>\n",
       "      <th>quality_level</th>\n",
       "    </tr>\n",
       "  </thead>\n",
       "  <tbody>\n",
       "    <tr>\n",
       "      <th>1</th>\n",
       "      <td>30</td>\n",
       "      <td>105</td>\n",
       "      <td>10745</td>\n",
       "      <td>415</td>\n",
       "      <td>15</td>\n",
       "      <td>15.0</td>\n",
       "      <td>227</td>\n",
       "      <td>2</td>\n",
       "    </tr>\n",
       "    <tr>\n",
       "      <th>2</th>\n",
       "      <td>39</td>\n",
       "      <td>263</td>\n",
       "      <td>10795</td>\n",
       "      <td>401</td>\n",
       "      <td>14</td>\n",
       "      <td>14.0</td>\n",
       "      <td>186</td>\n",
       "      <td>2</td>\n",
       "    </tr>\n",
       "    <tr>\n",
       "      <th>3</th>\n",
       "      <td>39</td>\n",
       "      <td>213</td>\n",
       "      <td>11895</td>\n",
       "      <td>443</td>\n",
       "      <td>0</td>\n",
       "      <td>13.0</td>\n",
       "      <td>199</td>\n",
       "      <td>2</td>\n",
       "    </tr>\n",
       "    <tr>\n",
       "      <th>4</th>\n",
       "      <td>39</td>\n",
       "      <td>263</td>\n",
       "      <td>12066</td>\n",
       "      <td>405</td>\n",
       "      <td>14</td>\n",
       "      <td>65.0</td>\n",
       "      <td>249</td>\n",
       "      <td>2</td>\n",
       "    </tr>\n",
       "    <tr>\n",
       "      <th>5</th>\n",
       "      <td>36</td>\n",
       "      <td>257</td>\n",
       "      <td>12134</td>\n",
       "      <td>548</td>\n",
       "      <td>12</td>\n",
       "      <td>15.0</td>\n",
       "      <td>261</td>\n",
       "      <td>2</td>\n",
       "    </tr>\n",
       "  </tbody>\n",
       "</table>\n",
       "</div>"
      ],
      "text/plain": [
       "   country  province  winery  variety  taster_name  price  description_length  \\\n",
       "1       30       105   10745      415           15   15.0                 227   \n",
       "2       39       263   10795      401           14   14.0                 186   \n",
       "3       39       213   11895      443            0   13.0                 199   \n",
       "4       39       263   12066      405           14   65.0                 249   \n",
       "5       36       257   12134      548           12   15.0                 261   \n",
       "\n",
       "   quality_level  \n",
       "1              2  \n",
       "2              2  \n",
       "3              2  \n",
       "4              2  \n",
       "5              2  "
      ]
     },
     "execution_count": 107,
     "metadata": {},
     "output_type": "execute_result"
    }
   ],
   "source": [
    "df = init_df[['country', 'province', 'winery', 'variety', 'taster_name', 'price', 'points','description']]\n",
    "df = df.assign(description_length = init_df['description'].apply(len))\n",
    "df = df.drop(['description'], axis=1)\n",
    "df = df.dropna()\n",
    "le_country = LabelEncoder()\n",
    "le_country.fit(df['country'])\n",
    "df['country']= le_country.transform(df['country'])\n",
    "# use the LabelEncoder function to convert the country to corresponding integers.\n",
    "le_province = LabelEncoder()\n",
    "le_province.fit(df['province'])\n",
    "df['province']= le_province.transform(df['province'])\n",
    "le_taster_name = LabelEncoder()\n",
    "le_taster_name.fit(df['taster_name'])\n",
    "df['taster_name']= le_taster_name.transform(df['taster_name'])\n",
    "le_winery = LabelEncoder()\n",
    "le_winery.fit(df['winery'])\n",
    "df['winery']= le_winery.transform(df['winery'])\n",
    "le_variety = LabelEncoder()\n",
    "le_variety.fit(df['variety'])\n",
    "df['variety']= le_variety.transform(df['variety'])\n",
    "df['quality_level'] = df.apply(GoodRating, axis=1)\n",
    "df = df.drop(['points'],1)\n",
    "df.head()"
   ]
  },
  {
   "cell_type": "code",
   "execution_count": 108,
   "metadata": {},
   "outputs": [],
   "source": [
    "X1 = df.drop([\"quality_level\"], axis=1)\n",
    "# Extract the target feature\n",
    "y1 = df['quality_level']\n",
    "X_train1, X_test1, y_train1, y_test1 = train_test_split(X1, y1, test_size=0.3, random_state=42)"
   ]
  },
  {
   "cell_type": "code",
   "execution_count": 109,
   "metadata": {},
   "outputs": [
    {
     "name": "stdout",
     "output_type": "stream",
     "text": [
      "Accuracy:  69.19726197884256\n",
      "Precision:  69.29555468079431\n",
      "Recall:  69.19726197884256\n",
      "f1 Score:  69.24501462184509\n"
     ]
    }
   ],
   "source": [
    "clf_dtc = DecisionTreeClassifier()\n",
    "clf_dtc.fit(X_train1, y_train1)\n",
    "y_pred_DecisionTreeClassifier= clf_dtc.predict(X_test1)\n",
    "print_score(y_test1,y_pred_DecisionTreeClassifier)"
   ]
  },
  {
   "cell_type": "code",
   "execution_count": 110,
   "metadata": {},
   "outputs": [
    {
     "name": "stderr",
     "output_type": "stream",
     "text": [
      "/anaconda3/lib/python3.6/site-packages/sklearn/ensemble/forest.py:248: FutureWarning: The default value of n_estimators will change from 10 in version 0.20 to 100 in 0.22.\n",
      "  \"10 in version 0.20 to 100 in 0.22.\", FutureWarning)\n"
     ]
    },
    {
     "name": "stdout",
     "output_type": "stream",
     "text": [
      "Accuracy:  76.1045426260112\n",
      "Precision:  75.21927485003704\n",
      "Recall:  76.1045426260112\n",
      "f1 Score:  75.20319964643522\n"
     ]
    }
   ],
   "source": [
    "clf5 = RandomForestClassifier()\n",
    "clf5.fit(X_train1, y_train1)\n",
    "y_pred_rabdom_for_test = clf5.predict(X_test1)\n",
    "print_score(y_test1,y_pred_rabdom_for_test)"
   ]
  },
  {
   "cell_type": "code",
   "execution_count": 111,
   "metadata": {},
   "outputs": [
    {
     "name": "stdout",
     "output_type": "stream",
     "text": [
      "Accuracy:  70.48330221945655\n",
      "Precision:  69.40976816214999\n",
      "Recall:  70.48330221945655\n",
      "f1 Score:  67.87235965692477\n"
     ]
    }
   ],
   "source": [
    "clf4 = GaussianNB()\n",
    "clf4.fit(X_train1, y_train1)\n",
    "y_pred_GaussianNB = clf4.predict(X_test1)\n",
    "print_score(y_test1,y_pred_GaussianNB)"
   ]
  },
  {
   "cell_type": "code",
   "execution_count": 112,
   "metadata": {},
   "outputs": [
    {
     "name": "stdout",
     "output_type": "stream",
     "text": [
      "Accuracy:  70.68727096729586\n",
      "Precision:  69.10009347171611\n",
      "Recall:  70.68727096729586\n",
      "f1 Score:  69.55612140533817\n"
     ]
    }
   ],
   "source": [
    "knn_3 = KNeighborsClassifier(3, weights='uniform', p=2, metric='euclidean')\n",
    "knn_3.fit(X_train1, y_train1)\n",
    "y_pred_KNeighborsClassifier_3 = knn_3.predict(X_test1)\n",
    "print_score(y_test1,y_pred_KNeighborsClassifier_3)"
   ]
  },
  {
   "cell_type": "code",
   "execution_count": 113,
   "metadata": {},
   "outputs": [
    {
     "name": "stdout",
     "output_type": "stream",
     "text": [
      "Accuracy:  70.17216345156606\n",
      "Precision:  69.24331313681733\n",
      "Recall:  70.17216345156606\n",
      "f1 Score:  68.88845433261896\n"
     ]
    }
   ],
   "source": [
    "knn_4 = KNeighborsClassifier(4, weights='uniform', p=2, metric='euclidean')\n",
    "knn_4.fit(X_train1, y_train1)\n",
    "y_pred_KNeighborsClassifier_4 = knn_4.predict(X_test1)\n",
    "print_score(y_test1,y_pred_KNeighborsClassifier_4)"
   ]
  },
  {
   "cell_type": "code",
   "execution_count": 116,
   "metadata": {},
   "outputs": [
    {
     "data": {
      "text/html": [
       "<div>\n",
       "<style scoped>\n",
       "    .dataframe tbody tr th:only-of-type {\n",
       "        vertical-align: middle;\n",
       "    }\n",
       "\n",
       "    .dataframe tbody tr th {\n",
       "        vertical-align: top;\n",
       "    }\n",
       "\n",
       "    .dataframe thead th {\n",
       "        text-align: right;\n",
       "    }\n",
       "</style>\n",
       "<table border=\"1\" class=\"dataframe\">\n",
       "  <thead>\n",
       "    <tr style=\"text-align: right;\">\n",
       "      <th></th>\n",
       "      <th>price</th>\n",
       "      <th>points</th>\n",
       "    </tr>\n",
       "  </thead>\n",
       "  <tbody>\n",
       "    <tr>\n",
       "      <th>1</th>\n",
       "      <td>15.0</td>\n",
       "      <td>87</td>\n",
       "    </tr>\n",
       "    <tr>\n",
       "      <th>2</th>\n",
       "      <td>14.0</td>\n",
       "      <td>87</td>\n",
       "    </tr>\n",
       "    <tr>\n",
       "      <th>3</th>\n",
       "      <td>13.0</td>\n",
       "      <td>87</td>\n",
       "    </tr>\n",
       "    <tr>\n",
       "      <th>4</th>\n",
       "      <td>65.0</td>\n",
       "      <td>87</td>\n",
       "    </tr>\n",
       "    <tr>\n",
       "      <th>5</th>\n",
       "      <td>15.0</td>\n",
       "      <td>87</td>\n",
       "    </tr>\n",
       "  </tbody>\n",
       "</table>\n",
       "</div>"
      ],
      "text/plain": [
       "   price  points\n",
       "1   15.0      87\n",
       "2   14.0      87\n",
       "3   13.0      87\n",
       "4   65.0      87\n",
       "5   15.0      87"
      ]
     },
     "execution_count": 116,
     "metadata": {},
     "output_type": "execute_result"
    }
   ],
   "source": [
    "df11 = init_df[['price', 'points']]\n",
    "# df = df.assign(description_length = parsed_df['description'].apply(len))\n",
    "# df = df.drop(['description'], axis=1)\n",
    "df11 = df11.dropna()\n",
    "df11.head()"
   ]
  },
  {
   "cell_type": "code",
   "execution_count": 118,
   "metadata": {},
   "outputs": [],
   "source": [
    "X1 = df11.drop([\"points\"], axis=1)\n",
    "# Extract the target feature\n",
    "y1 = df11['points']\n",
    "X_train1, X_test1, y_train1, y_test1 = train_test_split(X1, y1, test_size=0.3, random_state=42)"
   ]
  },
  {
   "cell_type": "code",
   "execution_count": 119,
   "metadata": {},
   "outputs": [
    {
     "name": "stdout",
     "output_type": "stream",
     "text": [
      "Accuracy:  17.686606232606838\n",
      "Precision:  16.447708887921124\n",
      "Recall:  17.686606232606838\n",
      "f1 Score:  14.910888768910821\n"
     ]
    },
    {
     "name": "stderr",
     "output_type": "stream",
     "text": [
      "/anaconda3/lib/python3.6/site-packages/sklearn/metrics/classification.py:1143: UndefinedMetricWarning: Precision is ill-defined and being set to 0.0 in labels with no predicted samples.\n",
      "  'precision', 'predicted', average, warn_for)\n",
      "/anaconda3/lib/python3.6/site-packages/sklearn/metrics/classification.py:1143: UndefinedMetricWarning: F-score is ill-defined and being set to 0.0 in labels with no predicted samples.\n",
      "  'precision', 'predicted', average, warn_for)\n"
     ]
    }
   ],
   "source": [
    "clf_dtc = DecisionTreeClassifier()\n",
    "clf_dtc.fit(X_train1, y_train1)\n",
    "y_pred_DecisionTreeClassifier= clf_dtc.predict(X_test1)\n",
    "print_score(y_test1,y_pred_DecisionTreeClassifier)"
   ]
  },
  {
   "cell_type": "code",
   "execution_count": 120,
   "metadata": {},
   "outputs": [
    {
     "name": "stderr",
     "output_type": "stream",
     "text": [
      "/anaconda3/lib/python3.6/site-packages/sklearn/ensemble/forest.py:248: FutureWarning: The default value of n_estimators will change from 10 in version 0.20 to 100 in 0.22.\n",
      "  \"10 in version 0.20 to 100 in 0.22.\", FutureWarning)\n"
     ]
    },
    {
     "name": "stdout",
     "output_type": "stream",
     "text": [
      "Accuracy:  17.73895792577081\n",
      "Precision:  17.36111151290881\n",
      "Recall:  17.73895792577081\n",
      "f1 Score:  15.077514513172815\n"
     ]
    },
    {
     "name": "stderr",
     "output_type": "stream",
     "text": [
      "/anaconda3/lib/python3.6/site-packages/sklearn/metrics/classification.py:1143: UndefinedMetricWarning: Precision is ill-defined and being set to 0.0 in labels with no predicted samples.\n",
      "  'precision', 'predicted', average, warn_for)\n",
      "/anaconda3/lib/python3.6/site-packages/sklearn/metrics/classification.py:1143: UndefinedMetricWarning: F-score is ill-defined and being set to 0.0 in labels with no predicted samples.\n",
      "  'precision', 'predicted', average, warn_for)\n"
     ]
    }
   ],
   "source": [
    "clf5 = RandomForestClassifier()\n",
    "clf5.fit(X_train1, y_train1)\n",
    "y_pred_rabdom_for_test = clf5.predict(X_test1)\n",
    "print_score(y_test1,y_pred_rabdom_for_test)"
   ]
  },
  {
   "cell_type": "code",
   "execution_count": 121,
   "metadata": {},
   "outputs": [
    {
     "name": "stdout",
     "output_type": "stream",
     "text": [
      "Accuracy:  14.201085608795083\n",
      "Precision:  7.887673521830342\n",
      "Recall:  14.201085608795083\n",
      "f1 Score:  8.826248839508397\n"
     ]
    },
    {
     "name": "stderr",
     "output_type": "stream",
     "text": [
      "/anaconda3/lib/python3.6/site-packages/sklearn/metrics/classification.py:1143: UndefinedMetricWarning: Precision is ill-defined and being set to 0.0 in labels with no predicted samples.\n",
      "  'precision', 'predicted', average, warn_for)\n",
      "/anaconda3/lib/python3.6/site-packages/sklearn/metrics/classification.py:1143: UndefinedMetricWarning: F-score is ill-defined and being set to 0.0 in labels with no predicted samples.\n",
      "  'precision', 'predicted', average, warn_for)\n"
     ]
    }
   ],
   "source": [
    "clf4 = GaussianNB()\n",
    "clf4.fit(X_train1, y_train1)\n",
    "y_pred_GaussianNB = clf4.predict(X_test1)\n",
    "print_score(y_test1,y_pred_GaussianNB)"
   ]
  },
  {
   "cell_type": "code",
   "execution_count": 122,
   "metadata": {},
   "outputs": [
    {
     "name": "stdout",
     "output_type": "stream",
     "text": [
      "Accuracy:  10.718320337255118\n",
      "Precision:  12.660583801292887\n",
      "Recall:  10.718320337255118\n",
      "f1 Score:  10.87320575035577\n"
     ]
    },
    {
     "name": "stderr",
     "output_type": "stream",
     "text": [
      "/anaconda3/lib/python3.6/site-packages/sklearn/metrics/classification.py:1143: UndefinedMetricWarning: Precision is ill-defined and being set to 0.0 in labels with no predicted samples.\n",
      "  'precision', 'predicted', average, warn_for)\n",
      "/anaconda3/lib/python3.6/site-packages/sklearn/metrics/classification.py:1143: UndefinedMetricWarning: F-score is ill-defined and being set to 0.0 in labels with no predicted samples.\n",
      "  'precision', 'predicted', average, warn_for)\n"
     ]
    }
   ],
   "source": [
    "knn_3 = KNeighborsClassifier(3, weights='uniform', p=2, metric='euclidean')\n",
    "knn_3.fit(X_train1, y_train1)\n",
    "y_pred_KNeighborsClassifier_3 = knn_3.predict(X_test1)\n",
    "print_score(y_test1,y_pred_KNeighborsClassifier_3)"
   ]
  },
  {
   "cell_type": "code",
   "execution_count": 123,
   "metadata": {},
   "outputs": [
    {
     "name": "stdout",
     "output_type": "stream",
     "text": [
      "Accuracy:  11.349296007494559\n",
      "Precision:  13.191526826634512\n",
      "Recall:  11.349296007494559\n",
      "f1 Score:  10.991474629927302\n"
     ]
    },
    {
     "name": "stderr",
     "output_type": "stream",
     "text": [
      "/anaconda3/lib/python3.6/site-packages/sklearn/metrics/classification.py:1143: UndefinedMetricWarning: Precision is ill-defined and being set to 0.0 in labels with no predicted samples.\n",
      "  'precision', 'predicted', average, warn_for)\n",
      "/anaconda3/lib/python3.6/site-packages/sklearn/metrics/classification.py:1143: UndefinedMetricWarning: F-score is ill-defined and being set to 0.0 in labels with no predicted samples.\n",
      "  'precision', 'predicted', average, warn_for)\n"
     ]
    }
   ],
   "source": [
    "knn_4 = KNeighborsClassifier(4, weights='uniform', p=2, metric='euclidean')\n",
    "knn_4.fit(X_train1, y_train1)\n",
    "y_pred_KNeighborsClassifier_4 = knn_4.predict(X_test1)\n",
    "print_score(y_test1,y_pred_KNeighborsClassifier_4)"
   ]
  },
  {
   "cell_type": "code",
   "execution_count": null,
   "metadata": {},
   "outputs": [],
   "source": []
  }
 ],
 "metadata": {
  "kernelspec": {
   "display_name": "Python 3",
   "language": "python",
   "name": "python3"
  },
  "language_info": {
   "codemirror_mode": {
    "name": "ipython",
    "version": 3
   },
   "file_extension": ".py",
   "mimetype": "text/x-python",
   "name": "python",
   "nbconvert_exporter": "python",
   "pygments_lexer": "ipython3",
   "version": "3.6.5"
  }
 },
 "nbformat": 4,
 "nbformat_minor": 2
}
