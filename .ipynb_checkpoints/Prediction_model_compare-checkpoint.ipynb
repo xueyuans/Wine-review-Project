{
 "cells": [
  {
   "cell_type": "code",
   "execution_count": 191,
   "metadata": {},
   "outputs": [
    {
     "data": {
      "text/html": [
       "<div>\n",
       "<style scoped>\n",
       "    .dataframe tbody tr th:only-of-type {\n",
       "        vertical-align: middle;\n",
       "    }\n",
       "\n",
       "    .dataframe tbody tr th {\n",
       "        vertical-align: top;\n",
       "    }\n",
       "\n",
       "    .dataframe thead th {\n",
       "        text-align: right;\n",
       "    }\n",
       "</style>\n",
       "<table border=\"1\" class=\"dataframe\">\n",
       "  <thead>\n",
       "    <tr style=\"text-align: right;\">\n",
       "      <th></th>\n",
       "      <th>Unnamed: 0</th>\n",
       "      <th>country</th>\n",
       "      <th>description</th>\n",
       "      <th>designation</th>\n",
       "      <th>points</th>\n",
       "      <th>price</th>\n",
       "      <th>province</th>\n",
       "      <th>region_1</th>\n",
       "      <th>region_2</th>\n",
       "      <th>taster_name</th>\n",
       "      <th>taster_twitter_handle</th>\n",
       "      <th>title</th>\n",
       "      <th>variety</th>\n",
       "      <th>winery</th>\n",
       "    </tr>\n",
       "  </thead>\n",
       "  <tbody>\n",
       "    <tr>\n",
       "      <th>0</th>\n",
       "      <td>0</td>\n",
       "      <td>Italy</td>\n",
       "      <td>Aromas include tropical fruit, broom, brimston...</td>\n",
       "      <td>Vulkà Bianco</td>\n",
       "      <td>87</td>\n",
       "      <td>NaN</td>\n",
       "      <td>Sicily &amp; Sardinia</td>\n",
       "      <td>Etna</td>\n",
       "      <td>NaN</td>\n",
       "      <td>Kerin O’Keefe</td>\n",
       "      <td>@kerinokeefe</td>\n",
       "      <td>Nicosia 2013 Vulkà Bianco  (Etna)</td>\n",
       "      <td>White Blend</td>\n",
       "      <td>Nicosia</td>\n",
       "    </tr>\n",
       "    <tr>\n",
       "      <th>1</th>\n",
       "      <td>1</td>\n",
       "      <td>Portugal</td>\n",
       "      <td>This is ripe and fruity, a wine that is smooth...</td>\n",
       "      <td>Avidagos</td>\n",
       "      <td>87</td>\n",
       "      <td>15.0</td>\n",
       "      <td>Douro</td>\n",
       "      <td>NaN</td>\n",
       "      <td>NaN</td>\n",
       "      <td>Roger Voss</td>\n",
       "      <td>@vossroger</td>\n",
       "      <td>Quinta dos Avidagos 2011 Avidagos Red (Douro)</td>\n",
       "      <td>Portuguese Red</td>\n",
       "      <td>Quinta dos Avidagos</td>\n",
       "    </tr>\n",
       "    <tr>\n",
       "      <th>2</th>\n",
       "      <td>2</td>\n",
       "      <td>US</td>\n",
       "      <td>Tart and snappy, the flavors of lime flesh and...</td>\n",
       "      <td>NaN</td>\n",
       "      <td>87</td>\n",
       "      <td>14.0</td>\n",
       "      <td>Oregon</td>\n",
       "      <td>Willamette Valley</td>\n",
       "      <td>Willamette Valley</td>\n",
       "      <td>Paul Gregutt</td>\n",
       "      <td>@paulgwine</td>\n",
       "      <td>Rainstorm 2013 Pinot Gris (Willamette Valley)</td>\n",
       "      <td>Pinot Gris</td>\n",
       "      <td>Rainstorm</td>\n",
       "    </tr>\n",
       "    <tr>\n",
       "      <th>3</th>\n",
       "      <td>3</td>\n",
       "      <td>US</td>\n",
       "      <td>Pineapple rind, lemon pith and orange blossom ...</td>\n",
       "      <td>Reserve Late Harvest</td>\n",
       "      <td>87</td>\n",
       "      <td>13.0</td>\n",
       "      <td>Michigan</td>\n",
       "      <td>Lake Michigan Shore</td>\n",
       "      <td>NaN</td>\n",
       "      <td>Alexander Peartree</td>\n",
       "      <td>NaN</td>\n",
       "      <td>St. Julian 2013 Reserve Late Harvest Riesling ...</td>\n",
       "      <td>Riesling</td>\n",
       "      <td>St. Julian</td>\n",
       "    </tr>\n",
       "    <tr>\n",
       "      <th>4</th>\n",
       "      <td>4</td>\n",
       "      <td>US</td>\n",
       "      <td>Much like the regular bottling from 2012, this...</td>\n",
       "      <td>Vintner's Reserve Wild Child Block</td>\n",
       "      <td>87</td>\n",
       "      <td>65.0</td>\n",
       "      <td>Oregon</td>\n",
       "      <td>Willamette Valley</td>\n",
       "      <td>Willamette Valley</td>\n",
       "      <td>Paul Gregutt</td>\n",
       "      <td>@paulgwine</td>\n",
       "      <td>Sweet Cheeks 2012 Vintner's Reserve Wild Child...</td>\n",
       "      <td>Pinot Noir</td>\n",
       "      <td>Sweet Cheeks</td>\n",
       "    </tr>\n",
       "  </tbody>\n",
       "</table>\n",
       "</div>"
      ],
      "text/plain": [
       "   Unnamed: 0   country                                        description  \\\n",
       "0           0     Italy  Aromas include tropical fruit, broom, brimston...   \n",
       "1           1  Portugal  This is ripe and fruity, a wine that is smooth...   \n",
       "2           2        US  Tart and snappy, the flavors of lime flesh and...   \n",
       "3           3        US  Pineapple rind, lemon pith and orange blossom ...   \n",
       "4           4        US  Much like the regular bottling from 2012, this...   \n",
       "\n",
       "                          designation  points  price           province  \\\n",
       "0                        Vulkà Bianco      87    NaN  Sicily & Sardinia   \n",
       "1                            Avidagos      87   15.0              Douro   \n",
       "2                                 NaN      87   14.0             Oregon   \n",
       "3                Reserve Late Harvest      87   13.0           Michigan   \n",
       "4  Vintner's Reserve Wild Child Block      87   65.0             Oregon   \n",
       "\n",
       "              region_1           region_2         taster_name  \\\n",
       "0                 Etna                NaN       Kerin O’Keefe   \n",
       "1                  NaN                NaN          Roger Voss   \n",
       "2    Willamette Valley  Willamette Valley        Paul Gregutt   \n",
       "3  Lake Michigan Shore                NaN  Alexander Peartree   \n",
       "4    Willamette Valley  Willamette Valley        Paul Gregutt   \n",
       "\n",
       "  taster_twitter_handle                                              title  \\\n",
       "0          @kerinokeefe                  Nicosia 2013 Vulkà Bianco  (Etna)   \n",
       "1            @vossroger      Quinta dos Avidagos 2011 Avidagos Red (Douro)   \n",
       "2           @paulgwine       Rainstorm 2013 Pinot Gris (Willamette Valley)   \n",
       "3                   NaN  St. Julian 2013 Reserve Late Harvest Riesling ...   \n",
       "4           @paulgwine   Sweet Cheeks 2012 Vintner's Reserve Wild Child...   \n",
       "\n",
       "          variety               winery  \n",
       "0     White Blend              Nicosia  \n",
       "1  Portuguese Red  Quinta dos Avidagos  \n",
       "2      Pinot Gris            Rainstorm  \n",
       "3        Riesling           St. Julian  \n",
       "4      Pinot Noir         Sweet Cheeks  "
      ]
     },
     "execution_count": 191,
     "metadata": {},
     "output_type": "execute_result"
    }
   ],
   "source": [
    "from sklearn.externals import joblib\n",
    "import pandas as pd\n",
    "from sklearn.metrics import r2_score\n",
    "from sklearn import linear_model\n",
    "from sklearn.preprocessing import LabelEncoder\n",
    "from sklearn.model_selection import train_test_split\n",
    "from sklearn.metrics import r2_score\n",
    "from sklearn import linear_model\n",
    "from sklearn.linear_model import LogisticRegression\n",
    "import matplotlib.pyplot as plt\n",
    "from sklearn.preprocessing import PolynomialFeatures\n",
    "import numpy as np\n",
    "from sklearn.metrics import accuracy_score\n",
    "from sklearn.metrics import precision_score, recall_score\n",
    "from sklearn.metrics import f1_score\n",
    "from sklearn.feature_extraction.text import CountVectorizer, TfidfVectorizer\n",
    "from sklearn.model_selection import train_test_split\n",
    "from sklearn.metrics import confusion_matrix, classification_report\n",
    "import re\n",
    "import seaborn as sns\n",
    "from sklearn.tree import DecisionTreeClassifier\n",
    "from sklearn.neighbors import KNeighborsClassifier\n",
    "from sklearn.naive_bayes import GaussianNB\n",
    "from sklearn.ensemble import RandomForestClassifier\n",
    "\n",
    "\n",
    "init_df = pd.read_csv('/Users/yiyangzhang/CS@Northeastern University/CS7180_AI/Wine-review-Project-master/wine-reviews_data/winemag-data-130k-v2.csv', na_values=\"?\")\n",
    "init_df.head()"
   ]
  },
  {
   "cell_type": "code",
   "execution_count": 192,
   "metadata": {},
   "outputs": [
    {
     "data": {
      "text/html": [
       "<div>\n",
       "<style scoped>\n",
       "    .dataframe tbody tr th:only-of-type {\n",
       "        vertical-align: middle;\n",
       "    }\n",
       "\n",
       "    .dataframe tbody tr th {\n",
       "        vertical-align: top;\n",
       "    }\n",
       "\n",
       "    .dataframe thead th {\n",
       "        text-align: right;\n",
       "    }\n",
       "</style>\n",
       "<table border=\"1\" class=\"dataframe\">\n",
       "  <thead>\n",
       "    <tr style=\"text-align: right;\">\n",
       "      <th></th>\n",
       "      <th>description</th>\n",
       "      <th>price</th>\n",
       "    </tr>\n",
       "  </thead>\n",
       "  <tbody>\n",
       "    <tr>\n",
       "      <th>1</th>\n",
       "      <td>This is ripe and fruity, a wine that is smooth...</td>\n",
       "      <td>15.0</td>\n",
       "    </tr>\n",
       "    <tr>\n",
       "      <th>2</th>\n",
       "      <td>Tart and snappy, the flavors of lime flesh and...</td>\n",
       "      <td>14.0</td>\n",
       "    </tr>\n",
       "    <tr>\n",
       "      <th>3</th>\n",
       "      <td>Pineapple rind, lemon pith and orange blossom ...</td>\n",
       "      <td>13.0</td>\n",
       "    </tr>\n",
       "    <tr>\n",
       "      <th>4</th>\n",
       "      <td>Much like the regular bottling from 2012, this...</td>\n",
       "      <td>65.0</td>\n",
       "    </tr>\n",
       "    <tr>\n",
       "      <th>5</th>\n",
       "      <td>Blackberry and raspberry aromas show a typical...</td>\n",
       "      <td>15.0</td>\n",
       "    </tr>\n",
       "  </tbody>\n",
       "</table>\n",
       "</div>"
      ],
      "text/plain": [
       "                                         description  price\n",
       "1  This is ripe and fruity, a wine that is smooth...   15.0\n",
       "2  Tart and snappy, the flavors of lime flesh and...   14.0\n",
       "3  Pineapple rind, lemon pith and orange blossom ...   13.0\n",
       "4  Much like the regular bottling from 2012, this...   65.0\n",
       "5  Blackberry and raspberry aromas show a typical...   15.0"
      ]
     },
     "execution_count": 192,
     "metadata": {},
     "output_type": "execute_result"
    }
   ],
   "source": [
    "## remove outliear\n",
    "parsed_df = init_df.where(init_df['price'] < 1500)\n",
    "\n",
    "\n",
    "## I drop these columns because some of them looks unrelated to final results(Unnamed: 0, taster_twitter_handle,designation), the others have \n",
    "## too many values(more than 1000 or 10000) so it is impossible to show them to users. What's more. I also tried to involve these values into\n",
    "## my model and found they have very slight affect to my model's performance. So I just drop them\n",
    "\n",
    "parsed_df = parsed_df[['description','price']]\n",
    "parsed_df = parsed_df.dropna()\n",
    "parsed_df.head()"
   ]
  },
  {
   "cell_type": "code",
   "execution_count": 193,
   "metadata": {},
   "outputs": [
    {
     "data": {
      "text/html": [
       "<div>\n",
       "<style scoped>\n",
       "    .dataframe tbody tr th:only-of-type {\n",
       "        vertical-align: middle;\n",
       "    }\n",
       "\n",
       "    .dataframe tbody tr th {\n",
       "        vertical-align: top;\n",
       "    }\n",
       "\n",
       "    .dataframe thead th {\n",
       "        text-align: right;\n",
       "    }\n",
       "</style>\n",
       "<table border=\"1\" class=\"dataframe\">\n",
       "  <thead>\n",
       "    <tr style=\"text-align: right;\">\n",
       "      <th></th>\n",
       "      <th>description</th>\n",
       "      <th>price_level</th>\n",
       "    </tr>\n",
       "  </thead>\n",
       "  <tbody>\n",
       "    <tr>\n",
       "      <th>1</th>\n",
       "      <td>This is ripe and fruity, a wine that is smooth...</td>\n",
       "      <td>1</td>\n",
       "    </tr>\n",
       "    <tr>\n",
       "      <th>2</th>\n",
       "      <td>Tart and snappy, the flavors of lime flesh and...</td>\n",
       "      <td>1</td>\n",
       "    </tr>\n",
       "    <tr>\n",
       "      <th>3</th>\n",
       "      <td>Pineapple rind, lemon pith and orange blossom ...</td>\n",
       "      <td>1</td>\n",
       "    </tr>\n",
       "    <tr>\n",
       "      <th>4</th>\n",
       "      <td>Much like the regular bottling from 2012, this...</td>\n",
       "      <td>2</td>\n",
       "    </tr>\n",
       "    <tr>\n",
       "      <th>5</th>\n",
       "      <td>Blackberry and raspberry aromas show a typical...</td>\n",
       "      <td>1</td>\n",
       "    </tr>\n",
       "  </tbody>\n",
       "</table>\n",
       "</div>"
      ],
      "text/plain": [
       "                                         description  price_level\n",
       "1  This is ripe and fruity, a wine that is smooth...            1\n",
       "2  Tart and snappy, the flavors of lime flesh and...            1\n",
       "3  Pineapple rind, lemon pith and orange blossom ...            1\n",
       "4  Much like the regular bottling from 2012, this...            2\n",
       "5  Blackberry and raspberry aromas show a typical...            1"
      ]
     },
     "execution_count": 193,
     "metadata": {},
     "output_type": "execute_result"
    }
   ],
   "source": [
    "def priceLevel(row):\n",
    "    if row['price'] >= 200:\n",
    "        val = 5\n",
    "    elif row['price'] >= 100 and row['price'] < 200:\n",
    "        val = 4\n",
    "    elif row['price'] >= 70 and row['price'] < 100:\n",
    "        val = 3\n",
    "    elif row['price'] >= 35 and row['price'] < 70:\n",
    "        val = 2\n",
    "    else:\n",
    "        val = 1\n",
    "    return(val)\n",
    "parsed_df['price_level'] = parsed_df.apply(priceLevel, axis=1)\n",
    "parsed_df = parsed_df.drop(['price'],1)\n",
    "parsed_df.head()"
   ]
  },
  {
   "cell_type": "code",
   "execution_count": 194,
   "metadata": {},
   "outputs": [
    {
     "data": {
      "text/html": [
       "<div>\n",
       "<style scoped>\n",
       "    .dataframe tbody tr th:only-of-type {\n",
       "        vertical-align: middle;\n",
       "    }\n",
       "\n",
       "    .dataframe tbody tr th {\n",
       "        vertical-align: top;\n",
       "    }\n",
       "\n",
       "    .dataframe thead th {\n",
       "        text-align: right;\n",
       "    }\n",
       "</style>\n",
       "<table border=\"1\" class=\"dataframe\">\n",
       "  <thead>\n",
       "    <tr style=\"text-align: right;\">\n",
       "      <th></th>\n",
       "      <th>description</th>\n",
       "      <th>price_level</th>\n",
       "      <th>description_length</th>\n",
       "    </tr>\n",
       "  </thead>\n",
       "  <tbody>\n",
       "    <tr>\n",
       "      <th>1</th>\n",
       "      <td>This is ripe and fruity, a wine that is smooth...</td>\n",
       "      <td>1</td>\n",
       "      <td>227</td>\n",
       "    </tr>\n",
       "    <tr>\n",
       "      <th>2</th>\n",
       "      <td>Tart and snappy, the flavors of lime flesh and...</td>\n",
       "      <td>1</td>\n",
       "      <td>186</td>\n",
       "    </tr>\n",
       "    <tr>\n",
       "      <th>3</th>\n",
       "      <td>Pineapple rind, lemon pith and orange blossom ...</td>\n",
       "      <td>1</td>\n",
       "      <td>199</td>\n",
       "    </tr>\n",
       "    <tr>\n",
       "      <th>4</th>\n",
       "      <td>Much like the regular bottling from 2012, this...</td>\n",
       "      <td>2</td>\n",
       "      <td>249</td>\n",
       "    </tr>\n",
       "    <tr>\n",
       "      <th>5</th>\n",
       "      <td>Blackberry and raspberry aromas show a typical...</td>\n",
       "      <td>1</td>\n",
       "      <td>261</td>\n",
       "    </tr>\n",
       "  </tbody>\n",
       "</table>\n",
       "</div>"
      ],
      "text/plain": [
       "                                         description  price_level  \\\n",
       "1  This is ripe and fruity, a wine that is smooth...            1   \n",
       "2  Tart and snappy, the flavors of lime flesh and...            1   \n",
       "3  Pineapple rind, lemon pith and orange blossom ...            1   \n",
       "4  Much like the regular bottling from 2012, this...            2   \n",
       "5  Blackberry and raspberry aromas show a typical...            1   \n",
       "\n",
       "   description_length  \n",
       "1                 227  \n",
       "2                 186  \n",
       "3                 199  \n",
       "4                 249  \n",
       "5                 261  "
      ]
     },
     "execution_count": 194,
     "metadata": {},
     "output_type": "execute_result"
    }
   ],
   "source": [
    "parsed_df = parsed_df.assign(description_length = parsed_df['description'].apply(len))\n",
    "parsed_df.head()"
   ]
  },
  {
   "cell_type": "code",
   "execution_count": 199,
   "metadata": {},
   "outputs": [
    {
     "data": {
      "text/plain": [
       "CountVectorizer(analyzer='word', binary=False, decode_error='strict',\n",
       "        dtype=<class 'numpy.int64'>, encoding='utf-8', input='content',\n",
       "        lowercase=True, max_df=1.0, max_features=None, min_df=1,\n",
       "        ngram_range=(1, 1), preprocessor=None, stop_words=None,\n",
       "        strip_accents=None, token_pattern='(?u)\\\\b\\\\w\\\\w+\\\\b',\n",
       "        tokenizer=None, vocabulary=None)"
      ]
     },
     "execution_count": 199,
     "metadata": {},
     "output_type": "execute_result"
    }
   ],
   "source": [
    "X = parsed_df['description']\n",
    "y = parsed_df['price_level']\n",
    "vectorizer = CountVectorizer()\n",
    "vectorizer.fit(X)"
   ]
  },
  {
   "cell_type": "code",
   "execution_count": 200,
   "metadata": {},
   "outputs": [
    {
     "name": "stderr",
     "output_type": "stream",
     "text": [
      "/anaconda3/lib/python3.6/site-packages/sklearn/ensemble/forest.py:248: FutureWarning: The default value of n_estimators will change from 10 in version 0.20 to 100 in 0.22.\n",
      "  \"10 in version 0.20 to 100 in 0.22.\", FutureWarning)\n"
     ]
    },
    {
     "name": "stdout",
     "output_type": "stream",
     "text": [
      "              precision    recall  f1-score   support\n",
      "\n",
      "           1       0.73      0.95      0.82      7736\n",
      "           2       0.62      0.34      0.44      3342\n",
      "           3       0.83      0.12      0.20       642\n",
      "           4       0.92      0.08      0.15       304\n",
      "           5       1.00      0.03      0.05        73\n",
      "\n",
      "   micro avg       0.71      0.71      0.71     12097\n",
      "   macro avg       0.82      0.30      0.33     12097\n",
      "weighted avg       0.71      0.71      0.66     12097\n",
      "\n"
     ]
    }
   ],
   "source": [
    "X = vectorizer.transform(X)\n",
    "# Training the model\n",
    "X_train, X_test, y_train, y_test = train_test_split(X, y, test_size=0.1, random_state=42)\n",
    "rfc = RandomForestClassifier()\n",
    "rfc.fit(X_train, y_train)\n",
    "\n",
    "# Testing the model\n",
    "predictions = rfc.predict(X_test)\n",
    "print(classification_report(y_test, predictions))"
   ]
  },
  {
   "cell_type": "code",
   "execution_count": 122,
   "metadata": {},
   "outputs": [],
   "source": [
    "X = parsed_df['description']\n",
    "y = parsed_df['price_level']\n",
    "\n",
    "# Vectorizing model\n",
    "vectorizer = TfidfVectorizer()\n",
    "vectorizer.fit(X)\n",
    "X = vectorizer.transform(X)"
   ]
  },
  {
   "cell_type": "code",
   "execution_count": 123,
   "metadata": {},
   "outputs": [
    {
     "name": "stderr",
     "output_type": "stream",
     "text": [
      "/anaconda3/lib/python3.6/site-packages/sklearn/ensemble/forest.py:248: FutureWarning: The default value of n_estimators will change from 10 in version 0.20 to 100 in 0.22.\n",
      "  \"10 in version 0.20 to 100 in 0.22.\", FutureWarning)\n"
     ]
    },
    {
     "name": "stdout",
     "output_type": "stream",
     "text": [
      "              precision    recall  f1-score   support\n",
      "\n",
      "           1       0.73      0.94      0.82     15496\n",
      "           2       0.60      0.35      0.44      6654\n",
      "           3       0.82      0.11      0.20      1287\n",
      "           4       0.87      0.06      0.12       610\n",
      "           5       0.78      0.05      0.09       147\n",
      "\n",
      "   micro avg       0.71      0.71      0.71     24194\n",
      "   macro avg       0.76      0.30      0.33     24194\n",
      "weighted avg       0.70      0.71      0.66     24194\n",
      "\n"
     ]
    }
   ],
   "source": [
    "# Training model\n",
    "X_train, X_test, y_train, y_test = train_test_split(X, y, test_size=0.2, random_state=101)\n",
    "rfc = RandomForestClassifier()\n",
    "rfc.fit(X_train, y_train)\n",
    "\n",
    "# Testing model\n",
    "predictions = rfc.predict(X_test)\n",
    "print(classification_report(y_test, predictions))"
   ]
  },
  {
   "cell_type": "code",
   "execution_count": 124,
   "metadata": {},
   "outputs": [
    {
     "data": {
      "text/html": [
       "<div>\n",
       "<style scoped>\n",
       "    .dataframe tbody tr th:only-of-type {\n",
       "        vertical-align: middle;\n",
       "    }\n",
       "\n",
       "    .dataframe tbody tr th {\n",
       "        vertical-align: top;\n",
       "    }\n",
       "\n",
       "    .dataframe thead th {\n",
       "        text-align: right;\n",
       "    }\n",
       "</style>\n",
       "<table border=\"1\" class=\"dataframe\">\n",
       "  <thead>\n",
       "    <tr style=\"text-align: right;\">\n",
       "      <th></th>\n",
       "      <th>country</th>\n",
       "      <th>points</th>\n",
       "      <th>price</th>\n",
       "      <th>province</th>\n",
       "      <th>winery</th>\n",
       "    </tr>\n",
       "  </thead>\n",
       "  <tbody>\n",
       "    <tr>\n",
       "      <th>1</th>\n",
       "      <td>Portugal</td>\n",
       "      <td>87.0</td>\n",
       "      <td>15.0</td>\n",
       "      <td>Douro</td>\n",
       "      <td>Quinta dos Avidagos</td>\n",
       "    </tr>\n",
       "    <tr>\n",
       "      <th>2</th>\n",
       "      <td>US</td>\n",
       "      <td>87.0</td>\n",
       "      <td>14.0</td>\n",
       "      <td>Oregon</td>\n",
       "      <td>Rainstorm</td>\n",
       "    </tr>\n",
       "    <tr>\n",
       "      <th>3</th>\n",
       "      <td>US</td>\n",
       "      <td>87.0</td>\n",
       "      <td>13.0</td>\n",
       "      <td>Michigan</td>\n",
       "      <td>St. Julian</td>\n",
       "    </tr>\n",
       "    <tr>\n",
       "      <th>4</th>\n",
       "      <td>US</td>\n",
       "      <td>87.0</td>\n",
       "      <td>65.0</td>\n",
       "      <td>Oregon</td>\n",
       "      <td>Sweet Cheeks</td>\n",
       "    </tr>\n",
       "    <tr>\n",
       "      <th>5</th>\n",
       "      <td>Spain</td>\n",
       "      <td>87.0</td>\n",
       "      <td>15.0</td>\n",
       "      <td>Northern Spain</td>\n",
       "      <td>Tandem</td>\n",
       "    </tr>\n",
       "  </tbody>\n",
       "</table>\n",
       "</div>"
      ],
      "text/plain": [
       "    country  points  price        province               winery\n",
       "1  Portugal    87.0   15.0           Douro  Quinta dos Avidagos\n",
       "2        US    87.0   14.0          Oregon            Rainstorm\n",
       "3        US    87.0   13.0        Michigan           St. Julian\n",
       "4        US    87.0   65.0          Oregon         Sweet Cheeks\n",
       "5     Spain    87.0   15.0  Northern Spain               Tandem"
      ]
     },
     "execution_count": 124,
     "metadata": {},
     "output_type": "execute_result"
    }
   ],
   "source": [
    "## remove outliear\n",
    "df = init_df.where(init_df['price'] < 1500)\n",
    "\n",
    "\n",
    "## I drop these columns because some of them looks unrelated to final results(Unnamed: 0, taster_twitter_handle,designation), the others have \n",
    "## too many values(more than 1000 or 10000) so it is impossible to show them to users. What's more. I also tried to involve these values into\n",
    "## my model and found they have very slight affect to my model's performance. So I just drop them\n",
    "df = df.drop(['Unnamed: 0','description','taster_twitter_handle','title','region_1', 'region_2','designation','variety', 'taster_name'],1)\n",
    "df = df.dropna()\n",
    "df.head()"
   ]
  },
  {
   "cell_type": "code",
   "execution_count": 125,
   "metadata": {},
   "outputs": [
    {
     "data": {
      "text/html": [
       "<div>\n",
       "<style scoped>\n",
       "    .dataframe tbody tr th:only-of-type {\n",
       "        vertical-align: middle;\n",
       "    }\n",
       "\n",
       "    .dataframe tbody tr th {\n",
       "        vertical-align: top;\n",
       "    }\n",
       "\n",
       "    .dataframe thead th {\n",
       "        text-align: right;\n",
       "    }\n",
       "</style>\n",
       "<table border=\"1\" class=\"dataframe\">\n",
       "  <thead>\n",
       "    <tr style=\"text-align: right;\">\n",
       "      <th></th>\n",
       "      <th>country</th>\n",
       "      <th>points</th>\n",
       "      <th>price</th>\n",
       "      <th>province</th>\n",
       "      <th>winery</th>\n",
       "    </tr>\n",
       "  </thead>\n",
       "  <tbody>\n",
       "    <tr>\n",
       "      <th>1</th>\n",
       "      <td>30</td>\n",
       "      <td>87.0</td>\n",
       "      <td>15.0</td>\n",
       "      <td>Douro</td>\n",
       "      <td>Quinta dos Avidagos</td>\n",
       "    </tr>\n",
       "    <tr>\n",
       "      <th>2</th>\n",
       "      <td>39</td>\n",
       "      <td>87.0</td>\n",
       "      <td>14.0</td>\n",
       "      <td>Oregon</td>\n",
       "      <td>Rainstorm</td>\n",
       "    </tr>\n",
       "    <tr>\n",
       "      <th>3</th>\n",
       "      <td>39</td>\n",
       "      <td>87.0</td>\n",
       "      <td>13.0</td>\n",
       "      <td>Michigan</td>\n",
       "      <td>St. Julian</td>\n",
       "    </tr>\n",
       "    <tr>\n",
       "      <th>4</th>\n",
       "      <td>39</td>\n",
       "      <td>87.0</td>\n",
       "      <td>65.0</td>\n",
       "      <td>Oregon</td>\n",
       "      <td>Sweet Cheeks</td>\n",
       "    </tr>\n",
       "    <tr>\n",
       "      <th>5</th>\n",
       "      <td>36</td>\n",
       "      <td>87.0</td>\n",
       "      <td>15.0</td>\n",
       "      <td>Northern Spain</td>\n",
       "      <td>Tandem</td>\n",
       "    </tr>\n",
       "  </tbody>\n",
       "</table>\n",
       "</div>"
      ],
      "text/plain": [
       "   country  points  price        province               winery\n",
       "1       30    87.0   15.0           Douro  Quinta dos Avidagos\n",
       "2       39    87.0   14.0          Oregon            Rainstorm\n",
       "3       39    87.0   13.0        Michigan           St. Julian\n",
       "4       39    87.0   65.0          Oregon         Sweet Cheeks\n",
       "5       36    87.0   15.0  Northern Spain               Tandem"
      ]
     },
     "execution_count": 125,
     "metadata": {},
     "output_type": "execute_result"
    }
   ],
   "source": [
    "# use the LabelEncoder function to convert the country to corresponding integers.\n",
    "le_country = LabelEncoder()\n",
    "le_country.fit(df['country'])\n",
    "df['country']= le_country.transform(df['country'])\n",
    "# le_country_mapping = dict(zip(le_country.classes_, le_country.transform(le_country.classes_)))\n",
    "# print(le_country_mapping)\n",
    "df.head()"
   ]
  },
  {
   "cell_type": "code",
   "execution_count": 126,
   "metadata": {},
   "outputs": [
    {
     "data": {
      "text/html": [
       "<div>\n",
       "<style scoped>\n",
       "    .dataframe tbody tr th:only-of-type {\n",
       "        vertical-align: middle;\n",
       "    }\n",
       "\n",
       "    .dataframe tbody tr th {\n",
       "        vertical-align: top;\n",
       "    }\n",
       "\n",
       "    .dataframe thead th {\n",
       "        text-align: right;\n",
       "    }\n",
       "</style>\n",
       "<table border=\"1\" class=\"dataframe\">\n",
       "  <thead>\n",
       "    <tr style=\"text-align: right;\">\n",
       "      <th></th>\n",
       "      <th>country</th>\n",
       "      <th>points</th>\n",
       "      <th>price</th>\n",
       "      <th>province</th>\n",
       "      <th>winery</th>\n",
       "    </tr>\n",
       "  </thead>\n",
       "  <tbody>\n",
       "    <tr>\n",
       "      <th>1</th>\n",
       "      <td>30</td>\n",
       "      <td>87.0</td>\n",
       "      <td>15.0</td>\n",
       "      <td>107</td>\n",
       "      <td>Quinta dos Avidagos</td>\n",
       "    </tr>\n",
       "    <tr>\n",
       "      <th>2</th>\n",
       "      <td>39</td>\n",
       "      <td>87.0</td>\n",
       "      <td>14.0</td>\n",
       "      <td>266</td>\n",
       "      <td>Rainstorm</td>\n",
       "    </tr>\n",
       "    <tr>\n",
       "      <th>3</th>\n",
       "      <td>39</td>\n",
       "      <td>87.0</td>\n",
       "      <td>13.0</td>\n",
       "      <td>216</td>\n",
       "      <td>St. Julian</td>\n",
       "    </tr>\n",
       "    <tr>\n",
       "      <th>4</th>\n",
       "      <td>39</td>\n",
       "      <td>87.0</td>\n",
       "      <td>65.0</td>\n",
       "      <td>266</td>\n",
       "      <td>Sweet Cheeks</td>\n",
       "    </tr>\n",
       "    <tr>\n",
       "      <th>5</th>\n",
       "      <td>36</td>\n",
       "      <td>87.0</td>\n",
       "      <td>15.0</td>\n",
       "      <td>260</td>\n",
       "      <td>Tandem</td>\n",
       "    </tr>\n",
       "  </tbody>\n",
       "</table>\n",
       "</div>"
      ],
      "text/plain": [
       "   country  points  price  province               winery\n",
       "1       30    87.0   15.0       107  Quinta dos Avidagos\n",
       "2       39    87.0   14.0       266            Rainstorm\n",
       "3       39    87.0   13.0       216           St. Julian\n",
       "4       39    87.0   65.0       266         Sweet Cheeks\n",
       "5       36    87.0   15.0       260               Tandem"
      ]
     },
     "execution_count": 126,
     "metadata": {},
     "output_type": "execute_result"
    }
   ],
   "source": [
    "# use the LabelEncoder function to convert the province to corresponding integers.\n",
    "le_province = LabelEncoder()\n",
    "le_province.fit(df['province'])\n",
    "df['province']= le_province.transform(df['province'])\n",
    "# le_province_mapping = dict(zip(le_country.classes_, le_country.transform(le_country.classes_)))\n",
    "# print(le_name_mapping)\n",
    "df.head()"
   ]
  },
  {
   "cell_type": "code",
   "execution_count": 127,
   "metadata": {},
   "outputs": [
    {
     "data": {
      "text/html": [
       "<div>\n",
       "<style scoped>\n",
       "    .dataframe tbody tr th:only-of-type {\n",
       "        vertical-align: middle;\n",
       "    }\n",
       "\n",
       "    .dataframe tbody tr th {\n",
       "        vertical-align: top;\n",
       "    }\n",
       "\n",
       "    .dataframe thead th {\n",
       "        text-align: right;\n",
       "    }\n",
       "</style>\n",
       "<table border=\"1\" class=\"dataframe\">\n",
       "  <thead>\n",
       "    <tr style=\"text-align: right;\">\n",
       "      <th></th>\n",
       "      <th>country</th>\n",
       "      <th>points</th>\n",
       "      <th>price</th>\n",
       "      <th>province</th>\n",
       "      <th>winery</th>\n",
       "    </tr>\n",
       "  </thead>\n",
       "  <tbody>\n",
       "    <tr>\n",
       "      <th>1</th>\n",
       "      <td>30</td>\n",
       "      <td>87.0</td>\n",
       "      <td>15.0</td>\n",
       "      <td>107</td>\n",
       "      <td>12187</td>\n",
       "    </tr>\n",
       "    <tr>\n",
       "      <th>2</th>\n",
       "      <td>39</td>\n",
       "      <td>87.0</td>\n",
       "      <td>14.0</td>\n",
       "      <td>266</td>\n",
       "      <td>12247</td>\n",
       "    </tr>\n",
       "    <tr>\n",
       "      <th>3</th>\n",
       "      <td>39</td>\n",
       "      <td>87.0</td>\n",
       "      <td>13.0</td>\n",
       "      <td>216</td>\n",
       "      <td>13563</td>\n",
       "    </tr>\n",
       "    <tr>\n",
       "      <th>4</th>\n",
       "      <td>39</td>\n",
       "      <td>87.0</td>\n",
       "      <td>65.0</td>\n",
       "      <td>266</td>\n",
       "      <td>13788</td>\n",
       "    </tr>\n",
       "    <tr>\n",
       "      <th>5</th>\n",
       "      <td>36</td>\n",
       "      <td>87.0</td>\n",
       "      <td>15.0</td>\n",
       "      <td>260</td>\n",
       "      <td>13868</td>\n",
       "    </tr>\n",
       "  </tbody>\n",
       "</table>\n",
       "</div>"
      ],
      "text/plain": [
       "   country  points  price  province  winery\n",
       "1       30    87.0   15.0       107   12187\n",
       "2       39    87.0   14.0       266   12247\n",
       "3       39    87.0   13.0       216   13563\n",
       "4       39    87.0   65.0       266   13788\n",
       "5       36    87.0   15.0       260   13868"
      ]
     },
     "execution_count": 127,
     "metadata": {},
     "output_type": "execute_result"
    }
   ],
   "source": [
    "# use the LabelEncoder function to convert the taster_name to corresponding integers.\n",
    "le_taster_name = LabelEncoder()\n",
    "le_taster_name.fit(df['winery'])\n",
    "df['winery']= le_taster_name.transform(df['winery'])\n",
    "# le_province_mapping = dict(zip(le_country.classes_, le_country.transform(le_country.classes_)))\n",
    "# print(le_name_mapping)\n",
    "df.head()"
   ]
  },
  {
   "cell_type": "code",
   "execution_count": 128,
   "metadata": {},
   "outputs": [
    {
     "data": {
      "text/html": [
       "<div>\n",
       "<style scoped>\n",
       "    .dataframe tbody tr th:only-of-type {\n",
       "        vertical-align: middle;\n",
       "    }\n",
       "\n",
       "    .dataframe tbody tr th {\n",
       "        vertical-align: top;\n",
       "    }\n",
       "\n",
       "    .dataframe thead th {\n",
       "        text-align: right;\n",
       "    }\n",
       "</style>\n",
       "<table border=\"1\" class=\"dataframe\">\n",
       "  <thead>\n",
       "    <tr style=\"text-align: right;\">\n",
       "      <th></th>\n",
       "      <th>country</th>\n",
       "      <th>price</th>\n",
       "      <th>province</th>\n",
       "      <th>winery</th>\n",
       "      <th>quality_level</th>\n",
       "    </tr>\n",
       "  </thead>\n",
       "  <tbody>\n",
       "    <tr>\n",
       "      <th>1</th>\n",
       "      <td>30</td>\n",
       "      <td>15.0</td>\n",
       "      <td>107</td>\n",
       "      <td>12187</td>\n",
       "      <td>2</td>\n",
       "    </tr>\n",
       "    <tr>\n",
       "      <th>2</th>\n",
       "      <td>39</td>\n",
       "      <td>14.0</td>\n",
       "      <td>266</td>\n",
       "      <td>12247</td>\n",
       "      <td>2</td>\n",
       "    </tr>\n",
       "    <tr>\n",
       "      <th>3</th>\n",
       "      <td>39</td>\n",
       "      <td>13.0</td>\n",
       "      <td>216</td>\n",
       "      <td>13563</td>\n",
       "      <td>2</td>\n",
       "    </tr>\n",
       "    <tr>\n",
       "      <th>4</th>\n",
       "      <td>39</td>\n",
       "      <td>65.0</td>\n",
       "      <td>266</td>\n",
       "      <td>13788</td>\n",
       "      <td>2</td>\n",
       "    </tr>\n",
       "    <tr>\n",
       "      <th>5</th>\n",
       "      <td>36</td>\n",
       "      <td>15.0</td>\n",
       "      <td>260</td>\n",
       "      <td>13868</td>\n",
       "      <td>2</td>\n",
       "    </tr>\n",
       "  </tbody>\n",
       "</table>\n",
       "</div>"
      ],
      "text/plain": [
       "   country  price  province  winery  quality_level\n",
       "1       30   15.0       107   12187              2\n",
       "2       39   14.0       266   12247              2\n",
       "3       39   13.0       216   13563              2\n",
       "4       39   65.0       266   13788              2\n",
       "5       36   15.0       260   13868              2"
      ]
     },
     "execution_count": 128,
     "metadata": {},
     "output_type": "execute_result"
    }
   ],
   "source": [
    "def GoodRating(row):\n",
    "    if row['points'] >= 92:\n",
    "        val = 3\n",
    "    elif row['points'] >= 86 and row['points'] < 92:\n",
    "        val = 2\n",
    "    else:\n",
    "        val = 1\n",
    "    return(val)\n",
    "df['quality_level'] = df.apply(GoodRating, axis=1)\n",
    "df = df.drop(['points'],1)\n",
    "df.head()"
   ]
  },
  {
   "cell_type": "code",
   "execution_count": 129,
   "metadata": {},
   "outputs": [],
   "source": [
    "X1 = df.drop([\"quality_level\"], axis=1)\n",
    "# Extract the target feature\n",
    "y1 = df['quality_level']\n",
    "X_train1, X_test1, y_train1, y_test1 = train_test_split(X1, y1, test_size=0.2, random_state=42)"
   ]
  },
  {
   "cell_type": "code",
   "execution_count": 130,
   "metadata": {},
   "outputs": [],
   "source": [
    "def print_score(y_true,y_pred):\n",
    "    accuracy_dt =  accuracy_score(y_true,y_pred)*100\n",
    "    print('Accuracy: ', accuracy_dt)\n",
    "    precision_dt = precision_score(y_true,y_pred,average='weighted')*100\n",
    "    print('Precision: ', precision_dt)\n",
    "    recall_dt = recall_score(y_true,y_pred,average='weighted')*100\n",
    "    print('Recall: ', recall_dt)\n",
    "    f1_dt = f1_score(y_true,y_pred,average='weighted')*100\n",
    "    print('f1 Score: ', f1_dt)"
   ]
  },
  {
   "cell_type": "code",
   "execution_count": 131,
   "metadata": {},
   "outputs": [
    {
     "name": "stdout",
     "output_type": "stream",
     "text": [
      "Accuracy:  67.40550822926143\n",
      "Precision:  67.15419020339434\n",
      "Recall:  67.40550822926143\n",
      "f1 Score:  67.22465132064954\n"
     ]
    }
   ],
   "source": [
    "clf_dtc = DecisionTreeClassifier()\n",
    "clf_dtc.fit(X_train1, y_train1)\n",
    "y_pred_DecisionTreeClassifier= clf_dtc.predict(X_test1)\n",
    "print_score(y_test1,y_pred_DecisionTreeClassifier)"
   ]
  },
  {
   "cell_type": "code",
   "execution_count": 132,
   "metadata": {},
   "outputs": [
    {
     "name": "stdout",
     "output_type": "stream",
     "text": [
      "Accuracy:  67.9430981721942\n",
      "Precision:  56.05827712711331\n",
      "Recall:  67.9430981721942\n",
      "f1 Score:  58.51294272970024\n"
     ]
    },
    {
     "name": "stderr",
     "output_type": "stream",
     "text": [
      "/anaconda3/lib/python3.6/site-packages/sklearn/metrics/classification.py:1143: UndefinedMetricWarning: Precision is ill-defined and being set to 0.0 in labels with no predicted samples.\n",
      "  'precision', 'predicted', average, warn_for)\n",
      "/anaconda3/lib/python3.6/site-packages/sklearn/metrics/classification.py:1143: UndefinedMetricWarning: F-score is ill-defined and being set to 0.0 in labels with no predicted samples.\n",
      "  'precision', 'predicted', average, warn_for)\n"
     ]
    }
   ],
   "source": [
    "clf4 = GaussianNB()\n",
    "clf4.fit(X_train1, y_train1)\n",
    "y_pred_GaussianNB = clf4.predict(X_test1)\n",
    "print_score(y_test1,y_pred_GaussianNB)"
   ]
  },
  {
   "cell_type": "code",
   "execution_count": 133,
   "metadata": {},
   "outputs": [
    {
     "name": "stderr",
     "output_type": "stream",
     "text": [
      "/anaconda3/lib/python3.6/site-packages/sklearn/ensemble/forest.py:248: FutureWarning: The default value of n_estimators will change from 10 in version 0.20 to 100 in 0.22.\n",
      "  \"10 in version 0.20 to 100 in 0.22.\", FutureWarning)\n"
     ]
    },
    {
     "name": "stdout",
     "output_type": "stream",
     "text": [
      "Accuracy:  69.10098420312629\n",
      "Precision:  68.13201547982527\n",
      "Recall:  69.10098420312629\n",
      "f1 Score:  68.48932401746212\n"
     ]
    }
   ],
   "source": [
    "clf5 = RandomForestClassifier()\n",
    "clf5.fit(X_train1, y_train1)\n",
    "y_pred_rabdom_for_test = clf5.predict(X_test1)\n",
    "print_score(y_test1,y_pred_rabdom_for_test)"
   ]
  },
  {
   "cell_type": "code",
   "execution_count": 134,
   "metadata": {},
   "outputs": [
    {
     "name": "stdout",
     "output_type": "stream",
     "text": [
      "Accuracy:  67.91828632867421\n",
      "Precision:  66.69584540147902\n",
      "Recall:  67.91828632867421\n",
      "f1 Score:  67.11605837934844\n"
     ]
    }
   ],
   "source": [
    "knn_3 = KNeighborsClassifier(3, weights='uniform', p=2, metric='euclidean')\n",
    "knn_3.fit(X_train1, y_train1)\n",
    "y_pred_KNeighborsClassifier_3 = knn_3.predict(X_test1)\n",
    "print_score(y_test1,y_pred_KNeighborsClassifier_3)"
   ]
  },
  {
   "cell_type": "code",
   "execution_count": 135,
   "metadata": {},
   "outputs": [
    {
     "name": "stdout",
     "output_type": "stream",
     "text": [
      "Accuracy:  67.49234968158135\n",
      "Precision:  66.86297108418238\n",
      "Recall:  67.49234968158135\n",
      "f1 Score:  66.59608444510643\n"
     ]
    }
   ],
   "source": [
    "knn_4 = KNeighborsClassifier(4, weights='uniform', p=2, metric='euclidean')\n",
    "knn_4.fit(X_train1, y_train1)\n",
    "y_pred_KNeighborsClassifier_4 = knn_4.predict(X_test1)\n",
    "print_score(y_test1,y_pred_KNeighborsClassifier_4)"
   ]
  },
  {
   "cell_type": "code",
   "execution_count": 136,
   "metadata": {},
   "outputs": [
    {
     "name": "stdout",
     "output_type": "stream",
     "text": [
      "Accuracy:  64.18410387891821\n",
      "Precision:  66.35039481790882\n",
      "Recall:  64.18410387891821\n",
      "f1 Score:  64.0828335742678\n"
     ]
    }
   ],
   "source": [
    "knn_2 = KNeighborsClassifier(2, weights='uniform', p=2, metric='euclidean')\n",
    "knn_2.fit(X_train1, y_train1)\n",
    "y_pred_KNeighborsClassifier_2 = knn_2.predict(X_test1)\n",
    "print_score(y_test1,y_pred_KNeighborsClassifier_2)"
   ]
  },
  {
   "cell_type": "code",
   "execution_count": 137,
   "metadata": {},
   "outputs": [
    {
     "data": {
      "text/html": [
       "<div>\n",
       "<style scoped>\n",
       "    .dataframe tbody tr th:only-of-type {\n",
       "        vertical-align: middle;\n",
       "    }\n",
       "\n",
       "    .dataframe tbody tr th {\n",
       "        vertical-align: top;\n",
       "    }\n",
       "\n",
       "    .dataframe thead th {\n",
       "        text-align: right;\n",
       "    }\n",
       "</style>\n",
       "<table border=\"1\" class=\"dataframe\">\n",
       "  <thead>\n",
       "    <tr style=\"text-align: right;\">\n",
       "      <th></th>\n",
       "      <th>country</th>\n",
       "      <th>province</th>\n",
       "      <th>points</th>\n",
       "    </tr>\n",
       "  </thead>\n",
       "  <tbody>\n",
       "    <tr>\n",
       "      <th>0</th>\n",
       "      <td>Italy</td>\n",
       "      <td>Sicily &amp; Sardinia</td>\n",
       "      <td>87</td>\n",
       "    </tr>\n",
       "    <tr>\n",
       "      <th>1</th>\n",
       "      <td>Portugal</td>\n",
       "      <td>Douro</td>\n",
       "      <td>87</td>\n",
       "    </tr>\n",
       "    <tr>\n",
       "      <th>2</th>\n",
       "      <td>US</td>\n",
       "      <td>Oregon</td>\n",
       "      <td>87</td>\n",
       "    </tr>\n",
       "    <tr>\n",
       "      <th>3</th>\n",
       "      <td>US</td>\n",
       "      <td>Michigan</td>\n",
       "      <td>87</td>\n",
       "    </tr>\n",
       "    <tr>\n",
       "      <th>4</th>\n",
       "      <td>US</td>\n",
       "      <td>Oregon</td>\n",
       "      <td>87</td>\n",
       "    </tr>\n",
       "  </tbody>\n",
       "</table>\n",
       "</div>"
      ],
      "text/plain": [
       "    country           province  points\n",
       "0     Italy  Sicily & Sardinia      87\n",
       "1  Portugal              Douro      87\n",
       "2        US             Oregon      87\n",
       "3        US           Michigan      87\n",
       "4        US             Oregon      87"
      ]
     },
     "execution_count": 137,
     "metadata": {},
     "output_type": "execute_result"
    }
   ],
   "source": [
    "df = init_df[['country','province', 'points']]\n",
    "df = df.dropna()\n",
    "df.head()"
   ]
  },
  {
   "cell_type": "code",
   "execution_count": 138,
   "metadata": {},
   "outputs": [
    {
     "data": {
      "text/html": [
       "<div>\n",
       "<style scoped>\n",
       "    .dataframe tbody tr th:only-of-type {\n",
       "        vertical-align: middle;\n",
       "    }\n",
       "\n",
       "    .dataframe tbody tr th {\n",
       "        vertical-align: top;\n",
       "    }\n",
       "\n",
       "    .dataframe thead th {\n",
       "        text-align: right;\n",
       "    }\n",
       "</style>\n",
       "<table border=\"1\" class=\"dataframe\">\n",
       "  <thead>\n",
       "    <tr style=\"text-align: right;\">\n",
       "      <th></th>\n",
       "      <th>country</th>\n",
       "      <th>province</th>\n",
       "      <th>quality_level</th>\n",
       "    </tr>\n",
       "  </thead>\n",
       "  <tbody>\n",
       "    <tr>\n",
       "      <th>0</th>\n",
       "      <td>Italy</td>\n",
       "      <td>Sicily &amp; Sardinia</td>\n",
       "      <td>2</td>\n",
       "    </tr>\n",
       "    <tr>\n",
       "      <th>1</th>\n",
       "      <td>Portugal</td>\n",
       "      <td>Douro</td>\n",
       "      <td>2</td>\n",
       "    </tr>\n",
       "    <tr>\n",
       "      <th>2</th>\n",
       "      <td>US</td>\n",
       "      <td>Oregon</td>\n",
       "      <td>2</td>\n",
       "    </tr>\n",
       "    <tr>\n",
       "      <th>3</th>\n",
       "      <td>US</td>\n",
       "      <td>Michigan</td>\n",
       "      <td>2</td>\n",
       "    </tr>\n",
       "    <tr>\n",
       "      <th>4</th>\n",
       "      <td>US</td>\n",
       "      <td>Oregon</td>\n",
       "      <td>2</td>\n",
       "    </tr>\n",
       "  </tbody>\n",
       "</table>\n",
       "</div>"
      ],
      "text/plain": [
       "    country           province  quality_level\n",
       "0     Italy  Sicily & Sardinia              2\n",
       "1  Portugal              Douro              2\n",
       "2        US             Oregon              2\n",
       "3        US           Michigan              2\n",
       "4        US             Oregon              2"
      ]
     },
     "execution_count": 138,
     "metadata": {},
     "output_type": "execute_result"
    }
   ],
   "source": [
    "def GoodRating(row):\n",
    "    if row['points'] >= 92:\n",
    "        val = 3\n",
    "    elif row['points'] >= 86 and row['points'] < 92:\n",
    "        val = 2\n",
    "    else:\n",
    "        val = 1\n",
    "    return(val)\n",
    "df['quality_level'] = df.apply(GoodRating, axis=1)\n",
    "df = df.drop(['points'],1)\n",
    "df.head()"
   ]
  },
  {
   "cell_type": "code",
   "execution_count": 139,
   "metadata": {},
   "outputs": [
    {
     "data": {
      "text/html": [
       "<div>\n",
       "<style scoped>\n",
       "    .dataframe tbody tr th:only-of-type {\n",
       "        vertical-align: middle;\n",
       "    }\n",
       "\n",
       "    .dataframe tbody tr th {\n",
       "        vertical-align: top;\n",
       "    }\n",
       "\n",
       "    .dataframe thead th {\n",
       "        text-align: right;\n",
       "    }\n",
       "</style>\n",
       "<table border=\"1\" class=\"dataframe\">\n",
       "  <thead>\n",
       "    <tr style=\"text-align: right;\">\n",
       "      <th></th>\n",
       "      <th>country</th>\n",
       "      <th>province</th>\n",
       "      <th>quality_level</th>\n",
       "    </tr>\n",
       "  </thead>\n",
       "  <tbody>\n",
       "    <tr>\n",
       "      <th>0</th>\n",
       "      <td>22</td>\n",
       "      <td>Sicily &amp; Sardinia</td>\n",
       "      <td>2</td>\n",
       "    </tr>\n",
       "    <tr>\n",
       "      <th>1</th>\n",
       "      <td>31</td>\n",
       "      <td>Douro</td>\n",
       "      <td>2</td>\n",
       "    </tr>\n",
       "    <tr>\n",
       "      <th>2</th>\n",
       "      <td>40</td>\n",
       "      <td>Oregon</td>\n",
       "      <td>2</td>\n",
       "    </tr>\n",
       "    <tr>\n",
       "      <th>3</th>\n",
       "      <td>40</td>\n",
       "      <td>Michigan</td>\n",
       "      <td>2</td>\n",
       "    </tr>\n",
       "    <tr>\n",
       "      <th>4</th>\n",
       "      <td>40</td>\n",
       "      <td>Oregon</td>\n",
       "      <td>2</td>\n",
       "    </tr>\n",
       "  </tbody>\n",
       "</table>\n",
       "</div>"
      ],
      "text/plain": [
       "   country           province  quality_level\n",
       "0       22  Sicily & Sardinia              2\n",
       "1       31              Douro              2\n",
       "2       40             Oregon              2\n",
       "3       40           Michigan              2\n",
       "4       40             Oregon              2"
      ]
     },
     "execution_count": 139,
     "metadata": {},
     "output_type": "execute_result"
    }
   ],
   "source": [
    "# use the LabelEncoder function to convert the country to corresponding integers.\n",
    "le_country = LabelEncoder()\n",
    "le_country.fit(df['country'])\n",
    "df['country']= le_country.transform(df['country'])\n",
    "# le_country_mapping = dict(zip(le_country.classes_, le_country.transform(le_country.classes_)))\n",
    "# print(le_country_mapping)\n",
    "df.head()"
   ]
  },
  {
   "cell_type": "code",
   "execution_count": 140,
   "metadata": {},
   "outputs": [
    {
     "data": {
      "text/html": [
       "<div>\n",
       "<style scoped>\n",
       "    .dataframe tbody tr th:only-of-type {\n",
       "        vertical-align: middle;\n",
       "    }\n",
       "\n",
       "    .dataframe tbody tr th {\n",
       "        vertical-align: top;\n",
       "    }\n",
       "\n",
       "    .dataframe thead th {\n",
       "        text-align: right;\n",
       "    }\n",
       "</style>\n",
       "<table border=\"1\" class=\"dataframe\">\n",
       "  <thead>\n",
       "    <tr style=\"text-align: right;\">\n",
       "      <th></th>\n",
       "      <th>country</th>\n",
       "      <th>province</th>\n",
       "      <th>quality_level</th>\n",
       "    </tr>\n",
       "  </thead>\n",
       "  <tbody>\n",
       "    <tr>\n",
       "      <th>0</th>\n",
       "      <td>22</td>\n",
       "      <td>331</td>\n",
       "      <td>2</td>\n",
       "    </tr>\n",
       "    <tr>\n",
       "      <th>1</th>\n",
       "      <td>31</td>\n",
       "      <td>108</td>\n",
       "      <td>2</td>\n",
       "    </tr>\n",
       "    <tr>\n",
       "      <th>2</th>\n",
       "      <td>40</td>\n",
       "      <td>268</td>\n",
       "      <td>2</td>\n",
       "    </tr>\n",
       "    <tr>\n",
       "      <th>3</th>\n",
       "      <td>40</td>\n",
       "      <td>218</td>\n",
       "      <td>2</td>\n",
       "    </tr>\n",
       "    <tr>\n",
       "      <th>4</th>\n",
       "      <td>40</td>\n",
       "      <td>268</td>\n",
       "      <td>2</td>\n",
       "    </tr>\n",
       "  </tbody>\n",
       "</table>\n",
       "</div>"
      ],
      "text/plain": [
       "   country  province  quality_level\n",
       "0       22       331              2\n",
       "1       31       108              2\n",
       "2       40       268              2\n",
       "3       40       218              2\n",
       "4       40       268              2"
      ]
     },
     "execution_count": 140,
     "metadata": {},
     "output_type": "execute_result"
    }
   ],
   "source": [
    "# use the LabelEncoder function to convert the province to corresponding integers.\n",
    "le_province = LabelEncoder()\n",
    "le_province.fit(df['province'])\n",
    "df['province']= le_province.transform(df['province'])\n",
    "# le_province_mapping = dict(zip(le_country.classes_, le_country.transform(le_country.classes_)))\n",
    "# print(le_name_mapping)\n",
    "df.head()"
   ]
  },
  {
   "cell_type": "code",
   "execution_count": 141,
   "metadata": {},
   "outputs": [],
   "source": [
    "X1 = df.drop([\"quality_level\"], axis=1)\n",
    "# Extract the target feature\n",
    "y1 = df['quality_level']\n",
    "X_train1, X_test1, y_train1, y_test1 = train_test_split(X1, y1, test_size=0.2, random_state=42)"
   ]
  },
  {
   "cell_type": "code",
   "execution_count": 142,
   "metadata": {},
   "outputs": [
    {
     "name": "stdout",
     "output_type": "stream",
     "text": [
      "Accuracy:  65.76476021861288\n",
      "Precision:  62.826594333303234\n",
      "Recall:  65.76476021861288\n",
      "f1 Score:  54.05614493134853\n"
     ]
    }
   ],
   "source": [
    "clf_dtc = DecisionTreeClassifier()\n",
    "clf_dtc.fit(X_train1, y_train1)\n",
    "y_pred_DecisionTreeClassifier= clf_dtc.predict(X_test1)\n",
    "print_score(y_test1,y_pred_DecisionTreeClassifier)"
   ]
  },
  {
   "cell_type": "code",
   "execution_count": 143,
   "metadata": {},
   "outputs": [
    {
     "name": "stdout",
     "output_type": "stream",
     "text": [
      "Accuracy:  65.36833192209993\n",
      "Precision:  42.73018818277827\n",
      "Recall:  65.36833192209993\n",
      "f1 Score:  51.67880414117884\n"
     ]
    },
    {
     "name": "stderr",
     "output_type": "stream",
     "text": [
      "/anaconda3/lib/python3.6/site-packages/sklearn/metrics/classification.py:1143: UndefinedMetricWarning: Precision is ill-defined and being set to 0.0 in labels with no predicted samples.\n",
      "  'precision', 'predicted', average, warn_for)\n",
      "/anaconda3/lib/python3.6/site-packages/sklearn/metrics/classification.py:1143: UndefinedMetricWarning: F-score is ill-defined and being set to 0.0 in labels with no predicted samples.\n",
      "  'precision', 'predicted', average, warn_for)\n"
     ]
    }
   ],
   "source": [
    "clf4 = GaussianNB()\n",
    "clf4.fit(X_train1, y_train1)\n",
    "y_pred_GaussianNB = clf4.predict(X_test1)\n",
    "print_score(y_test1,y_pred_GaussianNB)"
   ]
  },
  {
   "cell_type": "code",
   "execution_count": 144,
   "metadata": {},
   "outputs": [
    {
     "name": "stderr",
     "output_type": "stream",
     "text": [
      "/anaconda3/lib/python3.6/site-packages/sklearn/ensemble/forest.py:248: FutureWarning: The default value of n_estimators will change from 10 in version 0.20 to 100 in 0.22.\n",
      "  \"10 in version 0.20 to 100 in 0.22.\", FutureWarning)\n"
     ]
    },
    {
     "name": "stdout",
     "output_type": "stream",
     "text": [
      "Accuracy:  65.77245785543838\n",
      "Precision:  62.79612679914878\n",
      "Recall:  65.77245785543838\n",
      "f1 Score:  54.08443904240108\n"
     ]
    }
   ],
   "source": [
    "clf5 = RandomForestClassifier()\n",
    "clf5.fit(X_train1, y_train1)\n",
    "y_pred_rabdom_for_test = clf5.predict(X_test1)\n",
    "print_score(y_test1,y_pred_rabdom_for_test)"
   ]
  },
  {
   "cell_type": "code",
   "execution_count": 145,
   "metadata": {},
   "outputs": [
    {
     "name": "stdout",
     "output_type": "stream",
     "text": [
      "Accuracy:  51.035332153029024\n",
      "Precision:  52.9868294572024\n",
      "Recall:  51.035332153029024\n",
      "f1 Score:  49.95971226011501\n"
     ]
    }
   ],
   "source": [
    "knn_4 = KNeighborsClassifier(4, weights='uniform', p=2, metric='euclidean')\n",
    "knn_4.fit(X_train1, y_train1)\n",
    "y_pred_KNeighborsClassifier_4 = knn_4.predict(X_test1)\n",
    "print_score(y_test1,y_pred_KNeighborsClassifier_4)"
   ]
  },
  {
   "cell_type": "code",
   "execution_count": 146,
   "metadata": {},
   "outputs": [
    {
     "name": "stdout",
     "output_type": "stream",
     "text": [
      "Accuracy:  49.32260795935648\n",
      "Precision:  53.350609355161225\n",
      "Recall:  49.32260795935648\n",
      "f1 Score:  49.18058784329298\n"
     ]
    }
   ],
   "source": [
    "knn_3 = KNeighborsClassifier(3, weights='uniform', p=2, metric='euclidean')\n",
    "knn_3.fit(X_train1, y_train1)\n",
    "y_pred_KNeighborsClassifier_3 = knn_3.predict(X_test1)\n",
    "print_score(y_test1,y_pred_KNeighborsClassifier_3)"
   ]
  },
  {
   "cell_type": "code",
   "execution_count": 219,
   "metadata": {},
   "outputs": [
    {
     "data": {
      "text/html": [
       "<div>\n",
       "<style scoped>\n",
       "    .dataframe tbody tr th:only-of-type {\n",
       "        vertical-align: middle;\n",
       "    }\n",
       "\n",
       "    .dataframe tbody tr th {\n",
       "        vertical-align: top;\n",
       "    }\n",
       "\n",
       "    .dataframe thead th {\n",
       "        text-align: right;\n",
       "    }\n",
       "</style>\n",
       "<table border=\"1\" class=\"dataframe\">\n",
       "  <thead>\n",
       "    <tr style=\"text-align: right;\">\n",
       "      <th></th>\n",
       "      <th>taster_name</th>\n",
       "      <th>points</th>\n",
       "    </tr>\n",
       "  </thead>\n",
       "  <tbody>\n",
       "    <tr>\n",
       "      <th>0</th>\n",
       "      <td>Kerin O’Keefe</td>\n",
       "      <td>87</td>\n",
       "    </tr>\n",
       "    <tr>\n",
       "      <th>1</th>\n",
       "      <td>Roger Voss</td>\n",
       "      <td>87</td>\n",
       "    </tr>\n",
       "    <tr>\n",
       "      <th>2</th>\n",
       "      <td>Paul Gregutt</td>\n",
       "      <td>87</td>\n",
       "    </tr>\n",
       "    <tr>\n",
       "      <th>3</th>\n",
       "      <td>Alexander Peartree</td>\n",
       "      <td>87</td>\n",
       "    </tr>\n",
       "    <tr>\n",
       "      <th>4</th>\n",
       "      <td>Paul Gregutt</td>\n",
       "      <td>87</td>\n",
       "    </tr>\n",
       "  </tbody>\n",
       "</table>\n",
       "</div>"
      ],
      "text/plain": [
       "          taster_name  points\n",
       "0       Kerin O’Keefe      87\n",
       "1          Roger Voss      87\n",
       "2        Paul Gregutt      87\n",
       "3  Alexander Peartree      87\n",
       "4        Paul Gregutt      87"
      ]
     },
     "execution_count": 219,
     "metadata": {},
     "output_type": "execute_result"
    }
   ],
   "source": [
    "df = init_df[['taster_name', 'points']]\n",
    "df = df.dropna()\n",
    "df.head()"
   ]
  },
  {
   "cell_type": "code",
   "execution_count": 225,
   "metadata": {},
   "outputs": [
    {
     "data": {
      "text/html": [
       "<div>\n",
       "<style scoped>\n",
       "    .dataframe tbody tr th:only-of-type {\n",
       "        vertical-align: middle;\n",
       "    }\n",
       "\n",
       "    .dataframe tbody tr th {\n",
       "        vertical-align: top;\n",
       "    }\n",
       "\n",
       "    .dataframe thead th {\n",
       "        text-align: right;\n",
       "    }\n",
       "</style>\n",
       "<table border=\"1\" class=\"dataframe\">\n",
       "  <thead>\n",
       "    <tr style=\"text-align: right;\">\n",
       "      <th></th>\n",
       "      <th>taster_name</th>\n",
       "      <th>quality_level</th>\n",
       "    </tr>\n",
       "  </thead>\n",
       "  <tbody>\n",
       "    <tr>\n",
       "      <th>0</th>\n",
       "      <td>9</td>\n",
       "      <td>2</td>\n",
       "    </tr>\n",
       "    <tr>\n",
       "      <th>1</th>\n",
       "      <td>15</td>\n",
       "      <td>2</td>\n",
       "    </tr>\n",
       "    <tr>\n",
       "      <th>2</th>\n",
       "      <td>14</td>\n",
       "      <td>2</td>\n",
       "    </tr>\n",
       "    <tr>\n",
       "      <th>3</th>\n",
       "      <td>0</td>\n",
       "      <td>2</td>\n",
       "    </tr>\n",
       "    <tr>\n",
       "      <th>4</th>\n",
       "      <td>14</td>\n",
       "      <td>2</td>\n",
       "    </tr>\n",
       "  </tbody>\n",
       "</table>\n",
       "</div>"
      ],
      "text/plain": [
       "   taster_name  quality_level\n",
       "0            9              2\n",
       "1           15              2\n",
       "2           14              2\n",
       "3            0              2\n",
       "4           14              2"
      ]
     },
     "execution_count": 225,
     "metadata": {},
     "output_type": "execute_result"
    }
   ],
   "source": [
    "df['quality_level'] = df.apply(GoodRating, axis=1)\n",
    "df = df.drop(['points'],1)\n",
    "df.head()\n"
   ]
  },
  {
   "cell_type": "code",
   "execution_count": 150,
   "metadata": {},
   "outputs": [
    {
     "data": {
      "text/html": [
       "<div>\n",
       "<style scoped>\n",
       "    .dataframe tbody tr th:only-of-type {\n",
       "        vertical-align: middle;\n",
       "    }\n",
       "\n",
       "    .dataframe tbody tr th {\n",
       "        vertical-align: top;\n",
       "    }\n",
       "\n",
       "    .dataframe thead th {\n",
       "        text-align: right;\n",
       "    }\n",
       "</style>\n",
       "<table border=\"1\" class=\"dataframe\">\n",
       "  <thead>\n",
       "    <tr style=\"text-align: right;\">\n",
       "      <th></th>\n",
       "      <th>country</th>\n",
       "      <th>province</th>\n",
       "      <th>taster_name</th>\n",
       "      <th>price_level</th>\n",
       "      <th>quality_level</th>\n",
       "    </tr>\n",
       "  </thead>\n",
       "  <tbody>\n",
       "    <tr>\n",
       "      <th>1</th>\n",
       "      <td>Portugal</td>\n",
       "      <td>Douro</td>\n",
       "      <td>Roger Voss</td>\n",
       "      <td>1</td>\n",
       "      <td>2</td>\n",
       "    </tr>\n",
       "    <tr>\n",
       "      <th>2</th>\n",
       "      <td>US</td>\n",
       "      <td>Oregon</td>\n",
       "      <td>Paul Gregutt</td>\n",
       "      <td>1</td>\n",
       "      <td>2</td>\n",
       "    </tr>\n",
       "    <tr>\n",
       "      <th>3</th>\n",
       "      <td>US</td>\n",
       "      <td>Michigan</td>\n",
       "      <td>Alexander Peartree</td>\n",
       "      <td>1</td>\n",
       "      <td>2</td>\n",
       "    </tr>\n",
       "    <tr>\n",
       "      <th>4</th>\n",
       "      <td>US</td>\n",
       "      <td>Oregon</td>\n",
       "      <td>Paul Gregutt</td>\n",
       "      <td>2</td>\n",
       "      <td>2</td>\n",
       "    </tr>\n",
       "    <tr>\n",
       "      <th>5</th>\n",
       "      <td>Spain</td>\n",
       "      <td>Northern Spain</td>\n",
       "      <td>Michael Schachner</td>\n",
       "      <td>1</td>\n",
       "      <td>2</td>\n",
       "    </tr>\n",
       "  </tbody>\n",
       "</table>\n",
       "</div>"
      ],
      "text/plain": [
       "    country        province         taster_name  price_level  quality_level\n",
       "1  Portugal           Douro          Roger Voss            1              2\n",
       "2        US          Oregon        Paul Gregutt            1              2\n",
       "3        US        Michigan  Alexander Peartree            1              2\n",
       "4        US          Oregon        Paul Gregutt            2              2\n",
       "5     Spain  Northern Spain   Michael Schachner            1              2"
      ]
     },
     "execution_count": 150,
     "metadata": {},
     "output_type": "execute_result"
    }
   ],
   "source": [
    "df['quality_level'] = df.apply(GoodRating, axis=1)\n",
    "df = df.drop(['points'],1)\n",
    "df.head()"
   ]
  },
  {
   "cell_type": "code",
   "execution_count": 226,
   "metadata": {},
   "outputs": [
    {
     "data": {
      "text/html": [
       "<div>\n",
       "<style scoped>\n",
       "    .dataframe tbody tr th:only-of-type {\n",
       "        vertical-align: middle;\n",
       "    }\n",
       "\n",
       "    .dataframe tbody tr th {\n",
       "        vertical-align: top;\n",
       "    }\n",
       "\n",
       "    .dataframe thead th {\n",
       "        text-align: right;\n",
       "    }\n",
       "</style>\n",
       "<table border=\"1\" class=\"dataframe\">\n",
       "  <thead>\n",
       "    <tr style=\"text-align: right;\">\n",
       "      <th></th>\n",
       "      <th>taster_name</th>\n",
       "      <th>quality_level</th>\n",
       "    </tr>\n",
       "  </thead>\n",
       "  <tbody>\n",
       "    <tr>\n",
       "      <th>0</th>\n",
       "      <td>9</td>\n",
       "      <td>2</td>\n",
       "    </tr>\n",
       "    <tr>\n",
       "      <th>1</th>\n",
       "      <td>15</td>\n",
       "      <td>2</td>\n",
       "    </tr>\n",
       "    <tr>\n",
       "      <th>2</th>\n",
       "      <td>14</td>\n",
       "      <td>2</td>\n",
       "    </tr>\n",
       "    <tr>\n",
       "      <th>3</th>\n",
       "      <td>0</td>\n",
       "      <td>2</td>\n",
       "    </tr>\n",
       "    <tr>\n",
       "      <th>4</th>\n",
       "      <td>14</td>\n",
       "      <td>2</td>\n",
       "    </tr>\n",
       "  </tbody>\n",
       "</table>\n",
       "</div>"
      ],
      "text/plain": [
       "   taster_name  quality_level\n",
       "0            9              2\n",
       "1           15              2\n",
       "2           14              2\n",
       "3            0              2\n",
       "4           14              2"
      ]
     },
     "execution_count": 226,
     "metadata": {},
     "output_type": "execute_result"
    }
   ],
   "source": [
    "# use the LabelEncoder function to convert the country to corresponding integers.\n",
    "# le_country = LabelEncoder()\n",
    "# le_country.fit(df['country'])\n",
    "# df['country']= le_country.transform(df['country'])\n",
    "# # le_country_mapping = dict(zip(le_country.classes_, le_country.transform(le_country.classes_)))\n",
    "# # print(le_country_mapping)\n",
    "# # use the LabelEncoder function to convert the country to corresponding integers.\n",
    "# le_province = LabelEncoder()\n",
    "# le_province.fit(df['province'])\n",
    "# df['province']= le_province.transform(df['province'])\n",
    "le_taster_name = LabelEncoder()\n",
    "le_taster_name.fit(df['taster_name'])\n",
    "df['taster_name']= le_taster_name.transform(df['taster_name'])\n",
    "df.head()"
   ]
  },
  {
   "cell_type": "code",
   "execution_count": 227,
   "metadata": {},
   "outputs": [],
   "source": [
    "X1 = df.drop([\"quality_level\"], axis=1)\n",
    "# Extract the target feature\n",
    "y1 = df['quality_level']\n",
    "X_train1, X_test1, y_train1, y_test1 = train_test_split(X1, y1, test_size=0.2, random_state=42)"
   ]
  },
  {
   "cell_type": "code",
   "execution_count": 228,
   "metadata": {},
   "outputs": [
    {
     "name": "stdout",
     "output_type": "stream",
     "text": [
      "Accuracy:  67.8444037404801\n",
      "Precision:  46.02863118901269\n",
      "Recall:  67.8444037404801\n",
      "f1 Score:  54.84678686121923\n"
     ]
    },
    {
     "name": "stderr",
     "output_type": "stream",
     "text": [
      "/anaconda3/lib/python3.6/site-packages/sklearn/metrics/classification.py:1143: UndefinedMetricWarning: Precision is ill-defined and being set to 0.0 in labels with no predicted samples.\n",
      "  'precision', 'predicted', average, warn_for)\n",
      "/anaconda3/lib/python3.6/site-packages/sklearn/metrics/classification.py:1143: UndefinedMetricWarning: F-score is ill-defined and being set to 0.0 in labels with no predicted samples.\n",
      "  'precision', 'predicted', average, warn_for)\n"
     ]
    }
   ],
   "source": [
    "clf_dtc = DecisionTreeClassifier()\n",
    "clf_dtc.fit(X_train1, y_train1)\n",
    "y_pred_DecisionTreeClassifier= clf_dtc.predict(X_test1)\n",
    "print_score(y_test1,y_pred_DecisionTreeClassifier)"
   ]
  },
  {
   "cell_type": "code",
   "execution_count": 229,
   "metadata": {},
   "outputs": [
    {
     "name": "stderr",
     "output_type": "stream",
     "text": [
      "/anaconda3/lib/python3.6/site-packages/sklearn/ensemble/forest.py:248: FutureWarning: The default value of n_estimators will change from 10 in version 0.20 to 100 in 0.22.\n",
      "  \"10 in version 0.20 to 100 in 0.22.\", FutureWarning)\n"
     ]
    },
    {
     "name": "stdout",
     "output_type": "stream",
     "text": [
      "Accuracy:  67.8444037404801\n",
      "Precision:  46.02863118901269\n",
      "Recall:  67.8444037404801\n",
      "f1 Score:  54.84678686121923\n"
     ]
    },
    {
     "name": "stderr",
     "output_type": "stream",
     "text": [
      "/anaconda3/lib/python3.6/site-packages/sklearn/metrics/classification.py:1143: UndefinedMetricWarning: Precision is ill-defined and being set to 0.0 in labels with no predicted samples.\n",
      "  'precision', 'predicted', average, warn_for)\n",
      "/anaconda3/lib/python3.6/site-packages/sklearn/metrics/classification.py:1143: UndefinedMetricWarning: F-score is ill-defined and being set to 0.0 in labels with no predicted samples.\n",
      "  'precision', 'predicted', average, warn_for)\n"
     ]
    }
   ],
   "source": [
    "clf5 = RandomForestClassifier()\n",
    "clf5.fit(X_train1, y_train1)\n",
    "y_pred_rabdom_for_test = clf5.predict(X_test1)\n",
    "print_score(y_test1,y_pred_rabdom_for_test)"
   ]
  },
  {
   "cell_type": "code",
   "execution_count": 230,
   "metadata": {},
   "outputs": [
    {
     "name": "stdout",
     "output_type": "stream",
     "text": [
      "Accuracy:  67.8444037404801\n",
      "Precision:  46.02863118901269\n",
      "Recall:  67.8444037404801\n",
      "f1 Score:  54.84678686121923\n"
     ]
    },
    {
     "name": "stderr",
     "output_type": "stream",
     "text": [
      "/anaconda3/lib/python3.6/site-packages/sklearn/metrics/classification.py:1143: UndefinedMetricWarning: Precision is ill-defined and being set to 0.0 in labels with no predicted samples.\n",
      "  'precision', 'predicted', average, warn_for)\n",
      "/anaconda3/lib/python3.6/site-packages/sklearn/metrics/classification.py:1143: UndefinedMetricWarning: F-score is ill-defined and being set to 0.0 in labels with no predicted samples.\n",
      "  'precision', 'predicted', average, warn_for)\n"
     ]
    }
   ],
   "source": [
    "clf4 = GaussianNB()\n",
    "clf4.fit(X_train1, y_train1)\n",
    "y_pred_GaussianNB = clf4.predict(X_test1)\n",
    "print_score(y_test1,y_pred_GaussianNB)"
   ]
  },
  {
   "cell_type": "code",
   "execution_count": 231,
   "metadata": {},
   "outputs": [
    {
     "name": "stdout",
     "output_type": "stream",
     "text": [
      "Accuracy:  51.52800539863106\n",
      "Precision:  53.33860879603343\n",
      "Recall:  51.52800539863106\n",
      "f1 Score:  51.886126375651344\n"
     ]
    }
   ],
   "source": [
    "knn_3 = KNeighborsClassifier(3, weights='uniform', p=2, metric='euclidean')\n",
    "knn_3.fit(X_train1, y_train1)\n",
    "y_pred_KNeighborsClassifier_3 = knn_3.predict(X_test1)\n",
    "print_score(y_test1,y_pred_KNeighborsClassifier_3)"
   ]
  },
  {
   "cell_type": "code",
   "execution_count": 232,
   "metadata": {},
   "outputs": [
    {
     "name": "stdout",
     "output_type": "stream",
     "text": [
      "Accuracy:  58.459462064976385\n",
      "Precision:  55.35588280328536\n",
      "Recall:  58.459462064976385\n",
      "f1 Score:  56.53273204989427\n"
     ]
    }
   ],
   "source": [
    "knn_4 = KNeighborsClassifier(4, weights='uniform', p=2, metric='euclidean')\n",
    "knn_4.fit(X_train1, y_train1)\n",
    "y_pred_KNeighborsClassifier_4 = knn_4.predict(X_test1)\n",
    "print_score(y_test1,y_pred_KNeighborsClassifier_4)"
   ]
  },
  {
   "cell_type": "code",
   "execution_count": 233,
   "metadata": {},
   "outputs": [
    {
     "data": {
      "text/html": [
       "<div>\n",
       "<style scoped>\n",
       "    .dataframe tbody tr th:only-of-type {\n",
       "        vertical-align: middle;\n",
       "    }\n",
       "\n",
       "    .dataframe tbody tr th {\n",
       "        vertical-align: top;\n",
       "    }\n",
       "\n",
       "    .dataframe thead th {\n",
       "        text-align: right;\n",
       "    }\n",
       "</style>\n",
       "<table border=\"1\" class=\"dataframe\">\n",
       "  <thead>\n",
       "    <tr style=\"text-align: right;\">\n",
       "      <th></th>\n",
       "      <th>winery</th>\n",
       "      <th>quality_level</th>\n",
       "    </tr>\n",
       "  </thead>\n",
       "  <tbody>\n",
       "    <tr>\n",
       "      <th>0</th>\n",
       "      <td>11608</td>\n",
       "      <td>2</td>\n",
       "    </tr>\n",
       "    <tr>\n",
       "      <th>1</th>\n",
       "      <td>12956</td>\n",
       "      <td>2</td>\n",
       "    </tr>\n",
       "    <tr>\n",
       "      <th>2</th>\n",
       "      <td>13018</td>\n",
       "      <td>2</td>\n",
       "    </tr>\n",
       "    <tr>\n",
       "      <th>3</th>\n",
       "      <td>14390</td>\n",
       "      <td>2</td>\n",
       "    </tr>\n",
       "    <tr>\n",
       "      <th>4</th>\n",
       "      <td>14621</td>\n",
       "      <td>2</td>\n",
       "    </tr>\n",
       "  </tbody>\n",
       "</table>\n",
       "</div>"
      ],
      "text/plain": [
       "   winery  quality_level\n",
       "0   11608              2\n",
       "1   12956              2\n",
       "2   13018              2\n",
       "3   14390              2\n",
       "4   14621              2"
      ]
     },
     "execution_count": 233,
     "metadata": {},
     "output_type": "execute_result"
    }
   ],
   "source": [
    "df = init_df[['winery','points']]\n",
    "df = df.dropna()\n",
    "df['quality_level'] = df.apply(GoodRating, axis=1)\n",
    "df = df.drop(['points'],1)\n",
    "le_taster_name = LabelEncoder()\n",
    "le_taster_name.fit(df['winery'])\n",
    "df['winery']= le_taster_name.transform(df['winery'])\n",
    "df.head()"
   ]
  },
  {
   "cell_type": "code",
   "execution_count": 234,
   "metadata": {},
   "outputs": [],
   "source": [
    "X1 = df.drop([\"quality_level\"], axis=1)\n",
    "# Extract the target feature\n",
    "y1 = df['quality_level']\n",
    "X_train1, X_test1, y_train1, y_test1 = train_test_split(X1, y1, test_size=0.2, random_state=42)"
   ]
  },
  {
   "cell_type": "code",
   "execution_count": 235,
   "metadata": {},
   "outputs": [
    {
     "name": "stdout",
     "output_type": "stream",
     "text": [
      "Accuracy:  67.67070590498173\n",
      "Precision:  65.3829712098542\n",
      "Recall:  67.67070590498173\n",
      "f1 Score:  65.2189216562984\n"
     ]
    }
   ],
   "source": [
    "clf_dtc = DecisionTreeClassifier()\n",
    "clf_dtc.fit(X_train1, y_train1)\n",
    "y_pred_DecisionTreeClassifier= clf_dtc.predict(X_test1)\n",
    "print_score(y_test1,y_pred_DecisionTreeClassifier)"
   ]
  },
  {
   "cell_type": "code",
   "execution_count": 236,
   "metadata": {},
   "outputs": [
    {
     "name": "stderr",
     "output_type": "stream",
     "text": [
      "/anaconda3/lib/python3.6/site-packages/sklearn/ensemble/forest.py:248: FutureWarning: The default value of n_estimators will change from 10 in version 0.20 to 100 in 0.22.\n",
      "  \"10 in version 0.20 to 100 in 0.22.\", FutureWarning)\n"
     ]
    },
    {
     "name": "stdout",
     "output_type": "stream",
     "text": [
      "Accuracy:  67.68609347951529\n",
      "Precision:  65.31927761646453\n",
      "Recall:  67.68609347951529\n",
      "f1 Score:  65.28411947964146\n"
     ]
    }
   ],
   "source": [
    "clf5 = RandomForestClassifier()\n",
    "clf5.fit(X_train1, y_train1)\n",
    "y_pred_rabdom_for_test = clf5.predict(X_test1)\n",
    "print_score(y_test1,y_pred_rabdom_for_test)"
   ]
  },
  {
   "cell_type": "code",
   "execution_count": 237,
   "metadata": {},
   "outputs": [
    {
     "name": "stdout",
     "output_type": "stream",
     "text": [
      "Accuracy:  65.45874206578188\n",
      "Precision:  42.84846912834562\n",
      "Recall:  65.45874206578188\n",
      "f1 Score:  51.79353909424772\n"
     ]
    },
    {
     "name": "stderr",
     "output_type": "stream",
     "text": [
      "/anaconda3/lib/python3.6/site-packages/sklearn/metrics/classification.py:1143: UndefinedMetricWarning: Precision is ill-defined and being set to 0.0 in labels with no predicted samples.\n",
      "  'precision', 'predicted', average, warn_for)\n",
      "/anaconda3/lib/python3.6/site-packages/sklearn/metrics/classification.py:1143: UndefinedMetricWarning: F-score is ill-defined and being set to 0.0 in labels with no predicted samples.\n",
      "  'precision', 'predicted', average, warn_for)\n"
     ]
    }
   ],
   "source": [
    "clf4 = GaussianNB()\n",
    "clf4.fit(X_train1, y_train1)\n",
    "y_pred_GaussianNB = clf4.predict(X_test1)\n",
    "print_score(y_test1,y_pred_GaussianNB)"
   ]
  },
  {
   "cell_type": "code",
   "execution_count": 238,
   "metadata": {},
   "outputs": [
    {
     "name": "stdout",
     "output_type": "stream",
     "text": [
      "Accuracy:  62.94672052317753\n",
      "Precision:  61.43534300391968\n",
      "Recall:  62.94672052317753\n",
      "f1 Score:  61.96070222655328\n"
     ]
    }
   ],
   "source": [
    "knn_3 = KNeighborsClassifier(3, weights='uniform', p=2, metric='euclidean')\n",
    "knn_3.fit(X_train1, y_train1)\n",
    "y_pred_KNeighborsClassifier_3 = knn_3.predict(X_test1)\n",
    "print_score(y_test1,y_pred_KNeighborsClassifier_3)"
   ]
  },
  {
   "cell_type": "code",
   "execution_count": 239,
   "metadata": {},
   "outputs": [
    {
     "name": "stdout",
     "output_type": "stream",
     "text": [
      "Accuracy:  63.45451048278515\n",
      "Precision:  61.84170230481867\n",
      "Recall:  63.45451048278515\n",
      "f1 Score:  61.97130287331116\n"
     ]
    }
   ],
   "source": [
    "knn_4 = KNeighborsClassifier(4, weights='uniform', p=2, metric='euclidean')\n",
    "knn_4.fit(X_train1, y_train1)\n",
    "y_pred_KNeighborsClassifier_4 = knn_4.predict(X_test1)\n",
    "print_score(y_test1,y_pred_KNeighborsClassifier_4)"
   ]
  },
  {
   "cell_type": "code",
   "execution_count": 161,
   "metadata": {},
   "outputs": [
    {
     "data": {
      "text/html": [
       "<div>\n",
       "<style scoped>\n",
       "    .dataframe tbody tr th:only-of-type {\n",
       "        vertical-align: middle;\n",
       "    }\n",
       "\n",
       "    .dataframe tbody tr th {\n",
       "        vertical-align: top;\n",
       "    }\n",
       "\n",
       "    .dataframe thead th {\n",
       "        text-align: right;\n",
       "    }\n",
       "</style>\n",
       "<table border=\"1\" class=\"dataframe\">\n",
       "  <thead>\n",
       "    <tr style=\"text-align: right;\">\n",
       "      <th></th>\n",
       "      <th>country</th>\n",
       "      <th>province</th>\n",
       "      <th>winery</th>\n",
       "      <th>price</th>\n",
       "      <th>points</th>\n",
       "    </tr>\n",
       "  </thead>\n",
       "  <tbody>\n",
       "    <tr>\n",
       "      <th>1</th>\n",
       "      <td>Portugal</td>\n",
       "      <td>Douro</td>\n",
       "      <td>Quinta dos Avidagos</td>\n",
       "      <td>15.0</td>\n",
       "      <td>87</td>\n",
       "    </tr>\n",
       "    <tr>\n",
       "      <th>2</th>\n",
       "      <td>US</td>\n",
       "      <td>Oregon</td>\n",
       "      <td>Rainstorm</td>\n",
       "      <td>14.0</td>\n",
       "      <td>87</td>\n",
       "    </tr>\n",
       "    <tr>\n",
       "      <th>3</th>\n",
       "      <td>US</td>\n",
       "      <td>Michigan</td>\n",
       "      <td>St. Julian</td>\n",
       "      <td>13.0</td>\n",
       "      <td>87</td>\n",
       "    </tr>\n",
       "    <tr>\n",
       "      <th>4</th>\n",
       "      <td>US</td>\n",
       "      <td>Oregon</td>\n",
       "      <td>Sweet Cheeks</td>\n",
       "      <td>65.0</td>\n",
       "      <td>87</td>\n",
       "    </tr>\n",
       "    <tr>\n",
       "      <th>5</th>\n",
       "      <td>Spain</td>\n",
       "      <td>Northern Spain</td>\n",
       "      <td>Tandem</td>\n",
       "      <td>15.0</td>\n",
       "      <td>87</td>\n",
       "    </tr>\n",
       "  </tbody>\n",
       "</table>\n",
       "</div>"
      ],
      "text/plain": [
       "    country        province               winery  price  points\n",
       "1  Portugal           Douro  Quinta dos Avidagos   15.0      87\n",
       "2        US          Oregon            Rainstorm   14.0      87\n",
       "3        US        Michigan           St. Julian   13.0      87\n",
       "4        US          Oregon         Sweet Cheeks   65.0      87\n",
       "5     Spain  Northern Spain               Tandem   15.0      87"
      ]
     },
     "execution_count": 161,
     "metadata": {},
     "output_type": "execute_result"
    }
   ],
   "source": [
    "df = init_df[['country', 'province', 'winery', 'price', 'points']]\n",
    "df = df.dropna()\n",
    "df.head()"
   ]
  },
  {
   "cell_type": "code",
   "execution_count": 164,
   "metadata": {},
   "outputs": [
    {
     "data": {
      "text/html": [
       "<div>\n",
       "<style scoped>\n",
       "    .dataframe tbody tr th:only-of-type {\n",
       "        vertical-align: middle;\n",
       "    }\n",
       "\n",
       "    .dataframe tbody tr th {\n",
       "        vertical-align: top;\n",
       "    }\n",
       "\n",
       "    .dataframe thead th {\n",
       "        text-align: right;\n",
       "    }\n",
       "</style>\n",
       "<table border=\"1\" class=\"dataframe\">\n",
       "  <thead>\n",
       "    <tr style=\"text-align: right;\">\n",
       "      <th></th>\n",
       "      <th>country</th>\n",
       "      <th>province</th>\n",
       "      <th>winery</th>\n",
       "      <th>price</th>\n",
       "      <th>points</th>\n",
       "    </tr>\n",
       "  </thead>\n",
       "  <tbody>\n",
       "    <tr>\n",
       "      <th>1</th>\n",
       "      <td>30</td>\n",
       "      <td>107</td>\n",
       "      <td>12189</td>\n",
       "      <td>15.0</td>\n",
       "      <td>87</td>\n",
       "    </tr>\n",
       "    <tr>\n",
       "      <th>2</th>\n",
       "      <td>39</td>\n",
       "      <td>266</td>\n",
       "      <td>12249</td>\n",
       "      <td>14.0</td>\n",
       "      <td>87</td>\n",
       "    </tr>\n",
       "    <tr>\n",
       "      <th>3</th>\n",
       "      <td>39</td>\n",
       "      <td>216</td>\n",
       "      <td>13565</td>\n",
       "      <td>13.0</td>\n",
       "      <td>87</td>\n",
       "    </tr>\n",
       "    <tr>\n",
       "      <th>4</th>\n",
       "      <td>39</td>\n",
       "      <td>266</td>\n",
       "      <td>13790</td>\n",
       "      <td>65.0</td>\n",
       "      <td>87</td>\n",
       "    </tr>\n",
       "    <tr>\n",
       "      <th>5</th>\n",
       "      <td>36</td>\n",
       "      <td>260</td>\n",
       "      <td>13870</td>\n",
       "      <td>15.0</td>\n",
       "      <td>87</td>\n",
       "    </tr>\n",
       "  </tbody>\n",
       "</table>\n",
       "</div>"
      ],
      "text/plain": [
       "   country  province  winery  price  points\n",
       "1       30       107   12189   15.0      87\n",
       "2       39       266   12249   14.0      87\n",
       "3       39       216   13565   13.0      87\n",
       "4       39       266   13790   65.0      87\n",
       "5       36       260   13870   15.0      87"
      ]
     },
     "execution_count": 164,
     "metadata": {},
     "output_type": "execute_result"
    }
   ],
   "source": [
    "# use the LabelEncoder function to convert the country to corresponding integers.\n",
    "le_country = LabelEncoder()\n",
    "le_country.fit(df['country'])\n",
    "df['country']= le_country.transform(df['country'])\n",
    "# le_country_mapping = dict(zip(le_country.classes_, le_country.transform(le_country.classes_)))\n",
    "# print(le_country_mapping)\n",
    "# use the LabelEncoder function to convert the country to corresponding integers.\n",
    "le_province = LabelEncoder()\n",
    "le_province.fit(df['province'])\n",
    "df['province']= le_province.transform(df['province'])\n",
    "le_taster_name = LabelEncoder()\n",
    "le_taster_name.fit(df['winery'])\n",
    "df['winery']= le_taster_name.transform(df['winery'])\n",
    "df.head()"
   ]
  },
  {
   "cell_type": "code",
   "execution_count": 166,
   "metadata": {},
   "outputs": [
    {
     "data": {
      "text/html": [
       "<div>\n",
       "<style scoped>\n",
       "    .dataframe tbody tr th:only-of-type {\n",
       "        vertical-align: middle;\n",
       "    }\n",
       "\n",
       "    .dataframe tbody tr th {\n",
       "        vertical-align: top;\n",
       "    }\n",
       "\n",
       "    .dataframe thead th {\n",
       "        text-align: right;\n",
       "    }\n",
       "</style>\n",
       "<table border=\"1\" class=\"dataframe\">\n",
       "  <thead>\n",
       "    <tr style=\"text-align: right;\">\n",
       "      <th></th>\n",
       "      <th>country</th>\n",
       "      <th>province</th>\n",
       "      <th>winery</th>\n",
       "      <th>price_level</th>\n",
       "      <th>quality_level</th>\n",
       "    </tr>\n",
       "  </thead>\n",
       "  <tbody>\n",
       "    <tr>\n",
       "      <th>1</th>\n",
       "      <td>30</td>\n",
       "      <td>107</td>\n",
       "      <td>12189</td>\n",
       "      <td>1</td>\n",
       "      <td>2</td>\n",
       "    </tr>\n",
       "    <tr>\n",
       "      <th>2</th>\n",
       "      <td>39</td>\n",
       "      <td>266</td>\n",
       "      <td>12249</td>\n",
       "      <td>1</td>\n",
       "      <td>2</td>\n",
       "    </tr>\n",
       "    <tr>\n",
       "      <th>3</th>\n",
       "      <td>39</td>\n",
       "      <td>216</td>\n",
       "      <td>13565</td>\n",
       "      <td>1</td>\n",
       "      <td>2</td>\n",
       "    </tr>\n",
       "    <tr>\n",
       "      <th>4</th>\n",
       "      <td>39</td>\n",
       "      <td>266</td>\n",
       "      <td>13790</td>\n",
       "      <td>2</td>\n",
       "      <td>2</td>\n",
       "    </tr>\n",
       "    <tr>\n",
       "      <th>5</th>\n",
       "      <td>36</td>\n",
       "      <td>260</td>\n",
       "      <td>13870</td>\n",
       "      <td>1</td>\n",
       "      <td>2</td>\n",
       "    </tr>\n",
       "  </tbody>\n",
       "</table>\n",
       "</div>"
      ],
      "text/plain": [
       "   country  province  winery  price_level  quality_level\n",
       "1       30       107   12189            1              2\n",
       "2       39       266   12249            1              2\n",
       "3       39       216   13565            1              2\n",
       "4       39       266   13790            2              2\n",
       "5       36       260   13870            1              2"
      ]
     },
     "execution_count": 166,
     "metadata": {},
     "output_type": "execute_result"
    }
   ],
   "source": [
    "df['price_level'] = df.apply(priceLevel, axis=1)\n",
    "df = df.drop(['price'],1)\n",
    "df.head()\n",
    "df['quality_level'] = df.apply(GoodRating, axis=1)\n",
    "df = df.drop(['points'],1)\n",
    "df.head()"
   ]
  },
  {
   "cell_type": "code",
   "execution_count": 167,
   "metadata": {},
   "outputs": [],
   "source": [
    "X1 = df.drop([\"quality_level\"], axis=1)\n",
    "# Extract the target feature\n",
    "y1 = df['quality_level']\n",
    "X_train1, X_test1, y_train1, y_test1 = train_test_split(X1, y1, test_size=0.2, random_state=42)"
   ]
  },
  {
   "cell_type": "code",
   "execution_count": 168,
   "metadata": {},
   "outputs": [
    {
     "name": "stdout",
     "output_type": "stream",
     "text": [
      "Accuracy:  68.91333112801853\n",
      "Precision:  67.45384821127266\n",
      "Recall:  68.91333112801853\n",
      "f1 Score:  67.79789601088915\n"
     ]
    }
   ],
   "source": [
    "clf_dtc = DecisionTreeClassifier()\n",
    "clf_dtc.fit(X_train1, y_train1)\n",
    "y_pred_DecisionTreeClassifier= clf_dtc.predict(X_test1)\n",
    "print_score(y_test1,y_pred_DecisionTreeClassifier)"
   ]
  },
  {
   "cell_type": "code",
   "execution_count": 169,
   "metadata": {},
   "outputs": [
    {
     "name": "stderr",
     "output_type": "stream",
     "text": [
      "/anaconda3/lib/python3.6/site-packages/sklearn/ensemble/forest.py:248: FutureWarning: The default value of n_estimators will change from 10 in version 0.20 to 100 in 0.22.\n",
      "  \"10 in version 0.20 to 100 in 0.22.\", FutureWarning)\n"
     ]
    },
    {
     "name": "stdout",
     "output_type": "stream",
     "text": [
      "Accuracy:  68.80582203109495\n",
      "Precision:  67.06433543000819\n",
      "Recall:  68.80582203109495\n",
      "f1 Score:  67.38475121059041\n"
     ]
    }
   ],
   "source": [
    "clf5 = RandomForestClassifier()\n",
    "clf5.fit(X_train1, y_train1)\n",
    "y_pred_rabdom_for_test = clf5.predict(X_test1)\n",
    "print_score(y_test1,y_pred_rabdom_for_test)"
   ]
  },
  {
   "cell_type": "code",
   "execution_count": 170,
   "metadata": {},
   "outputs": [
    {
     "name": "stdout",
     "output_type": "stream",
     "text": [
      "Accuracy:  67.93747932517367\n",
      "Precision:  55.43100789799886\n",
      "Recall:  67.93747932517367\n",
      "f1 Score:  59.42679059799229\n"
     ]
    },
    {
     "name": "stderr",
     "output_type": "stream",
     "text": [
      "/anaconda3/lib/python3.6/site-packages/sklearn/metrics/classification.py:1143: UndefinedMetricWarning: Precision is ill-defined and being set to 0.0 in labels with no predicted samples.\n",
      "  'precision', 'predicted', average, warn_for)\n",
      "/anaconda3/lib/python3.6/site-packages/sklearn/metrics/classification.py:1143: UndefinedMetricWarning: F-score is ill-defined and being set to 0.0 in labels with no predicted samples.\n",
      "  'precision', 'predicted', average, warn_for)\n"
     ]
    }
   ],
   "source": [
    "clf4 = GaussianNB()\n",
    "clf4.fit(X_train1, y_train1)\n",
    "y_pred_GaussianNB = clf4.predict(X_test1)\n",
    "print_score(y_test1,y_pred_GaussianNB)"
   ]
  },
  {
   "cell_type": "code",
   "execution_count": 171,
   "metadata": {},
   "outputs": [
    {
     "name": "stdout",
     "output_type": "stream",
     "text": [
      "Accuracy:  65.80383724776712\n",
      "Precision:  64.48870125160285\n",
      "Recall:  65.80383724776712\n",
      "f1 Score:  64.92349015023937\n"
     ]
    }
   ],
   "source": [
    "knn_3 = KNeighborsClassifier(3, weights='uniform', p=2, metric='euclidean')\n",
    "knn_3.fit(X_train1, y_train1)\n",
    "y_pred_KNeighborsClassifier_3 = knn_3.predict(X_test1)\n",
    "print_score(y_test1,y_pred_KNeighborsClassifier_3)"
   ]
  },
  {
   "cell_type": "code",
   "execution_count": 172,
   "metadata": {},
   "outputs": [
    {
     "name": "stdout",
     "output_type": "stream",
     "text": [
      "Accuracy:  65.66738339397949\n",
      "Precision:  65.0352892881046\n",
      "Recall:  65.66738339397949\n",
      "f1 Score:  64.63268750845941\n"
     ]
    }
   ],
   "source": [
    "knn_4 = KNeighborsClassifier(4, weights='uniform', p=2, metric='euclidean')\n",
    "knn_4.fit(X_train1, y_train1)\n",
    "y_pred_KNeighborsClassifier_4 = knn_4.predict(X_test1)\n",
    "print_score(y_test1,y_pred_KNeighborsClassifier_4)"
   ]
  },
  {
   "cell_type": "code",
   "execution_count": 206,
   "metadata": {},
   "outputs": [
    {
     "data": {
      "text/html": [
       "<div>\n",
       "<style scoped>\n",
       "    .dataframe tbody tr th:only-of-type {\n",
       "        vertical-align: middle;\n",
       "    }\n",
       "\n",
       "    .dataframe tbody tr th {\n",
       "        vertical-align: top;\n",
       "    }\n",
       "\n",
       "    .dataframe thead th {\n",
       "        text-align: right;\n",
       "    }\n",
       "</style>\n",
       "<table border=\"1\" class=\"dataframe\">\n",
       "  <thead>\n",
       "    <tr style=\"text-align: right;\">\n",
       "      <th></th>\n",
       "      <th>country</th>\n",
       "      <th>province</th>\n",
       "      <th>winery</th>\n",
       "      <th>taster_name</th>\n",
       "      <th>price</th>\n",
       "      <th>points</th>\n",
       "      <th>description_length</th>\n",
       "    </tr>\n",
       "  </thead>\n",
       "  <tbody>\n",
       "    <tr>\n",
       "      <th>1</th>\n",
       "      <td>Portugal</td>\n",
       "      <td>Douro</td>\n",
       "      <td>Quinta dos Avidagos</td>\n",
       "      <td>Roger Voss</td>\n",
       "      <td>15.0</td>\n",
       "      <td>87</td>\n",
       "      <td>227.0</td>\n",
       "    </tr>\n",
       "    <tr>\n",
       "      <th>2</th>\n",
       "      <td>US</td>\n",
       "      <td>Oregon</td>\n",
       "      <td>Rainstorm</td>\n",
       "      <td>Paul Gregutt</td>\n",
       "      <td>14.0</td>\n",
       "      <td>87</td>\n",
       "      <td>186.0</td>\n",
       "    </tr>\n",
       "    <tr>\n",
       "      <th>3</th>\n",
       "      <td>US</td>\n",
       "      <td>Michigan</td>\n",
       "      <td>St. Julian</td>\n",
       "      <td>Alexander Peartree</td>\n",
       "      <td>13.0</td>\n",
       "      <td>87</td>\n",
       "      <td>199.0</td>\n",
       "    </tr>\n",
       "    <tr>\n",
       "      <th>4</th>\n",
       "      <td>US</td>\n",
       "      <td>Oregon</td>\n",
       "      <td>Sweet Cheeks</td>\n",
       "      <td>Paul Gregutt</td>\n",
       "      <td>65.0</td>\n",
       "      <td>87</td>\n",
       "      <td>249.0</td>\n",
       "    </tr>\n",
       "    <tr>\n",
       "      <th>5</th>\n",
       "      <td>Spain</td>\n",
       "      <td>Northern Spain</td>\n",
       "      <td>Tandem</td>\n",
       "      <td>Michael Schachner</td>\n",
       "      <td>15.0</td>\n",
       "      <td>87</td>\n",
       "      <td>261.0</td>\n",
       "    </tr>\n",
       "  </tbody>\n",
       "</table>\n",
       "</div>"
      ],
      "text/plain": [
       "    country        province               winery         taster_name  price  \\\n",
       "1  Portugal           Douro  Quinta dos Avidagos          Roger Voss   15.0   \n",
       "2        US          Oregon            Rainstorm        Paul Gregutt   14.0   \n",
       "3        US        Michigan           St. Julian  Alexander Peartree   13.0   \n",
       "4        US          Oregon         Sweet Cheeks        Paul Gregutt   65.0   \n",
       "5     Spain  Northern Spain               Tandem   Michael Schachner   15.0   \n",
       "\n",
       "   points  description_length  \n",
       "1      87               227.0  \n",
       "2      87               186.0  \n",
       "3      87               199.0  \n",
       "4      87               249.0  \n",
       "5      87               261.0  "
      ]
     },
     "execution_count": 206,
     "metadata": {},
     "output_type": "execute_result"
    }
   ],
   "source": [
    "df = init_df[['country', 'province', 'winery', 'taster_name', 'price', 'points','description']]\n",
    "df = df.assign(description_length = parsed_df['description'].apply(len))\n",
    "df = df.drop(['description'], axis=1)\n",
    "df = df.dropna()\n",
    "df.head()"
   ]
  },
  {
   "cell_type": "code",
   "execution_count": 207,
   "metadata": {},
   "outputs": [
    {
     "data": {
      "text/html": [
       "<div>\n",
       "<style scoped>\n",
       "    .dataframe tbody tr th:only-of-type {\n",
       "        vertical-align: middle;\n",
       "    }\n",
       "\n",
       "    .dataframe tbody tr th {\n",
       "        vertical-align: top;\n",
       "    }\n",
       "\n",
       "    .dataframe thead th {\n",
       "        text-align: right;\n",
       "    }\n",
       "</style>\n",
       "<table border=\"1\" class=\"dataframe\">\n",
       "  <thead>\n",
       "    <tr style=\"text-align: right;\">\n",
       "      <th></th>\n",
       "      <th>country</th>\n",
       "      <th>province</th>\n",
       "      <th>winery</th>\n",
       "      <th>taster_name</th>\n",
       "      <th>price</th>\n",
       "      <th>description_length</th>\n",
       "      <th>quality_level</th>\n",
       "    </tr>\n",
       "  </thead>\n",
       "  <tbody>\n",
       "    <tr>\n",
       "      <th>1</th>\n",
       "      <td>30</td>\n",
       "      <td>105</td>\n",
       "      <td>10743</td>\n",
       "      <td>15</td>\n",
       "      <td>15.0</td>\n",
       "      <td>227.0</td>\n",
       "      <td>2</td>\n",
       "    </tr>\n",
       "    <tr>\n",
       "      <th>2</th>\n",
       "      <td>39</td>\n",
       "      <td>263</td>\n",
       "      <td>10793</td>\n",
       "      <td>14</td>\n",
       "      <td>14.0</td>\n",
       "      <td>186.0</td>\n",
       "      <td>2</td>\n",
       "    </tr>\n",
       "    <tr>\n",
       "      <th>3</th>\n",
       "      <td>39</td>\n",
       "      <td>213</td>\n",
       "      <td>11893</td>\n",
       "      <td>0</td>\n",
       "      <td>13.0</td>\n",
       "      <td>199.0</td>\n",
       "      <td>2</td>\n",
       "    </tr>\n",
       "    <tr>\n",
       "      <th>4</th>\n",
       "      <td>39</td>\n",
       "      <td>263</td>\n",
       "      <td>12064</td>\n",
       "      <td>14</td>\n",
       "      <td>65.0</td>\n",
       "      <td>249.0</td>\n",
       "      <td>2</td>\n",
       "    </tr>\n",
       "    <tr>\n",
       "      <th>5</th>\n",
       "      <td>36</td>\n",
       "      <td>257</td>\n",
       "      <td>12132</td>\n",
       "      <td>12</td>\n",
       "      <td>15.0</td>\n",
       "      <td>261.0</td>\n",
       "      <td>2</td>\n",
       "    </tr>\n",
       "  </tbody>\n",
       "</table>\n",
       "</div>"
      ],
      "text/plain": [
       "   country  province  winery  taster_name  price  description_length  \\\n",
       "1       30       105   10743           15   15.0               227.0   \n",
       "2       39       263   10793           14   14.0               186.0   \n",
       "3       39       213   11893            0   13.0               199.0   \n",
       "4       39       263   12064           14   65.0               249.0   \n",
       "5       36       257   12132           12   15.0               261.0   \n",
       "\n",
       "   quality_level  \n",
       "1              2  \n",
       "2              2  \n",
       "3              2  \n",
       "4              2  \n",
       "5              2  "
      ]
     },
     "execution_count": 207,
     "metadata": {},
     "output_type": "execute_result"
    }
   ],
   "source": [
    "le_country = LabelEncoder()\n",
    "le_country.fit(df['country'])\n",
    "df['country']= le_country.transform(df['country'])\n",
    "# le_country_mapping = dict(zip(le_country.classes_, le_country.transform(le_country.classes_)))\n",
    "# print(le_country_mapping)\n",
    "# use the LabelEncoder function to convert the country to corresponding integers.\n",
    "le_province = LabelEncoder()\n",
    "le_province.fit(df['province'])\n",
    "df['province']= le_province.transform(df['province'])\n",
    "le_winery = LabelEncoder()\n",
    "le_winery.fit(df['winery'])\n",
    "df['winery']= le_winery.transform(df['winery'])\n",
    "le_taster_name = LabelEncoder()\n",
    "le_taster_name.fit(df['taster_name'])\n",
    "df['taster_name']= le_taster_name.transform(df['taster_name'])\n",
    "df['quality_level'] = df.apply(GoodRating, axis=1)\n",
    "df = df.drop(['points'],1)\n",
    "df.head()"
   ]
  },
  {
   "cell_type": "code",
   "execution_count": 208,
   "metadata": {},
   "outputs": [],
   "source": [
    "X1 = df.drop([\"quality_level\"], axis=1)\n",
    "# Extract the target feature\n",
    "y1 = df['quality_level']\n",
    "X_train1, X_test1, y_train1, y_test1 = train_test_split(X1, y1, test_size=0.2, random_state=42)"
   ]
  },
  {
   "cell_type": "code",
   "execution_count": 209,
   "metadata": {},
   "outputs": [
    {
     "name": "stdout",
     "output_type": "stream",
     "text": [
      "Accuracy:  69.47570398796867\n",
      "Precision:  69.74521777228867\n",
      "Recall:  69.47570398796867\n",
      "f1 Score:  69.59792158138686\n"
     ]
    }
   ],
   "source": [
    "clf_dtc = DecisionTreeClassifier()\n",
    "clf_dtc.fit(X_train1, y_train1)\n",
    "y_pred_DecisionTreeClassifier= clf_dtc.predict(X_test1)\n",
    "print_score(y_test1,y_pred_DecisionTreeClassifier)"
   ]
  },
  {
   "cell_type": "code",
   "execution_count": 210,
   "metadata": {},
   "outputs": [
    {
     "name": "stderr",
     "output_type": "stream",
     "text": [
      "/anaconda3/lib/python3.6/site-packages/sklearn/ensemble/forest.py:248: FutureWarning: The default value of n_estimators will change from 10 in version 0.20 to 100 in 0.22.\n",
      "  \"10 in version 0.20 to 100 in 0.22.\", FutureWarning)\n"
     ]
    },
    {
     "name": "stdout",
     "output_type": "stream",
     "text": [
      "Accuracy:  75.65212881812997\n",
      "Precision:  74.74666805677855\n",
      "Recall:  75.65212881812997\n",
      "f1 Score:  74.8495595191294\n"
     ]
    }
   ],
   "source": [
    "clf5 = RandomForestClassifier()\n",
    "clf5.fit(X_train1, y_train1)\n",
    "y_pred_rabdom_for_test = clf5.predict(X_test1)\n",
    "print_score(y_test1,y_pred_rabdom_for_test)"
   ]
  },
  {
   "cell_type": "code",
   "execution_count": 211,
   "metadata": {},
   "outputs": [
    {
     "name": "stdout",
     "output_type": "stream",
     "text": [
      "Accuracy:  71.716019291604\n",
      "Precision:  70.16339171684464\n",
      "Recall:  71.716019291604\n",
      "f1 Score:  69.24096765356532\n"
     ]
    }
   ],
   "source": [
    "clf4 = GaussianNB()\n",
    "clf4.fit(X_train1, y_train1)\n",
    "y_pred_GaussianNB = clf4.predict(X_test1)\n",
    "print_score(y_test1,y_pred_GaussianNB)"
   ]
  },
  {
   "cell_type": "code",
   "execution_count": 212,
   "metadata": {},
   "outputs": [
    {
     "name": "stdout",
     "output_type": "stream",
     "text": [
      "Accuracy:  71.41523621843075\n",
      "Precision:  70.17779912802689\n",
      "Recall:  71.41523621843075\n",
      "f1 Score:  70.58823029443417\n"
     ]
    }
   ],
   "source": [
    "knn_3 = KNeighborsClassifier(3, weights='uniform', p=2, metric='euclidean')\n",
    "knn_3.fit(X_train1, y_train1)\n",
    "y_pred_KNeighborsClassifier_3 = knn_3.predict(X_test1)\n",
    "print_score(y_test1,y_pred_KNeighborsClassifier_3)"
   ]
  },
  {
   "cell_type": "code",
   "execution_count": 213,
   "metadata": {},
   "outputs": [
    {
     "name": "stdout",
     "output_type": "stream",
     "text": [
      "Accuracy:  71.26484468184411\n",
      "Precision:  70.72048287017816\n",
      "Recall:  71.26484468184411\n",
      "f1 Score:  70.37393313151932\n"
     ]
    }
   ],
   "source": [
    "knn_4 = KNeighborsClassifier(4, weights='uniform', p=2, metric='euclidean')\n",
    "knn_4.fit(X_train1, y_train1)\n",
    "y_pred_KNeighborsClassifier_4 = knn_4.predict(X_test1)\n",
    "print_score(y_test1,y_pred_KNeighborsClassifier_4)"
   ]
  },
  {
   "cell_type": "code",
   "execution_count": 267,
   "metadata": {},
   "outputs": [
    {
     "data": {
      "text/html": [
       "<div>\n",
       "<style scoped>\n",
       "    .dataframe tbody tr th:only-of-type {\n",
       "        vertical-align: middle;\n",
       "    }\n",
       "\n",
       "    .dataframe tbody tr th {\n",
       "        vertical-align: top;\n",
       "    }\n",
       "\n",
       "    .dataframe thead th {\n",
       "        text-align: right;\n",
       "    }\n",
       "</style>\n",
       "<table border=\"1\" class=\"dataframe\">\n",
       "  <thead>\n",
       "    <tr style=\"text-align: right;\">\n",
       "      <th></th>\n",
       "      <th>country</th>\n",
       "      <th>province</th>\n",
       "      <th>winery</th>\n",
       "      <th>variety</th>\n",
       "      <th>taster_name</th>\n",
       "      <th>price</th>\n",
       "      <th>description_length</th>\n",
       "      <th>quality_level</th>\n",
       "    </tr>\n",
       "  </thead>\n",
       "  <tbody>\n",
       "    <tr>\n",
       "      <th>1</th>\n",
       "      <td>30</td>\n",
       "      <td>105</td>\n",
       "      <td>10743</td>\n",
       "      <td>415</td>\n",
       "      <td>15</td>\n",
       "      <td>15.0</td>\n",
       "      <td>227.0</td>\n",
       "      <td>2</td>\n",
       "    </tr>\n",
       "    <tr>\n",
       "      <th>2</th>\n",
       "      <td>39</td>\n",
       "      <td>263</td>\n",
       "      <td>10793</td>\n",
       "      <td>401</td>\n",
       "      <td>14</td>\n",
       "      <td>14.0</td>\n",
       "      <td>186.0</td>\n",
       "      <td>2</td>\n",
       "    </tr>\n",
       "    <tr>\n",
       "      <th>3</th>\n",
       "      <td>39</td>\n",
       "      <td>213</td>\n",
       "      <td>11893</td>\n",
       "      <td>443</td>\n",
       "      <td>0</td>\n",
       "      <td>13.0</td>\n",
       "      <td>199.0</td>\n",
       "      <td>2</td>\n",
       "    </tr>\n",
       "    <tr>\n",
       "      <th>4</th>\n",
       "      <td>39</td>\n",
       "      <td>263</td>\n",
       "      <td>12064</td>\n",
       "      <td>405</td>\n",
       "      <td>14</td>\n",
       "      <td>65.0</td>\n",
       "      <td>249.0</td>\n",
       "      <td>2</td>\n",
       "    </tr>\n",
       "    <tr>\n",
       "      <th>5</th>\n",
       "      <td>36</td>\n",
       "      <td>257</td>\n",
       "      <td>12132</td>\n",
       "      <td>548</td>\n",
       "      <td>12</td>\n",
       "      <td>15.0</td>\n",
       "      <td>261.0</td>\n",
       "      <td>2</td>\n",
       "    </tr>\n",
       "  </tbody>\n",
       "</table>\n",
       "</div>"
      ],
      "text/plain": [
       "   country  province  winery  variety  taster_name  price  description_length  \\\n",
       "1       30       105   10743      415           15   15.0               227.0   \n",
       "2       39       263   10793      401           14   14.0               186.0   \n",
       "3       39       213   11893      443            0   13.0               199.0   \n",
       "4       39       263   12064      405           14   65.0               249.0   \n",
       "5       36       257   12132      548           12   15.0               261.0   \n",
       "\n",
       "   quality_level  \n",
       "1              2  \n",
       "2              2  \n",
       "3              2  \n",
       "4              2  \n",
       "5              2  "
      ]
     },
     "execution_count": 267,
     "metadata": {},
     "output_type": "execute_result"
    }
   ],
   "source": [
    "df = init_df[['country', 'province', 'winery', 'variety', 'taster_name', 'price', 'points','description']]\n",
    "df = df.assign(description_length = parsed_df['description'].apply(len))\n",
    "df = df.drop(['description'], axis=1)\n",
    "df = df.dropna()\n",
    "le_country = LabelEncoder()\n",
    "le_country.fit(df['country'])\n",
    "df['country']= le_country.transform(df['country'])\n",
    "# le_country_mapping = dict(zip(le_country.classes_, le_country.transform(le_country.classes_)))\n",
    "# print(le_country_mapping)\n",
    "# use the LabelEncoder function to convert the country to corresponding integers.\n",
    "le_province = LabelEncoder()\n",
    "le_province.fit(df['province'])\n",
    "df['province']= le_province.transform(df['province'])\n",
    "le_taster_name = LabelEncoder()\n",
    "le_taster_name.fit(df['taster_name'])\n",
    "df['taster_name']= le_taster_name.transform(df['taster_name'])\n",
    "le_winery = LabelEncoder()\n",
    "le_winery.fit(df['winery'])\n",
    "df['winery']= le_winery.transform(df['winery'])\n",
    "le_variety = LabelEncoder()\n",
    "le_variety.fit(df['variety'])\n",
    "df['variety']= le_variety.transform(df['variety'])\n",
    "df['quality_level'] = df.apply(GoodRating, axis=1)\n",
    "df = df.drop(['points'],1)\n",
    "df.head()"
   ]
  },
  {
   "cell_type": "code",
   "execution_count": null,
   "metadata": {},
   "outputs": [],
   "source": []
  },
  {
   "cell_type": "markdown",
   "metadata": {},
   "source": [
    "### Model with best result"
   ]
  },
  {
   "cell_type": "code",
   "execution_count": 268,
   "metadata": {},
   "outputs": [],
   "source": [
    "X1 = df.drop([\"quality_level\"], axis=1)\n",
    "# Extract the target feature\n",
    "y1 = df['quality_level']\n",
    "X_train1, X_test1, y_train1, y_test1 = train_test_split(X1, y1, test_size=0.2, random_state=42)"
   ]
  },
  {
   "cell_type": "code",
   "execution_count": 269,
   "metadata": {},
   "outputs": [
    {
     "name": "stdout",
     "output_type": "stream",
     "text": [
      "Accuracy:  70.00985323860395\n",
      "Precision:  70.12798738104576\n",
      "Recall:  70.00985323860395\n",
      "f1 Score:  70.06544579514265\n"
     ]
    }
   ],
   "source": [
    "clf_dtc = DecisionTreeClassifier()\n",
    "clf_dtc.fit(X_train1, y_train1)\n",
    "y_pred_DecisionTreeClassifier= clf_dtc.predict(X_test1)\n",
    "print_score(y_test1,y_pred_DecisionTreeClassifier)"
   ]
  },
  {
   "cell_type": "code",
   "execution_count": 271,
   "metadata": {},
   "outputs": [
    {
     "name": "stderr",
     "output_type": "stream",
     "text": [
      "/anaconda3/lib/python3.6/site-packages/sklearn/ensemble/forest.py:248: FutureWarning: The default value of n_estimators will change from 10 in version 0.20 to 100 in 0.22.\n",
      "  \"10 in version 0.20 to 100 in 0.22.\", FutureWarning)\n"
     ]
    },
    {
     "name": "stdout",
     "output_type": "stream",
     "text": [
      "Accuracy:  76.82933153554944\n",
      "Precision:  76.00906336365354\n",
      "Recall:  76.82933153554944\n",
      "f1 Score:  76.06932389402525\n"
     ]
    }
   ],
   "source": [
    "clf5 = RandomForestClassifier()\n",
    "clf5.fit(X_train1, y_train1)\n",
    "y_pred_rabdom_for_test = clf5.predict(X_test1)\n",
    "print_score(y_test1,y_pred_rabdom_for_test)"
   ]
  },
  {
   "cell_type": "code",
   "execution_count": 252,
   "metadata": {},
   "outputs": [
    {
     "data": {
      "text/html": [
       "<div>\n",
       "<style scoped>\n",
       "    .dataframe tbody tr th:only-of-type {\n",
       "        vertical-align: middle;\n",
       "    }\n",
       "\n",
       "    .dataframe tbody tr th {\n",
       "        vertical-align: top;\n",
       "    }\n",
       "\n",
       "    .dataframe thead th {\n",
       "        text-align: right;\n",
       "    }\n",
       "</style>\n",
       "<table border=\"1\" class=\"dataframe\">\n",
       "  <thead>\n",
       "    <tr style=\"text-align: right;\">\n",
       "      <th></th>\n",
       "      <th>country</th>\n",
       "      <th>province</th>\n",
       "      <th>winery</th>\n",
       "      <th>variety</th>\n",
       "      <th>designation</th>\n",
       "      <th>taster_name</th>\n",
       "      <th>price</th>\n",
       "      <th>description_length</th>\n",
       "      <th>quality_level</th>\n",
       "    </tr>\n",
       "  </thead>\n",
       "  <tbody>\n",
       "    <tr>\n",
       "      <th>1</th>\n",
       "      <td>30</td>\n",
       "      <td>102</td>\n",
       "      <td>7873</td>\n",
       "      <td>381</td>\n",
       "      <td>1900</td>\n",
       "      <td>15</td>\n",
       "      <td>15.0</td>\n",
       "      <td>227.0</td>\n",
       "      <td>2</td>\n",
       "    </tr>\n",
       "    <tr>\n",
       "      <th>3</th>\n",
       "      <td>38</td>\n",
       "      <td>204</td>\n",
       "      <td>8757</td>\n",
       "      <td>405</td>\n",
       "      <td>22412</td>\n",
       "      <td>0</td>\n",
       "      <td>13.0</td>\n",
       "      <td>199.0</td>\n",
       "      <td>2</td>\n",
       "    </tr>\n",
       "    <tr>\n",
       "      <th>4</th>\n",
       "      <td>38</td>\n",
       "      <td>251</td>\n",
       "      <td>8887</td>\n",
       "      <td>372</td>\n",
       "      <td>29079</td>\n",
       "      <td>14</td>\n",
       "      <td>65.0</td>\n",
       "      <td>249.0</td>\n",
       "      <td>2</td>\n",
       "    </tr>\n",
       "    <tr>\n",
       "      <th>5</th>\n",
       "      <td>35</td>\n",
       "      <td>245</td>\n",
       "      <td>8941</td>\n",
       "      <td>503</td>\n",
       "      <td>1616</td>\n",
       "      <td>12</td>\n",
       "      <td>15.0</td>\n",
       "      <td>261.0</td>\n",
       "      <td>2</td>\n",
       "    </tr>\n",
       "    <tr>\n",
       "      <th>6</th>\n",
       "      <td>21</td>\n",
       "      <td>309</td>\n",
       "      <td>9138</td>\n",
       "      <td>155</td>\n",
       "      <td>2438</td>\n",
       "      <td>9</td>\n",
       "      <td>16.0</td>\n",
       "      <td>181.0</td>\n",
       "      <td>2</td>\n",
       "    </tr>\n",
       "  </tbody>\n",
       "</table>\n",
       "</div>"
      ],
      "text/plain": [
       "   country  province  winery  variety  designation  taster_name  price  \\\n",
       "1       30       102    7873      381         1900           15   15.0   \n",
       "3       38       204    8757      405        22412            0   13.0   \n",
       "4       38       251    8887      372        29079           14   65.0   \n",
       "5       35       245    8941      503         1616           12   15.0   \n",
       "6       21       309    9138      155         2438            9   16.0   \n",
       "\n",
       "   description_length  quality_level  \n",
       "1               227.0              2  \n",
       "3               199.0              2  \n",
       "4               249.0              2  \n",
       "5               261.0              2  \n",
       "6               181.0              2  "
      ]
     },
     "execution_count": 252,
     "metadata": {},
     "output_type": "execute_result"
    }
   ],
   "source": [
    "df = init_df[['country', 'province', 'winery', 'variety', 'designation', 'taster_name', 'price', 'points','description']]\n",
    "df = df.assign(description_length = parsed_df['description'].apply(len))\n",
    "df = df.drop(['description'], axis=1)\n",
    "df = df.dropna()\n",
    "le_country = LabelEncoder()\n",
    "le_country.fit(df['country'])\n",
    "df['country']= le_country.transform(df['country'])\n",
    "# le_country_mapping = dict(zip(le_country.classes_, le_country.transform(le_country.classes_)))\n",
    "# print(le_country_mapping)\n",
    "# use the LabelEncoder function to convert the country to corresponding integers.\n",
    "le_province = LabelEncoder()\n",
    "le_province.fit(df['province'])\n",
    "df['province']= le_province.transform(df['province'])\n",
    "le_taster_name = LabelEncoder()\n",
    "le_taster_name.fit(df['taster_name'])\n",
    "df['taster_name']= le_taster_name.transform(df['taster_name'])\n",
    "le_winery = LabelEncoder()\n",
    "le_winery.fit(df['winery'])\n",
    "df['winery']= le_winery.transform(df['winery'])\n",
    "le_variety = LabelEncoder()\n",
    "le_variety.fit(df['variety'])\n",
    "df['variety']= le_variety.transform(df['variety'])\n",
    "le_designation = LabelEncoder()\n",
    "le_designation.fit(df['designation'])\n",
    "df['designation']= le_designation.transform(df['designation'])\n",
    "df['quality_level'] = df.apply(GoodRating, axis=1)\n",
    "df = df.drop(['points'],1)\n",
    "df.head()\n"
   ]
  },
  {
   "cell_type": "code",
   "execution_count": 253,
   "metadata": {},
   "outputs": [],
   "source": [
    "X1 = df.drop([\"quality_level\"], axis=1)\n",
    "# Extract the target feature\n",
    "y1 = df['quality_level']\n",
    "X_train1, X_test1, y_train1, y_test1 = train_test_split(X1, y1, test_size=0.2, random_state=42)"
   ]
  },
  {
   "cell_type": "code",
   "execution_count": 254,
   "metadata": {},
   "outputs": [
    {
     "name": "stdout",
     "output_type": "stream",
     "text": [
      "Accuracy:  69.57951945080092\n",
      "Precision:  69.6685229420752\n",
      "Recall:  69.57951945080092\n",
      "f1 Score:  69.62089483122358\n"
     ]
    }
   ],
   "source": [
    "clf_dtc = DecisionTreeClassifier()\n",
    "clf_dtc.fit(X_train1, y_train1)\n",
    "y_pred_DecisionTreeClassifier= clf_dtc.predict(X_test1)\n",
    "print_score(y_test1,y_pred_DecisionTreeClassifier)"
   ]
  },
  {
   "cell_type": "code",
   "execution_count": 255,
   "metadata": {},
   "outputs": [
    {
     "name": "stderr",
     "output_type": "stream",
     "text": [
      "/anaconda3/lib/python3.6/site-packages/sklearn/ensemble/forest.py:248: FutureWarning: The default value of n_estimators will change from 10 in version 0.20 to 100 in 0.22.\n",
      "  \"10 in version 0.20 to 100 in 0.22.\", FutureWarning)\n"
     ]
    },
    {
     "name": "stdout",
     "output_type": "stream",
     "text": [
      "Accuracy:  76.24427917620137\n",
      "Precision:  75.47344743319108\n",
      "Recall:  76.24427917620137\n",
      "f1 Score:  75.37244665482528\n"
     ]
    }
   ],
   "source": [
    "clf5 = RandomForestClassifier()\n",
    "clf5.fit(X_train1, y_train1)\n",
    "y_pred_rabdom_for_test = clf5.predict(X_test1)\n",
    "print_score(y_test1,y_pred_rabdom_for_test)"
   ]
  },
  {
   "cell_type": "code",
   "execution_count": 248,
   "metadata": {},
   "outputs": [
    {
     "data": {
      "text/html": [
       "<div>\n",
       "<style scoped>\n",
       "    .dataframe tbody tr th:only-of-type {\n",
       "        vertical-align: middle;\n",
       "    }\n",
       "\n",
       "    .dataframe tbody tr th {\n",
       "        vertical-align: top;\n",
       "    }\n",
       "\n",
       "    .dataframe thead th {\n",
       "        text-align: right;\n",
       "    }\n",
       "</style>\n",
       "<table border=\"1\" class=\"dataframe\">\n",
       "  <thead>\n",
       "    <tr style=\"text-align: right;\">\n",
       "      <th></th>\n",
       "      <th>country</th>\n",
       "      <th>province</th>\n",
       "      <th>winery</th>\n",
       "      <th>variety</th>\n",
       "      <th>region_1</th>\n",
       "      <th>taster_name</th>\n",
       "      <th>price</th>\n",
       "      <th>description_length</th>\n",
       "      <th>quality_level</th>\n",
       "    </tr>\n",
       "  </thead>\n",
       "  <tbody>\n",
       "    <tr>\n",
       "      <th>2</th>\n",
       "      <td>6</td>\n",
       "      <td>43</td>\n",
       "      <td>9307</td>\n",
       "      <td>288</td>\n",
       "      <td>1079</td>\n",
       "      <td>12</td>\n",
       "      <td>14.0</td>\n",
       "      <td>186.0</td>\n",
       "      <td>2</td>\n",
       "    </tr>\n",
       "    <tr>\n",
       "      <th>3</th>\n",
       "      <td>6</td>\n",
       "      <td>30</td>\n",
       "      <td>10213</td>\n",
       "      <td>316</td>\n",
       "      <td>491</td>\n",
       "      <td>0</td>\n",
       "      <td>13.0</td>\n",
       "      <td>199.0</td>\n",
       "      <td>2</td>\n",
       "    </tr>\n",
       "    <tr>\n",
       "      <th>4</th>\n",
       "      <td>6</td>\n",
       "      <td>43</td>\n",
       "      <td>10337</td>\n",
       "      <td>292</td>\n",
       "      <td>1079</td>\n",
       "      <td>12</td>\n",
       "      <td>65.0</td>\n",
       "      <td>249.0</td>\n",
       "      <td>2</td>\n",
       "    </tr>\n",
       "    <tr>\n",
       "      <th>5</th>\n",
       "      <td>5</td>\n",
       "      <td>39</td>\n",
       "      <td>10394</td>\n",
       "      <td>394</td>\n",
       "      <td>663</td>\n",
       "      <td>11</td>\n",
       "      <td>15.0</td>\n",
       "      <td>261.0</td>\n",
       "      <td>2</td>\n",
       "    </tr>\n",
       "    <tr>\n",
       "      <th>6</th>\n",
       "      <td>4</td>\n",
       "      <td>49</td>\n",
       "      <td>10601</td>\n",
       "      <td>113</td>\n",
       "      <td>1066</td>\n",
       "      <td>8</td>\n",
       "      <td>16.0</td>\n",
       "      <td>181.0</td>\n",
       "      <td>2</td>\n",
       "    </tr>\n",
       "  </tbody>\n",
       "</table>\n",
       "</div>"
      ],
      "text/plain": [
       "   country  province  winery  variety  region_1  taster_name  price  \\\n",
       "2        6        43    9307      288      1079           12   14.0   \n",
       "3        6        30   10213      316       491            0   13.0   \n",
       "4        6        43   10337      292      1079           12   65.0   \n",
       "5        5        39   10394      394       663           11   15.0   \n",
       "6        4        49   10601      113      1066            8   16.0   \n",
       "\n",
       "   description_length  quality_level  \n",
       "2               186.0              2  \n",
       "3               199.0              2  \n",
       "4               249.0              2  \n",
       "5               261.0              2  \n",
       "6               181.0              2  "
      ]
     },
     "execution_count": 248,
     "metadata": {},
     "output_type": "execute_result"
    }
   ],
   "source": [
    "df = init_df[['country', 'province', 'winery', 'variety', 'region_1', 'taster_name', 'price', 'points','description']]\n",
    "df = df.assign(description_length = parsed_df['description'].apply(len))\n",
    "df = df.drop(['description'], axis=1)\n",
    "df = df.dropna()\n",
    "le_country = LabelEncoder()\n",
    "le_country.fit(df['country'])\n",
    "df['country']= le_country.transform(df['country'])\n",
    "# le_country_mapping = dict(zip(le_country.classes_, le_country.transform(le_country.classes_)))\n",
    "# print(le_country_mapping)\n",
    "# use the LabelEncoder function to convert the country to corresponding integers.\n",
    "le_province = LabelEncoder()\n",
    "le_province.fit(df['province'])\n",
    "df['province']= le_province.transform(df['province'])\n",
    "le_taster_name = LabelEncoder()\n",
    "le_taster_name.fit(df['taster_name'])\n",
    "df['taster_name']= le_taster_name.transform(df['taster_name'])\n",
    "le_winery = LabelEncoder()\n",
    "le_winery.fit(df['winery'])\n",
    "df['winery']= le_winery.transform(df['winery'])\n",
    "le_variety = LabelEncoder()\n",
    "le_variety.fit(df['variety'])\n",
    "df['variety']= le_variety.transform(df['variety'])\n",
    "le_designation = LabelEncoder()\n",
    "le_designation.fit(df['region_1'])\n",
    "df['region_1']= le_designation.transform(df['region_1'])\n",
    "df['quality_level'] = df.apply(GoodRating, axis=1)\n",
    "df = df.drop(['points'],1)\n",
    "df.head()\n",
    "\n"
   ]
  },
  {
   "cell_type": "code",
   "execution_count": 249,
   "metadata": {},
   "outputs": [],
   "source": [
    "X1 = df.drop([\"quality_level\"], axis=1)\n",
    "# Extract the target feature\n",
    "y1 = df['quality_level']\n",
    "X_train1, X_test1, y_train1, y_test1 = train_test_split(X1, y1, test_size=0.2, random_state=42)"
   ]
  },
  {
   "cell_type": "code",
   "execution_count": 250,
   "metadata": {},
   "outputs": [
    {
     "name": "stdout",
     "output_type": "stream",
     "text": [
      "Accuracy:  69.0654931400466\n",
      "Precision:  69.42801553065053\n",
      "Recall:  69.0654931400466\n",
      "f1 Score:  69.22820746003609\n"
     ]
    }
   ],
   "source": [
    "clf_dtc = DecisionTreeClassifier()\n",
    "clf_dtc.fit(X_train1, y_train1)\n",
    "y_pred_DecisionTreeClassifier= clf_dtc.predict(X_test1)\n",
    "print_score(y_test1,y_pred_DecisionTreeClassifier)"
   ]
  },
  {
   "cell_type": "code",
   "execution_count": 251,
   "metadata": {},
   "outputs": [
    {
     "name": "stderr",
     "output_type": "stream",
     "text": [
      "/anaconda3/lib/python3.6/site-packages/sklearn/ensemble/forest.py:248: FutureWarning: The default value of n_estimators will change from 10 in version 0.20 to 100 in 0.22.\n",
      "  \"10 in version 0.20 to 100 in 0.22.\", FutureWarning)\n"
     ]
    },
    {
     "name": "stdout",
     "output_type": "stream",
     "text": [
      "Accuracy:  76.42376391405644\n",
      "Precision:  75.50045639595277\n",
      "Recall:  76.42376391405644\n",
      "f1 Score:  75.63659511151684\n"
     ]
    }
   ],
   "source": [
    "clf5 = RandomForestClassifier()\n",
    "clf5.fit(X_train1, y_train1)\n",
    "y_pred_rabdom_for_test = clf5.predict(X_test1)\n",
    "print_score(y_test1,y_pred_rabdom_for_test)"
   ]
  },
  {
   "cell_type": "code",
   "execution_count": 260,
   "metadata": {},
   "outputs": [
    {
     "data": {
      "text/html": [
       "<div>\n",
       "<style scoped>\n",
       "    .dataframe tbody tr th:only-of-type {\n",
       "        vertical-align: middle;\n",
       "    }\n",
       "\n",
       "    .dataframe tbody tr th {\n",
       "        vertical-align: top;\n",
       "    }\n",
       "\n",
       "    .dataframe thead th {\n",
       "        text-align: right;\n",
       "    }\n",
       "</style>\n",
       "<table border=\"1\" class=\"dataframe\">\n",
       "  <thead>\n",
       "    <tr style=\"text-align: right;\">\n",
       "      <th></th>\n",
       "      <th>country</th>\n",
       "      <th>province</th>\n",
       "      <th>winery</th>\n",
       "      <th>variety</th>\n",
       "      <th>designation</th>\n",
       "      <th>region_1</th>\n",
       "      <th>taster_name</th>\n",
       "      <th>price</th>\n",
       "      <th>description_length</th>\n",
       "      <th>quality_level</th>\n",
       "    </tr>\n",
       "  </thead>\n",
       "  <tbody>\n",
       "    <tr>\n",
       "      <th>3</th>\n",
       "      <td>6</td>\n",
       "      <td>30</td>\n",
       "      <td>7357</td>\n",
       "      <td>298</td>\n",
       "      <td>17825</td>\n",
       "      <td>443</td>\n",
       "      <td>0</td>\n",
       "      <td>13.0</td>\n",
       "      <td>199.0</td>\n",
       "      <td>2</td>\n",
       "    </tr>\n",
       "    <tr>\n",
       "      <th>4</th>\n",
       "      <td>6</td>\n",
       "      <td>42</td>\n",
       "      <td>7453</td>\n",
       "      <td>276</td>\n",
       "      <td>23027</td>\n",
       "      <td>992</td>\n",
       "      <td>12</td>\n",
       "      <td>65.0</td>\n",
       "      <td>249.0</td>\n",
       "      <td>2</td>\n",
       "    </tr>\n",
       "    <tr>\n",
       "      <th>5</th>\n",
       "      <td>5</td>\n",
       "      <td>38</td>\n",
       "      <td>7498</td>\n",
       "      <td>369</td>\n",
       "      <td>1196</td>\n",
       "      <td>604</td>\n",
       "      <td>11</td>\n",
       "      <td>15.0</td>\n",
       "      <td>261.0</td>\n",
       "      <td>2</td>\n",
       "    </tr>\n",
       "    <tr>\n",
       "      <th>6</th>\n",
       "      <td>4</td>\n",
       "      <td>48</td>\n",
       "      <td>7671</td>\n",
       "      <td>105</td>\n",
       "      <td>1868</td>\n",
       "      <td>979</td>\n",
       "      <td>8</td>\n",
       "      <td>16.0</td>\n",
       "      <td>181.0</td>\n",
       "      <td>2</td>\n",
       "    </tr>\n",
       "    <tr>\n",
       "      <th>9</th>\n",
       "      <td>3</td>\n",
       "      <td>0</td>\n",
       "      <td>4619</td>\n",
       "      <td>272</td>\n",
       "      <td>12871</td>\n",
       "      <td>17</td>\n",
       "      <td>13</td>\n",
       "      <td>27.0</td>\n",
       "      <td>160.0</td>\n",
       "      <td>2</td>\n",
       "    </tr>\n",
       "  </tbody>\n",
       "</table>\n",
       "</div>"
      ],
      "text/plain": [
       "   country  province  winery  variety  designation  region_1  taster_name  \\\n",
       "3        6        30    7357      298        17825       443            0   \n",
       "4        6        42    7453      276        23027       992           12   \n",
       "5        5        38    7498      369         1196       604           11   \n",
       "6        4        48    7671      105         1868       979            8   \n",
       "9        3         0    4619      272        12871        17           13   \n",
       "\n",
       "   price  description_length  quality_level  \n",
       "3   13.0               199.0              2  \n",
       "4   65.0               249.0              2  \n",
       "5   15.0               261.0              2  \n",
       "6   16.0               181.0              2  \n",
       "9   27.0               160.0              2  "
      ]
     },
     "execution_count": 260,
     "metadata": {},
     "output_type": "execute_result"
    }
   ],
   "source": [
    "df = init_df[['country', 'province', 'winery', 'variety','designation', 'region_1', 'taster_name', 'price', 'points','description']]\n",
    "df = df.assign(description_length = parsed_df['description'].apply(len))\n",
    "df = df.drop(['description'], axis=1)\n",
    "df = df.dropna()\n",
    "le_country = LabelEncoder()\n",
    "le_country.fit(df['country'])\n",
    "df['country']= le_country.transform(df['country'])\n",
    "# le_country_mapping = dict(zip(le_country.classes_, le_country.transform(le_country.classes_)))\n",
    "# print(le_country_mapping)\n",
    "# use the LabelEncoder function to convert the country to corresponding integers.\n",
    "le_province = LabelEncoder()\n",
    "le_province.fit(df['province'])\n",
    "df['province']= le_province.transform(df['province'])\n",
    "le_taster_name = LabelEncoder()\n",
    "le_taster_name.fit(df['taster_name'])\n",
    "df['taster_name']= le_taster_name.transform(df['taster_name'])\n",
    "le_winery = LabelEncoder()\n",
    "le_winery.fit(df['winery'])\n",
    "df['winery']= le_winery.transform(df['winery'])\n",
    "le_variety = LabelEncoder()\n",
    "le_variety.fit(df['variety'])\n",
    "df['variety']= le_variety.transform(df['variety'])\n",
    "le_designation = LabelEncoder()\n",
    "le_designation.fit(df['designation'])\n",
    "df['designation']= le_designation.transform(df['designation'])\n",
    "le_region_1 = LabelEncoder()\n",
    "le_region_1.fit(df['region_1'])\n",
    "df['region_1']= le_region_1.transform(df['region_1'])\n",
    "df['quality_level'] = df.apply(GoodRating, axis=1)\n",
    "df = df.drop(['points'],1)\n",
    "df.head()"
   ]
  },
  {
   "cell_type": "code",
   "execution_count": 261,
   "metadata": {},
   "outputs": [],
   "source": [
    "X1 = df.drop([\"quality_level\"], axis=1)\n",
    "# Extract the target feature\n",
    "y1 = df['quality_level']\n",
    "X_train1, X_test1, y_train1, y_test1 = train_test_split(X1, y1, test_size=0.2, random_state=42)"
   ]
  },
  {
   "cell_type": "code",
   "execution_count": 262,
   "metadata": {},
   "outputs": [
    {
     "name": "stdout",
     "output_type": "stream",
     "text": [
      "Accuracy:  69.0972863208418\n",
      "Precision:  69.50577738995057\n",
      "Recall:  69.0972863208418\n",
      "f1 Score:  69.2781851648091\n"
     ]
    }
   ],
   "source": [
    "clf_dtc = DecisionTreeClassifier()\n",
    "clf_dtc.fit(X_train1, y_train1)\n",
    "y_pred_DecisionTreeClassifier= clf_dtc.predict(X_test1)\n",
    "print_score(y_test1,y_pred_DecisionTreeClassifier)"
   ]
  },
  {
   "cell_type": "code",
   "execution_count": 263,
   "metadata": {},
   "outputs": [
    {
     "name": "stderr",
     "output_type": "stream",
     "text": [
      "/anaconda3/lib/python3.6/site-packages/sklearn/ensemble/forest.py:248: FutureWarning: The default value of n_estimators will change from 10 in version 0.20 to 100 in 0.22.\n",
      "  \"10 in version 0.20 to 100 in 0.22.\", FutureWarning)\n"
     ]
    },
    {
     "name": "stdout",
     "output_type": "stream",
     "text": [
      "Accuracy:  76.07531844194203\n",
      "Precision:  75.15990533466935\n",
      "Recall:  76.07531844194203\n",
      "f1 Score:  75.20589448904656\n"
     ]
    }
   ],
   "source": [
    "clf5 = RandomForestClassifier()\n",
    "clf5.fit(X_train1, y_train1)\n",
    "y_pred_rabdom_for_test = clf5.predict(X_test1)\n",
    "print_score(y_test1,y_pred_rabdom_for_test)"
   ]
  },
  {
   "cell_type": "code",
   "execution_count": 264,
   "metadata": {},
   "outputs": [
    {
     "name": "stdout",
     "output_type": "stream",
     "text": [
      "Accuracy:  70.6756507291859\n",
      "Precision:  68.61730529797822\n",
      "Recall:  70.6756507291859\n",
      "f1 Score:  67.65550132045975\n"
     ]
    }
   ],
   "source": [
    "clf4 = GaussianNB()\n",
    "clf4.fit(X_train1, y_train1)\n",
    "y_pred_GaussianNB = clf4.predict(X_test1)\n",
    "print_score(y_test1,y_pred_GaussianNB)"
   ]
  },
  {
   "cell_type": "code",
   "execution_count": 265,
   "metadata": {},
   "outputs": [
    {
     "name": "stdout",
     "output_type": "stream",
     "text": [
      "Accuracy:  66.25438434557873\n",
      "Precision:  64.643147895664\n",
      "Recall:  66.25438434557873\n",
      "f1 Score:  65.2256812933911\n"
     ]
    }
   ],
   "source": [
    "knn_3 = KNeighborsClassifier(3, weights='uniform', p=2, metric='euclidean')\n",
    "knn_3.fit(X_train1, y_train1)\n",
    "y_pred_KNeighborsClassifier_3 = knn_3.predict(X_test1)\n",
    "print_score(y_test1,y_pred_KNeighborsClassifier_3)"
   ]
  },
  {
   "cell_type": "code",
   "execution_count": 266,
   "metadata": {},
   "outputs": [
    {
     "name": "stdout",
     "output_type": "stream",
     "text": [
      "Accuracy:  66.9004984308658\n",
      "Precision:  64.53163944226094\n",
      "Recall:  66.9004984308658\n",
      "f1 Score:  64.54279351470907\n"
     ]
    }
   ],
   "source": [
    "knn_4 = KNeighborsClassifier(4, weights='uniform', p=2, metric='euclidean')\n",
    "knn_4.fit(X_train1, y_train1)\n",
    "y_pred_KNeighborsClassifier_4 = knn_4.predict(X_test1)\n",
    "print_score(y_test1,y_pred_KNeighborsClassifier_4)"
   ]
  },
  {
   "cell_type": "code",
   "execution_count": null,
   "metadata": {},
   "outputs": [],
   "source": []
  }
 ],
 "metadata": {
  "kernelspec": {
   "display_name": "Python 3",
   "language": "python",
   "name": "python3"
  },
  "language_info": {
   "codemirror_mode": {
    "name": "ipython",
    "version": 3
   },
   "file_extension": ".py",
   "mimetype": "text/x-python",
   "name": "python",
   "nbconvert_exporter": "python",
   "pygments_lexer": "ipython3",
   "version": "3.6.5"
  }
 },
 "nbformat": 4,
 "nbformat_minor": 2
}
